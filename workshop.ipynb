{
 "cells": [
  {
   "cell_type": "markdown",
   "metadata": {},
   "source": [
    "# 1. Tennis Surface Check\n",
    "\n",
    "Use a linear regression and statsmodels to find which surface type predicts the most points for Federer in the `tennis.csv` dataset.\n",
    "\n",
    "1. Give a one-paragraph interpretation of the coefficients, and the meaning of the p-value. \n",
    "\n",
    "2. Answer the following: should your regression include a constant term? Why or why not? How would it change the interpretation of your coefficient and p-value?\n",
    "\n",
    "3. Do a t-test to find that the largest coefficient is statistically significantly different from the second largest (hint: you can run a t-test only with mean values and standard deviations)"
   ]
  },
  {
   "cell_type": "code",
   "execution_count": 1,
   "metadata": {},
   "outputs": [
    {
     "name": "stderr",
     "output_type": "stream",
     "text": [
      "/home/jlmgk/anaconda3/lib/python3.7/site-packages/statsmodels/base/model.py:1532: ValueWarning: covariance of constraints does not have full rank. The number of constraints is 6, but rank is 5\n",
      "  'rank is %d' % (J, J_), ValueWarning)\n"
     ]
    },
    {
     "data": {
      "text/html": [
       "<table class=\"simpletable\">\n",
       "<caption>OLS Regression Results</caption>\n",
       "<tr>\n",
       "  <th>Dep. Variable:</th>    <td>player1 total points won</td> <th>  R-squared:         </th> <td>   0.062</td> \n",
       "</tr>\n",
       "<tr>\n",
       "  <th>Model:</th>                       <td>OLS</td>           <th>  Adj. R-squared:    </th> <td>   0.058</td> \n",
       "</tr>\n",
       "<tr>\n",
       "  <th>Method:</th>                 <td>Least Squares</td>      <th>  F-statistic:       </th> <td>   966.2</td> \n",
       "</tr>\n",
       "<tr>\n",
       "  <th>Date:</th>                 <td>Fri, 15 Jan 2021</td>     <th>  Prob (F-statistic):</th>  <td>  0.00</td>  \n",
       "</tr>\n",
       "<tr>\n",
       "  <th>Time:</th>                     <td>19:38:21</td>         <th>  Log-Likelihood:    </th> <td> -5955.6</td> \n",
       "</tr>\n",
       "<tr>\n",
       "  <th>No. Observations:</th>          <td>  1179</td>          <th>  AIC:               </th> <td>1.192e+04</td>\n",
       "</tr>\n",
       "<tr>\n",
       "  <th>Df Residuals:</th>              <td>  1173</td>          <th>  BIC:               </th> <td>1.195e+04</td>\n",
       "</tr>\n",
       "<tr>\n",
       "  <th>Df Model:</th>                  <td>     5</td>          <th>                     </th>     <td> </td>    \n",
       "</tr>\n",
       "<tr>\n",
       "  <th>Covariance Type:</th>             <td>HC2</td>           <th>                     </th>     <td> </td>    \n",
       "</tr>\n",
       "</table>\n",
       "<table class=\"simpletable\">\n",
       "<tr>\n",
       "         <td></td>           <th>coef</th>     <th>std err</th>      <th>z</th>      <th>P>|z|</th>  <th>[0.025</th>    <th>0.975]</th>  \n",
       "</tr>\n",
       "<tr>\n",
       "  <th>const</th>          <td>   53.6325</td> <td>    1.003</td> <td>   53.477</td> <td> 0.000</td> <td>   51.667</td> <td>   55.598</td>\n",
       "</tr>\n",
       "<tr>\n",
       "  <th>Indoor: Hard</th>   <td>   12.5357</td> <td>    2.027</td> <td>    6.184</td> <td> 0.000</td> <td>    8.563</td> <td>   16.509</td>\n",
       "</tr>\n",
       "<tr>\n",
       "  <th>Outdoor: Hard</th>  <td>   24.2348</td> <td>    1.767</td> <td>   13.718</td> <td> 0.000</td> <td>   20.772</td> <td>   27.697</td>\n",
       "</tr>\n",
       "<tr>\n",
       "  <th>Indoor: Clay</th>   <td>  -53.6325</td> <td>    1.003</td> <td>  -53.477</td> <td> 0.000</td> <td>  -55.598</td> <td>  -51.667</td>\n",
       "</tr>\n",
       "<tr>\n",
       "  <th>Indoor: Carpet</th> <td>    8.7886</td> <td>    4.246</td> <td>    2.070</td> <td> 0.038</td> <td>    0.467</td> <td>   17.111</td>\n",
       "</tr>\n",
       "<tr>\n",
       "  <th>Outdoor: Clay</th>  <td>   22.7812</td> <td>    2.425</td> <td>    9.396</td> <td> 0.000</td> <td>   18.029</td> <td>   27.533</td>\n",
       "</tr>\n",
       "<tr>\n",
       "  <th>Outdoor: Grass</th> <td>   38.9247</td> <td>    3.016</td> <td>   12.906</td> <td> 0.000</td> <td>   33.014</td> <td>   44.836</td>\n",
       "</tr>\n",
       "</table>\n",
       "<table class=\"simpletable\">\n",
       "<tr>\n",
       "  <th>Omnibus:</th>       <td>21.727</td> <th>  Durbin-Watson:     </th> <td>   1.571</td>\n",
       "</tr>\n",
       "<tr>\n",
       "  <th>Prob(Omnibus):</th> <td> 0.000</td> <th>  Jarque-Bera (JB):  </th> <td>  25.333</td>\n",
       "</tr>\n",
       "<tr>\n",
       "  <th>Skew:</th>          <td>-0.261</td> <th>  Prob(JB):          </th> <td>3.15e-06</td>\n",
       "</tr>\n",
       "<tr>\n",
       "  <th>Kurtosis:</th>      <td> 3.493</td> <th>  Cond. No.          </th> <td>1.69e+16</td>\n",
       "</tr>\n",
       "</table><br/><br/>Warnings:<br/>[1] Standard Errors are heteroscedasticity robust (HC2)<br/>[2] The smallest eigenvalue is 5.32e-30. This might indicate that there are<br/>strong multicollinearity problems or that the design matrix is singular."
      ],
      "text/plain": [
       "<class 'statsmodels.iolib.summary.Summary'>\n",
       "\"\"\"\n",
       "                               OLS Regression Results                               \n",
       "====================================================================================\n",
       "Dep. Variable:     player1 total points won   R-squared:                       0.062\n",
       "Model:                                  OLS   Adj. R-squared:                  0.058\n",
       "Method:                       Least Squares   F-statistic:                     966.2\n",
       "Date:                      Fri, 15 Jan 2021   Prob (F-statistic):               0.00\n",
       "Time:                              19:38:21   Log-Likelihood:                -5955.6\n",
       "No. Observations:                      1179   AIC:                         1.192e+04\n",
       "Df Residuals:                          1173   BIC:                         1.195e+04\n",
       "Df Model:                                 5                                         \n",
       "Covariance Type:                        HC2                                         \n",
       "==================================================================================\n",
       "                     coef    std err          z      P>|z|      [0.025      0.975]\n",
       "----------------------------------------------------------------------------------\n",
       "const             53.6325      1.003     53.477      0.000      51.667      55.598\n",
       "Indoor: Hard      12.5357      2.027      6.184      0.000       8.563      16.509\n",
       "Outdoor: Hard     24.2348      1.767     13.718      0.000      20.772      27.697\n",
       "Indoor: Clay     -53.6325      1.003    -53.477      0.000     -55.598     -51.667\n",
       "Indoor: Carpet     8.7886      4.246      2.070      0.038       0.467      17.111\n",
       "Outdoor: Clay     22.7812      2.425      9.396      0.000      18.029      27.533\n",
       "Outdoor: Grass    38.9247      3.016     12.906      0.000      33.014      44.836\n",
       "==============================================================================\n",
       "Omnibus:                       21.727   Durbin-Watson:                   1.571\n",
       "Prob(Omnibus):                  0.000   Jarque-Bera (JB):               25.333\n",
       "Skew:                          -0.261   Prob(JB):                     3.15e-06\n",
       "Kurtosis:                       3.493   Cond. No.                     1.69e+16\n",
       "==============================================================================\n",
       "\n",
       "Warnings:\n",
       "[1] Standard Errors are heteroscedasticity robust (HC2)\n",
       "[2] The smallest eigenvalue is 5.32e-30. This might indicate that there are\n",
       "strong multicollinearity problems or that the design matrix is singular.\n",
       "\"\"\""
      ]
     },
     "execution_count": 1,
     "metadata": {},
     "output_type": "execute_result"
    }
   ],
   "source": [
    "import matplotlib.pyplot as plt\n",
    "import numpy as np\n",
    "import seaborn as sns\n",
    "import statsmodels.api as sm\n",
    "import pandas as pd\n",
    "from sklearn.preprocessing import PolynomialFeatures\n",
    "\n",
    "te = pd.read_csv('data/tennis.csv')\n",
    "te = te.fillna(0.)\n",
    "\n",
    "surfaces = list(set(list(te.surface)))\n",
    "for surface in surfaces:\n",
    "    te[surface] = te['surface'].map(lambda row: 1 if row == surface else 0)\n",
    "    \n",
    "te[surfaces + ['player1 total points won']]\n",
    "# te.columns\n",
    "y = te['player1 total points won']\n",
    "\n",
    "x = sm.add_constant(te[surfaces])\n",
    "model = sm.OLS(y,x).fit(cov_type='HC2')\n",
    "model.summary()"
   ]
  },
  {
   "cell_type": "markdown",
   "metadata": {},
   "source": [
    "#### 1. Coeffs and p-values\n",
    "\n",
    "It is worth noting our R squares i very low, variations are high around the predictors. However, this should not pose a problem since tennis games are trully never \"predictable\", per-se.\n",
    "\n",
    "##### Coeffs\n",
    "Two main things stand out: Indoor: Clay court is the only negative coefficient when predicting points, whereas Indoor: Carpet is the smallest coefficient. These coefficients indicate, in a positive coeffococase, that the more Federer plays on a positive coefficient surface (such as Grass), then more he is likely to score points or as many points as before on average . Contrarily, should he keep playing on negative coefficient surfaces, he will likely score less and less points  on average. This means Federer in consistently underperforming on Indoor Carpet courts, wheras he is performing consistently on all other types of courts. \n",
    "\n",
    "##### P-value\n",
    "On the other hand, the Carpet court's p-value is the only non-zero p-value and s above our $\\alpha = 0.01$, meaning we should not reject the null jupothesis for Carpet courts, and should disregard carpet courts as significant predictors."
   ]
  },
  {
   "cell_type": "code",
   "execution_count": 2,
   "metadata": {},
   "outputs": [
    {
     "data": {
      "text/plain": [
       "Outdoor: Hard     482\n",
       "Outdoor: Clay     249\n",
       "Indoor: Hard      226\n",
       "Outdoor: Grass    140\n",
       "Indoor: Carpet     76\n",
       "Indoor: Clay        6\n",
       "Name: surface, dtype: int64"
      ]
     },
     "execution_count": 2,
     "metadata": {},
     "output_type": "execute_result"
    }
   ],
   "source": [
    "te.surface.value_counts()"
   ]
  },
  {
   "cell_type": "markdown",
   "metadata": {},
   "source": [
    "In fact, we can assume this since the number of Indoor: Clay and Indoor: Carpet games are not numerous to be significant. We'll exclude those, let's isolate the most significant surfaces"
   ]
  },
  {
   "cell_type": "code",
   "execution_count": 3,
   "metadata": {},
   "outputs": [
    {
     "name": "stdout",
     "output_type": "stream",
     "text": [
      "Outdoor: Hard     482\n",
      "Outdoor: Clay     249\n",
      "Indoor: Hard      226\n",
      "Outdoor: Grass    140\n",
      "Indoor: Clay        6\n",
      "Name: surface, dtype: int64\n"
     ]
    },
    {
     "name": "stderr",
     "output_type": "stream",
     "text": [
      "/home/jlmgk/anaconda3/lib/python3.7/site-packages/statsmodels/base/model.py:1532: ValueWarning: covariance of constraints does not have full rank. The number of constraints is 5, but rank is 4\n",
      "  'rank is %d' % (J, J_), ValueWarning)\n"
     ]
    },
    {
     "data": {
      "text/html": [
       "<table class=\"simpletable\">\n",
       "<caption>OLS Regression Results</caption>\n",
       "<tr>\n",
       "  <th>Dep. Variable:</th>    <td>player1 total points won</td> <th>  R-squared:         </th> <td>   0.058</td> \n",
       "</tr>\n",
       "<tr>\n",
       "  <th>Model:</th>                       <td>OLS</td>           <th>  Adj. R-squared:    </th> <td>   0.055</td> \n",
       "</tr>\n",
       "<tr>\n",
       "  <th>Method:</th>                 <td>Least Squares</td>      <th>  F-statistic:       </th> <td>   1167.</td> \n",
       "</tr>\n",
       "<tr>\n",
       "  <th>Date:</th>                 <td>Fri, 15 Jan 2021</td>     <th>  Prob (F-statistic):</th>  <td>  0.00</td>  \n",
       "</tr>\n",
       "<tr>\n",
       "  <th>Time:</th>                     <td>19:38:23</td>         <th>  Log-Likelihood:    </th> <td> -5562.1</td> \n",
       "</tr>\n",
       "<tr>\n",
       "  <th>No. Observations:</th>          <td>  1103</td>          <th>  AIC:               </th> <td>1.113e+04</td>\n",
       "</tr>\n",
       "<tr>\n",
       "  <th>Df Residuals:</th>              <td>  1098</td>          <th>  BIC:               </th> <td>1.116e+04</td>\n",
       "</tr>\n",
       "<tr>\n",
       "  <th>Df Model:</th>                  <td>     4</td>          <th>                     </th>     <td> </td>    \n",
       "</tr>\n",
       "<tr>\n",
       "  <th>Covariance Type:</th>             <td>HC2</td>           <th>                     </th>     <td> </td>    \n",
       "</tr>\n",
       "</table>\n",
       "<table class=\"simpletable\">\n",
       "<tr>\n",
       "         <td></td>           <th>coef</th>     <th>std err</th>      <th>z</th>      <th>P>|z|</th>  <th>[0.025</th>    <th>0.975]</th>  \n",
       "</tr>\n",
       "<tr>\n",
       "  <th>const</th>          <td>   52.1677</td> <td>    0.841</td> <td>   62.040</td> <td> 0.000</td> <td>   50.520</td> <td>   53.816</td>\n",
       "</tr>\n",
       "<tr>\n",
       "  <th>Indoor: Hard</th>   <td>   14.0004</td> <td>    1.898</td> <td>    7.376</td> <td> 0.000</td> <td>   10.280</td> <td>   17.721</td>\n",
       "</tr>\n",
       "<tr>\n",
       "  <th>Outdoor: Hard</th>  <td>   25.6995</td> <td>    1.637</td> <td>   15.695</td> <td> 0.000</td> <td>   22.490</td> <td>   28.909</td>\n",
       "</tr>\n",
       "<tr>\n",
       "  <th>Indoor: Clay</th>   <td>  -52.1677</td> <td>    0.841</td> <td>  -62.040</td> <td> 0.000</td> <td>  -53.816</td> <td>  -50.520</td>\n",
       "</tr>\n",
       "<tr>\n",
       "  <th>Outdoor: Clay</th>  <td>   24.2460</td> <td>    2.292</td> <td>   10.577</td> <td> 0.000</td> <td>   19.753</td> <td>   28.739</td>\n",
       "</tr>\n",
       "<tr>\n",
       "  <th>Outdoor: Grass</th> <td>   40.3894</td> <td>    2.874</td> <td>   14.055</td> <td> 0.000</td> <td>   34.757</td> <td>   46.022</td>\n",
       "</tr>\n",
       "</table>\n",
       "<table class=\"simpletable\">\n",
       "<tr>\n",
       "  <th>Omnibus:</th>       <td>24.257</td> <th>  Durbin-Watson:     </th> <td>   1.586</td>\n",
       "</tr>\n",
       "<tr>\n",
       "  <th>Prob(Omnibus):</th> <td> 0.000</td> <th>  Jarque-Bera (JB):  </th> <td>  29.667</td>\n",
       "</tr>\n",
       "<tr>\n",
       "  <th>Skew:</th>          <td>-0.277</td> <th>  Prob(JB):          </th> <td>3.61e-07</td>\n",
       "</tr>\n",
       "<tr>\n",
       "  <th>Kurtosis:</th>      <td> 3.582</td> <th>  Cond. No.          </th> <td>6.47e+15</td>\n",
       "</tr>\n",
       "</table><br/><br/>Warnings:<br/>[1] Standard Errors are heteroscedasticity robust (HC2)<br/>[2] The smallest eigenvalue is 3.47e-29. This might indicate that there are<br/>strong multicollinearity problems or that the design matrix is singular."
      ],
      "text/plain": [
       "<class 'statsmodels.iolib.summary.Summary'>\n",
       "\"\"\"\n",
       "                               OLS Regression Results                               \n",
       "====================================================================================\n",
       "Dep. Variable:     player1 total points won   R-squared:                       0.058\n",
       "Model:                                  OLS   Adj. R-squared:                  0.055\n",
       "Method:                       Least Squares   F-statistic:                     1167.\n",
       "Date:                      Fri, 15 Jan 2021   Prob (F-statistic):               0.00\n",
       "Time:                              19:38:23   Log-Likelihood:                -5562.1\n",
       "No. Observations:                      1103   AIC:                         1.113e+04\n",
       "Df Residuals:                          1098   BIC:                         1.116e+04\n",
       "Df Model:                                 4                                         \n",
       "Covariance Type:                        HC2                                         \n",
       "==================================================================================\n",
       "                     coef    std err          z      P>|z|      [0.025      0.975]\n",
       "----------------------------------------------------------------------------------\n",
       "const             52.1677      0.841     62.040      0.000      50.520      53.816\n",
       "Indoor: Hard      14.0004      1.898      7.376      0.000      10.280      17.721\n",
       "Outdoor: Hard     25.6995      1.637     15.695      0.000      22.490      28.909\n",
       "Indoor: Clay     -52.1677      0.841    -62.040      0.000     -53.816     -50.520\n",
       "Outdoor: Clay     24.2460      2.292     10.577      0.000      19.753      28.739\n",
       "Outdoor: Grass    40.3894      2.874     14.055      0.000      34.757      46.022\n",
       "==============================================================================\n",
       "Omnibus:                       24.257   Durbin-Watson:                   1.586\n",
       "Prob(Omnibus):                  0.000   Jarque-Bera (JB):               29.667\n",
       "Skew:                          -0.277   Prob(JB):                     3.61e-07\n",
       "Kurtosis:                       3.582   Cond. No.                     6.47e+15\n",
       "==============================================================================\n",
       "\n",
       "Warnings:\n",
       "[1] Standard Errors are heteroscedasticity robust (HC2)\n",
       "[2] The smallest eigenvalue is 3.47e-29. This might indicate that there are\n",
       "strong multicollinearity problems or that the design matrix is singular.\n",
       "\"\"\""
      ]
     },
     "execution_count": 3,
     "metadata": {},
     "output_type": "execute_result"
    }
   ],
   "source": [
    "def filter_down_surfaces(te, remove=[], add_constant=True):\n",
    "    tec = te.copy()\n",
    "    for rem in remove:        \n",
    "        tec = tec[tec.surface != rem]\n",
    "    y = tec['player1 total points won']\n",
    "    surfaces = list(set(list(tec.surface)))\n",
    "    print(tec.surface.value_counts())\n",
    "    for surface in surfaces:\n",
    "        tec[surface] = tec['surface'].map(lambda row: 1 if row == surface else 0)\n",
    "    x = tec[surfaces]\n",
    "    if add_constant:\n",
    "        x = sm.add_constant(tec[surfaces])\n",
    "    model = sm.OLS(y,x).fit(cov_type='HC2')\n",
    "    summary = model.summary2()\n",
    "    table = summary.tables[1]\n",
    "    table = table[table['P>|z|'] > 0.01]\n",
    "    if table.count()['P>|z|'] > 0:\n",
    "        return filter_down_surfaces(te, list(table.index),add_constant=add_constant)\n",
    "    return model\n",
    "\n",
    "model2 = filter_down_surfaces(te, ['Indoor: Carpet'])\n",
    "model2.summary()"
   ]
  },
  {
   "cell_type": "markdown",
   "metadata": {},
   "source": [
    "We now only have zero-value p-values for surfaces which we should consider. However, we can see now that by having removed some values for surfaces, our $R^2$ has gone down by 0.004, indicating our fit might not be as accurate (although ever so slightly).\n",
    "\n",
    "Despite this, our p-values being non-zero and bellow our alpha of 0.01, we can reject the null hypothessis for Outdoor Clay, Grass, Hard and Indoor Hard and Clay surfaces.\n",
    "\n",
    "We now see see that the highest coefficient, is for Outdoor Grass at 40.3894. This suggests, should Federer play on Outdoor Grass, it is very likely he will score more 2.8 times more points than on Indoor hard surfaces, "
   ]
  },
  {
   "cell_type": "markdown",
   "metadata": {},
   "source": [
    "#### 2. Constant Term\n",
    "Let's proceed by removing Constant Terms."
   ]
  },
  {
   "cell_type": "code",
   "execution_count": 4,
   "metadata": {},
   "outputs": [
    {
     "name": "stdout",
     "output_type": "stream",
     "text": [
      "Outdoor: Hard     482\n",
      "Outdoor: Clay     249\n",
      "Indoor: Hard      226\n",
      "Outdoor: Grass    140\n",
      "Indoor: Carpet     76\n",
      "Indoor: Clay        6\n",
      "Name: surface, dtype: int64\n"
     ]
    },
    {
     "name": "stderr",
     "output_type": "stream",
     "text": [
      "/home/jlmgk/anaconda3/lib/python3.7/site-packages/statsmodels/base/model.py:1100: RuntimeWarning: invalid value encountered in true_divide\n",
      "  return self.params / self.bse\n",
      "/home/jlmgk/anaconda3/lib/python3.7/site-packages/scipy/stats/_distn_infrastructure.py:879: RuntimeWarning: invalid value encountered in greater\n",
      "  return (self.a < x) & (x < self.b)\n",
      "/home/jlmgk/anaconda3/lib/python3.7/site-packages/scipy/stats/_distn_infrastructure.py:879: RuntimeWarning: invalid value encountered in less\n",
      "  return (self.a < x) & (x < self.b)\n",
      "/home/jlmgk/anaconda3/lib/python3.7/site-packages/scipy/stats/_distn_infrastructure.py:1821: RuntimeWarning: invalid value encountered in less_equal\n",
      "  cond2 = cond0 & (x <= self.a)\n"
     ]
    },
    {
     "data": {
      "text/html": [
       "<table class=\"simpletable\">\n",
       "<caption>OLS Regression Results</caption>\n",
       "<tr>\n",
       "  <th>Dep. Variable:</th>    <td>player1 total points won</td> <th>  R-squared:         </th> <td>   0.062</td> \n",
       "</tr>\n",
       "<tr>\n",
       "  <th>Model:</th>                       <td>OLS</td>           <th>  Adj. R-squared:    </th> <td>   0.058</td> \n",
       "</tr>\n",
       "<tr>\n",
       "  <th>Method:</th>                 <td>Least Squares</td>      <th>  F-statistic:       </th> <td>     nan</td> \n",
       "</tr>\n",
       "<tr>\n",
       "  <th>Date:</th>                 <td>Fri, 15 Jan 2021</td>     <th>  Prob (F-statistic):</th>  <td>   nan</td>  \n",
       "</tr>\n",
       "<tr>\n",
       "  <th>Time:</th>                     <td>19:38:26</td>         <th>  Log-Likelihood:    </th> <td> -5955.6</td> \n",
       "</tr>\n",
       "<tr>\n",
       "  <th>No. Observations:</th>          <td>  1179</td>          <th>  AIC:               </th> <td>1.192e+04</td>\n",
       "</tr>\n",
       "<tr>\n",
       "  <th>Df Residuals:</th>              <td>  1173</td>          <th>  BIC:               </th> <td>1.195e+04</td>\n",
       "</tr>\n",
       "<tr>\n",
       "  <th>Df Model:</th>                  <td>     5</td>          <th>                     </th>     <td> </td>    \n",
       "</tr>\n",
       "<tr>\n",
       "  <th>Covariance Type:</th>             <td>HC2</td>           <th>                     </th>     <td> </td>    \n",
       "</tr>\n",
       "</table>\n",
       "<table class=\"simpletable\">\n",
       "<tr>\n",
       "         <td></td>           <th>coef</th>     <th>std err</th>      <th>z</th>      <th>P>|z|</th>  <th>[0.025</th>    <th>0.975]</th>  \n",
       "</tr>\n",
       "<tr>\n",
       "  <th>Indoor: Hard</th>   <td>   66.1681</td> <td>    2.084</td> <td>   31.746</td> <td> 0.000</td> <td>   62.083</td> <td>   70.253</td>\n",
       "</tr>\n",
       "<tr>\n",
       "  <th>Outdoor: Hard</th>  <td>   77.8672</td> <td>    1.721</td> <td>   45.249</td> <td> 0.000</td> <td>   74.494</td> <td>   81.240</td>\n",
       "</tr>\n",
       "<tr>\n",
       "  <th>Indoor: Clay</th>   <td>         0</td> <td>        0</td> <td>      nan</td> <td>   nan</td> <td>        0</td> <td>        0</td>\n",
       "</tr>\n",
       "<tr>\n",
       "  <th>Indoor: Carpet</th> <td>   62.4211</td> <td>    4.882</td> <td>   12.787</td> <td> 0.000</td> <td>   52.853</td> <td>   71.989</td>\n",
       "</tr>\n",
       "<tr>\n",
       "  <th>Outdoor: Clay</th>  <td>   76.4137</td> <td>    2.612</td> <td>   29.256</td> <td> 0.000</td> <td>   71.294</td> <td>   81.533</td>\n",
       "</tr>\n",
       "<tr>\n",
       "  <th>Outdoor: Grass</th> <td>   92.5571</td> <td>    3.365</td> <td>   27.502</td> <td> 0.000</td> <td>   85.961</td> <td>   99.153</td>\n",
       "</tr>\n",
       "</table>\n",
       "<table class=\"simpletable\">\n",
       "<tr>\n",
       "  <th>Omnibus:</th>       <td>21.727</td> <th>  Durbin-Watson:     </th> <td>   1.571</td>\n",
       "</tr>\n",
       "<tr>\n",
       "  <th>Prob(Omnibus):</th> <td> 0.000</td> <th>  Jarque-Bera (JB):  </th> <td>  25.333</td>\n",
       "</tr>\n",
       "<tr>\n",
       "  <th>Skew:</th>          <td>-0.261</td> <th>  Prob(JB):          </th> <td>3.15e-06</td>\n",
       "</tr>\n",
       "<tr>\n",
       "  <th>Kurtosis:</th>      <td> 3.493</td> <th>  Cond. No.          </th> <td>    8.96</td>\n",
       "</tr>\n",
       "</table><br/><br/>Warnings:<br/>[1] Standard Errors are heteroscedasticity robust (HC2)"
      ],
      "text/plain": [
       "<class 'statsmodels.iolib.summary.Summary'>\n",
       "\"\"\"\n",
       "                               OLS Regression Results                               \n",
       "====================================================================================\n",
       "Dep. Variable:     player1 total points won   R-squared:                       0.062\n",
       "Model:                                  OLS   Adj. R-squared:                  0.058\n",
       "Method:                       Least Squares   F-statistic:                       nan\n",
       "Date:                      Fri, 15 Jan 2021   Prob (F-statistic):                nan\n",
       "Time:                              19:38:26   Log-Likelihood:                -5955.6\n",
       "No. Observations:                      1179   AIC:                         1.192e+04\n",
       "Df Residuals:                          1173   BIC:                         1.195e+04\n",
       "Df Model:                                 5                                         \n",
       "Covariance Type:                        HC2                                         \n",
       "==================================================================================\n",
       "                     coef    std err          z      P>|z|      [0.025      0.975]\n",
       "----------------------------------------------------------------------------------\n",
       "Indoor: Hard      66.1681      2.084     31.746      0.000      62.083      70.253\n",
       "Outdoor: Hard     77.8672      1.721     45.249      0.000      74.494      81.240\n",
       "Indoor: Clay            0          0        nan        nan           0           0\n",
       "Indoor: Carpet    62.4211      4.882     12.787      0.000      52.853      71.989\n",
       "Outdoor: Clay     76.4137      2.612     29.256      0.000      71.294      81.533\n",
       "Outdoor: Grass    92.5571      3.365     27.502      0.000      85.961      99.153\n",
       "==============================================================================\n",
       "Omnibus:                       21.727   Durbin-Watson:                   1.571\n",
       "Prob(Omnibus):                  0.000   Jarque-Bera (JB):               25.333\n",
       "Skew:                          -0.261   Prob(JB):                     3.15e-06\n",
       "Kurtosis:                       3.493   Cond. No.                         8.96\n",
       "==============================================================================\n",
       "\n",
       "Warnings:\n",
       "[1] Standard Errors are heteroscedasticity robust (HC2)\n",
       "\"\"\""
      ]
     },
     "execution_count": 4,
     "metadata": {},
     "output_type": "execute_result"
    }
   ],
   "source": [
    "model3 = filter_down_surfaces(te, [], add_constant=False)\n",
    "model3.summary()"
   ]
  },
  {
   "cell_type": "markdown",
   "metadata": {},
   "source": [
    "We can tell right away that by ommitting the Constant Term, we've increased our $R^2$ by 0.004, which is not significant. This is expected since our predictor is the type of court surface, which is not a continuous variable, but a qualitative one.\n",
    "\n",
    "Additionally, we can also tell that not having the constant terms does not change the difference in coefficients in any significant way. The mean of points per surface type is shown rather than the difference between the points mean per surface courts.\n",
    "\n",
    "Therefore, adding or ommiting the Constant Term has no impact on prediction or fit."
   ]
  },
  {
   "cell_type": "markdown",
   "metadata": {},
   "source": [
    "#### 3. T-Test"
   ]
  },
  {
   "cell_type": "code",
   "execution_count": 5,
   "metadata": {},
   "outputs": [
    {
     "name": "stdout",
     "output_type": "stream",
     "text": [
      "We reject the null hypothesis, the top two coeffs are statistically significantly different\n"
     ]
    },
    {
     "data": {
      "text/plain": [
       "7.085417056631752e-05"
      ]
     },
     "execution_count": 5,
     "metadata": {},
     "output_type": "execute_result"
    }
   ],
   "source": [
    "from scipy.stats import ttest_ind_from_stats\n",
    "top2 = model3.params.sort_values(ascending=False).nlargest(2)\n",
    "top2\n",
    "df = pd.DataFrame({\n",
    "    'Court': list(top2.index)\n",
    "})\n",
    "te[te.surface == 'Outdoor: Grass']\n",
    "df['NSize'] = df.Court.apply(lambda x: te[te.surface == x].surface.count())\n",
    "df['CMean'] = df.Court.apply(lambda x: te[te.surface == x]['player1 total points won'].mean())\n",
    "df['CVar'] = df.Court.apply(lambda x: te[te.surface == x]['player1 total points won'].var())\n",
    "\n",
    "first = df.iloc[0]\n",
    "second = one = df.iloc[1]\n",
    "_, pvalue = ttest_ind_from_stats(mean1=first.CMean, std1=np.sqrt(first.CVar), nobs1=first.NSize,\n",
    "                     mean2=second.CMean, std2=np.sqrt(second.CVar), nobs2=second.NSize)\n",
    "if pvalue <= 0.01:\n",
    "    print(\"We reject the null hypothesis, the top two coeffs are statistically significantly different\")\n",
    "else:\n",
    "    print(\"We accept the null hypothesis, the top two coeffs are not statistically significantly different\")\n",
    "pvalue"
   ]
  },
  {
   "cell_type": "markdown",
   "metadata": {},
   "source": [
    "# 2. Titanic prediction contest\n",
    "\n",
    "Use whatever tricks you can to best model whether a passenger would survive the titanic disaster (using linear regression).\n",
    "\n",
    "1. Use non-regularized regression to build the best model you can. Show 2 alternate model speficications and explain why you chose the one you did\n",
    "\n",
    "2. Interpret the coefficients in your model. Which attributes best relate to survival probability? How does this relate to socio-economic characteristics and \"real-world\" interpretation?\n",
    "\n",
    "3. Use regularized regression to build a purely predictive model. Can you improve your accuracy? Plot the regularized model against the interpretable model predictions in a regression plot to make your case."
   ]
  },
  {
   "cell_type": "code",
   "execution_count": 6,
   "metadata": {},
   "outputs": [],
   "source": [
    "import seaborn as sns\n",
    "\n",
    "ti = sns.load_dataset('titanic')\n",
    "values = {\n",
    "    'who': {\n",
    "        'man': 0,\n",
    "        'woman': 1,\n",
    "        'child': 2\n",
    "    },\n",
    "    'sex': {\n",
    "        'male': 1,\n",
    "        'female': 0\n",
    "    },\n",
    "    'alone':{False: 0, True: 1},\n",
    "    'adult_male':{False: 0, True: 1},\n",
    "}\n",
    "\n",
    "\"\"\"\n",
    "Only works if the list has no duplicates\n",
    "\"\"\"\n",
    "def remove_from_cols(df, remove=[]):\n",
    "    return list(set(df.columns.tolist()) - set(remove))\n",
    "\n",
    "def dummy_ize_data(df, vmap):\n",
    "    dft = df.copy()\n",
    "    for mapping in vmap.keys():\n",
    "        dft[mapping] = dft[mapping].map(vmap[mapping])\n",
    "\n",
    "    for categoricals in ['embark_town','class','embarked','deck']:\n",
    "        uniques = dft[categoricals].value_counts().index.tolist()\n",
    "#         print(uniques)\n",
    "        vmap[categoricals] = {uniques[i]: i  for i in range(len(uniques))}\n",
    "        dft[categoricals] = dft[categoricals].map(vmap[categoricals])\n",
    "    return dft\n",
    "\n",
    "def slim_data(df):\n",
    "    if df[df['alive'] == df['survived']]['survived'].count() == df['survived'].count():\n",
    "        dft = df.copy()\n",
    "        return dft.drop(columns=['alive'])\n",
    "    return df"
   ]
  },
  {
   "cell_type": "code",
   "execution_count": 7,
   "metadata": {},
   "outputs": [],
   "source": [
    "ttc = dummy_ize_data(ti, values)\n",
    "# ttc"
   ]
  },
  {
   "cell_type": "code",
   "execution_count": 8,
   "metadata": {},
   "outputs": [],
   "source": [
    "\"\"\"\n",
    "Test to see if \"survive\" and \"alive\" are the same, if so,\n",
    "we can drop \"alive\" since we're looking at who survived.\n",
    ".. you can only be alive if you survived\n",
    "\"\"\"\n",
    "titanic = slim_data(ttc)\n",
    "titanic = titanic.drop(columns=['alive'])\n",
    "titanic = titanic.dropna()\n",
    "# titanic"
   ]
  },
  {
   "cell_type": "markdown",
   "metadata": {},
   "source": [
    "# 1. Model"
   ]
  },
  {
   "cell_type": "code",
   "execution_count": 9,
   "metadata": {},
   "outputs": [
    {
     "name": "stderr",
     "output_type": "stream",
     "text": [
      "/home/jlmgk/anaconda3/lib/python3.7/site-packages/statsmodels/base/model.py:1532: ValueWarning: covariance of constraints does not have full rank. The number of constraints is 13, but rank is 12\n",
      "  'rank is %d' % (J, J_), ValueWarning)\n"
     ]
    },
    {
     "data": {
      "text/html": [
       "<table class=\"simpletable\">\n",
       "<caption>OLS Regression Results</caption>\n",
       "<tr>\n",
       "  <th>Dep. Variable:</th>        <td>survived</td>     <th>  R-squared:         </th> <td>   0.404</td>\n",
       "</tr>\n",
       "<tr>\n",
       "  <th>Model:</th>                   <td>OLS</td>       <th>  Adj. R-squared:    </th> <td>   0.362</td>\n",
       "</tr>\n",
       "<tr>\n",
       "  <th>Method:</th>             <td>Least Squares</td>  <th>  F-statistic:       </th> <td>   12.35</td>\n",
       "</tr>\n",
       "<tr>\n",
       "  <th>Date:</th>             <td>Fri, 15 Jan 2021</td> <th>  Prob (F-statistic):</th> <td>7.91e-18</td>\n",
       "</tr>\n",
       "<tr>\n",
       "  <th>Time:</th>                 <td>19:38:33</td>     <th>  Log-Likelihood:    </th> <td> -72.954</td>\n",
       "</tr>\n",
       "<tr>\n",
       "  <th>No. Observations:</th>      <td>   182</td>      <th>  AIC:               </th> <td>   171.9</td>\n",
       "</tr>\n",
       "<tr>\n",
       "  <th>Df Residuals:</th>          <td>   169</td>      <th>  BIC:               </th> <td>   213.6</td>\n",
       "</tr>\n",
       "<tr>\n",
       "  <th>Df Model:</th>              <td>    12</td>      <th>                     </th>     <td> </td>   \n",
       "</tr>\n",
       "<tr>\n",
       "  <th>Covariance Type:</th>         <td>HC2</td>       <th>                     </th>     <td> </td>   \n",
       "</tr>\n",
       "</table>\n",
       "<table class=\"simpletable\">\n",
       "<tr>\n",
       "       <td></td>          <th>coef</th>     <th>std err</th>      <th>z</th>      <th>P>|z|</th>  <th>[0.025</th>    <th>0.975]</th>  \n",
       "</tr>\n",
       "<tr>\n",
       "  <th>const</th>       <td>    1.5166</td> <td>    0.285</td> <td>    5.319</td> <td> 0.000</td> <td>    0.958</td> <td>    2.075</td>\n",
       "</tr>\n",
       "<tr>\n",
       "  <th>pclass</th>      <td>   -0.1573</td> <td>    0.090</td> <td>   -1.752</td> <td> 0.080</td> <td>   -0.333</td> <td>    0.019</td>\n",
       "</tr>\n",
       "<tr>\n",
       "  <th>alone</th>       <td>   -0.0619</td> <td>    0.081</td> <td>   -0.763</td> <td> 0.445</td> <td>   -0.221</td> <td>    0.097</td>\n",
       "</tr>\n",
       "<tr>\n",
       "  <th>class</th>       <td>    0.0207</td> <td>    0.086</td> <td>    0.240</td> <td> 0.810</td> <td>   -0.148</td> <td>    0.190</td>\n",
       "</tr>\n",
       "<tr>\n",
       "  <th>fare</th>        <td>    0.0007</td> <td>    0.000</td> <td>    1.619</td> <td> 0.106</td> <td>   -0.000</td> <td>    0.001</td>\n",
       "</tr>\n",
       "<tr>\n",
       "  <th>embarked</th>    <td>    0.0117</td> <td>    0.028</td> <td>    0.413</td> <td> 0.680</td> <td>   -0.044</td> <td>    0.067</td>\n",
       "</tr>\n",
       "<tr>\n",
       "  <th>who</th>         <td>   -0.3061</td> <td>    0.223</td> <td>   -1.374</td> <td> 0.170</td> <td>   -0.743</td> <td>    0.131</td>\n",
       "</tr>\n",
       "<tr>\n",
       "  <th>adult_male</th>  <td>   -1.1615</td> <td>    0.429</td> <td>   -2.707</td> <td> 0.007</td> <td>   -2.002</td> <td>   -0.321</td>\n",
       "</tr>\n",
       "<tr>\n",
       "  <th>sibsp</th>       <td>   -0.0168</td> <td>    0.047</td> <td>   -0.358</td> <td> 0.721</td> <td>   -0.109</td> <td>    0.075</td>\n",
       "</tr>\n",
       "<tr>\n",
       "  <th>parch</th>       <td>   -0.0976</td> <td>    0.045</td> <td>   -2.148</td> <td> 0.032</td> <td>   -0.187</td> <td>   -0.009</td>\n",
       "</tr>\n",
       "<tr>\n",
       "  <th>embark_town</th> <td>    0.0117</td> <td>    0.028</td> <td>    0.413</td> <td> 0.680</td> <td>   -0.044</td> <td>    0.067</td>\n",
       "</tr>\n",
       "<tr>\n",
       "  <th>sex</th>         <td>    0.3140</td> <td>    0.215</td> <td>    1.464</td> <td> 0.143</td> <td>   -0.106</td> <td>    0.734</td>\n",
       "</tr>\n",
       "<tr>\n",
       "  <th>deck</th>        <td>    0.0465</td> <td>    0.026</td> <td>    1.825</td> <td> 0.068</td> <td>   -0.003</td> <td>    0.097</td>\n",
       "</tr>\n",
       "<tr>\n",
       "  <th>age</th>         <td>   -0.0046</td> <td>    0.002</td> <td>   -1.987</td> <td> 0.047</td> <td>   -0.009</td> <td>-6.32e-05</td>\n",
       "</tr>\n",
       "</table>\n",
       "<table class=\"simpletable\">\n",
       "<tr>\n",
       "  <th>Omnibus:</th>       <td> 2.737</td> <th>  Durbin-Watson:     </th> <td>   2.080</td>\n",
       "</tr>\n",
       "<tr>\n",
       "  <th>Prob(Omnibus):</th> <td> 0.254</td> <th>  Jarque-Bera (JB):  </th> <td>   2.394</td>\n",
       "</tr>\n",
       "<tr>\n",
       "  <th>Skew:</th>          <td> 0.181</td> <th>  Prob(JB):          </th> <td>   0.302</td>\n",
       "</tr>\n",
       "<tr>\n",
       "  <th>Kurtosis:</th>      <td> 2.571</td> <th>  Cond. No.          </th> <td>1.43e+18</td>\n",
       "</tr>\n",
       "</table><br/><br/>Warnings:<br/>[1] Standard Errors are heteroscedasticity robust (HC2)<br/>[2] The smallest eigenvalue is 1.13e-30. This might indicate that there are<br/>strong multicollinearity problems or that the design matrix is singular."
      ],
      "text/plain": [
       "<class 'statsmodels.iolib.summary.Summary'>\n",
       "\"\"\"\n",
       "                            OLS Regression Results                            \n",
       "==============================================================================\n",
       "Dep. Variable:               survived   R-squared:                       0.404\n",
       "Model:                            OLS   Adj. R-squared:                  0.362\n",
       "Method:                 Least Squares   F-statistic:                     12.35\n",
       "Date:                Fri, 15 Jan 2021   Prob (F-statistic):           7.91e-18\n",
       "Time:                        19:38:33   Log-Likelihood:                -72.954\n",
       "No. Observations:                 182   AIC:                             171.9\n",
       "Df Residuals:                     169   BIC:                             213.6\n",
       "Df Model:                          12                                         \n",
       "Covariance Type:                  HC2                                         \n",
       "===============================================================================\n",
       "                  coef    std err          z      P>|z|      [0.025      0.975]\n",
       "-------------------------------------------------------------------------------\n",
       "const           1.5166      0.285      5.319      0.000       0.958       2.075\n",
       "pclass         -0.1573      0.090     -1.752      0.080      -0.333       0.019\n",
       "alone          -0.0619      0.081     -0.763      0.445      -0.221       0.097\n",
       "class           0.0207      0.086      0.240      0.810      -0.148       0.190\n",
       "fare            0.0007      0.000      1.619      0.106      -0.000       0.001\n",
       "embarked        0.0117      0.028      0.413      0.680      -0.044       0.067\n",
       "who            -0.3061      0.223     -1.374      0.170      -0.743       0.131\n",
       "adult_male     -1.1615      0.429     -2.707      0.007      -2.002      -0.321\n",
       "sibsp          -0.0168      0.047     -0.358      0.721      -0.109       0.075\n",
       "parch          -0.0976      0.045     -2.148      0.032      -0.187      -0.009\n",
       "embark_town     0.0117      0.028      0.413      0.680      -0.044       0.067\n",
       "sex             0.3140      0.215      1.464      0.143      -0.106       0.734\n",
       "deck            0.0465      0.026      1.825      0.068      -0.003       0.097\n",
       "age            -0.0046      0.002     -1.987      0.047      -0.009   -6.32e-05\n",
       "==============================================================================\n",
       "Omnibus:                        2.737   Durbin-Watson:                   2.080\n",
       "Prob(Omnibus):                  0.254   Jarque-Bera (JB):                2.394\n",
       "Skew:                           0.181   Prob(JB):                        0.302\n",
       "Kurtosis:                       2.571   Cond. No.                     1.43e+18\n",
       "==============================================================================\n",
       "\n",
       "Warnings:\n",
       "[1] Standard Errors are heteroscedasticity robust (HC2)\n",
       "[2] The smallest eigenvalue is 1.13e-30. This might indicate that there are\n",
       "strong multicollinearity problems or that the design matrix is singular.\n",
       "\"\"\""
      ]
     },
     "execution_count": 9,
     "metadata": {},
     "output_type": "execute_result"
    }
   ],
   "source": [
    "y = titanic.survived\n",
    "cols = remove_from_cols(titanic, ['survived'])\n",
    "model = sm.OLS(y,sm.add_constant(titanic[cols].astype(float))).fit(cov_type='HC2')\n",
    "# sm.graphics.plot_fit(model, predictor)\n",
    "model.summary()"
   ]
  },
  {
   "cell_type": "markdown",
   "metadata": {},
   "source": [
    "## P-values\n",
    "First, we notice that many of the p-values are above 0.5, which indicates they're most likely correlated to survability through randomness. We also noticed right away that only one predictor has a p-value of zero, adult_male. We also have several very low-p-values, we will filter out the dataframe to exract these.\n"
   ]
  },
  {
   "cell_type": "code",
   "execution_count": 10,
   "metadata": {},
   "outputs": [],
   "source": [
    "from sklearn.preprocessing import PolynomialFeatures\n",
    "y = titanic.survived\n",
    "\n",
    "def get_columns_to_keep(dataframe,\n",
    "                        y,\n",
    "                        with_cols=[],\n",
    "                        p_degree=1,\n",
    "                        alpha=0.05,\n",
    "                        add_constant=True):\n",
    "    df = dataframe.copy()\n",
    "    if len(with_cols) > 0:\n",
    "        df = dataframe[with_cols].copy()\n",
    "    cols = df.columns.tolist()\n",
    "    if y.name in cols:\n",
    "        cols.remove(y.name)\n",
    "    x = df[cols]\n",
    "    if add_constant:\n",
    "        x = sm.add_constant(x)\n",
    "    model = None\n",
    "    if p_degree > 1: \n",
    "        poly_reg_s = PolynomialFeatures(p_degree)\n",
    "        X_poly_s = poly_reg_s.fit_transform(x)\n",
    "        model = sm.OLS(y,X_poly_s).fit(cov_type='HC2')\n",
    "    else:\n",
    "        model = sm.OLS(y,x).fit(cov_type='HC2')\n",
    "    summary = model.summary2()\n",
    "    print(summary)\n",
    "    pvalues = summary.tables[1]['P>|z|'][1:]\n",
    "    return [cols[i] for i in list(np.where(np.array(pvalues < alpha) == True))[0]]\n",
    "    \n"
   ]
  },
  {
   "cell_type": "markdown",
   "metadata": {},
   "source": [
    "Let's filter down to the top 3 p-value predictors by filtering out pvalues above 0.2"
   ]
  },
  {
   "cell_type": "code",
   "execution_count": 11,
   "metadata": {},
   "outputs": [
    {
     "name": "stdout",
     "output_type": "stream",
     "text": [
      "                 Results: Ordinary least squares\n",
      "=================================================================\n",
      "Model:              OLS              Adj. R-squared:     0.362   \n",
      "Dependent Variable: survived         AIC:                171.9082\n",
      "Date:               2021-01-15 19:38 BIC:                213.5603\n",
      "No. Observations:   182              Log-Likelihood:     -72.954 \n",
      "Df Model:           12               F-statistic:        12.35   \n",
      "Df Residuals:       169              Prob (F-statistic): 7.91e-18\n",
      "R-squared:          0.404            Scale:              0.14057 \n",
      "------------------------------------------------------------------\n",
      "               Coef.   Std.Err.     z     P>|z|    [0.025   0.975]\n",
      "------------------------------------------------------------------\n",
      "const          1.5166    0.2851   5.3190  0.0000   0.9578   2.0755\n",
      "pclass        -0.1573    0.0898  -1.7521  0.0797  -0.3332   0.0187\n",
      "sex            0.3140    0.2145   1.4636  0.1433  -0.1065   0.7345\n",
      "age           -0.0046    0.0023  -1.9874  0.0469  -0.0091  -0.0001\n",
      "sibsp         -0.0168    0.0469  -0.3577  0.7206  -0.1087   0.0752\n",
      "parch         -0.0976    0.0454  -2.1483  0.0317  -0.1867  -0.0086\n",
      "fare           0.0007    0.0004   1.6187  0.1055  -0.0001   0.0015\n",
      "embarked       0.0117    0.0284   0.4129  0.6797  -0.0439   0.0673\n",
      "class          0.0207    0.0862   0.2401  0.8102  -0.1482   0.1896\n",
      "who           -0.3061    0.2229  -1.3736  0.1696  -0.7429   0.1307\n",
      "adult_male    -1.1615    0.4290  -2.7074  0.0068  -2.0024  -0.3206\n",
      "deck           0.0465    0.0255   1.8249  0.0680  -0.0034   0.0965\n",
      "embark_town    0.0117    0.0284   0.4129  0.6797  -0.0439   0.0673\n",
      "alone         -0.0619    0.0811  -0.7630  0.4455  -0.2209   0.0971\n",
      "-----------------------------------------------------------------\n",
      "Omnibus:          2.737   Durbin-Watson:      2.080              \n",
      "Prob(Omnibus):    0.254   Jarque-Bera (JB):   2.394              \n",
      "Skew:             0.181   Prob(JB):           0.302              \n",
      "Kurtosis:         2.571   Condition No.:      1581943232970692864\n",
      "=================================================================\n",
      "* The condition number is large (2e+18). This might indicate\n",
      "strong multicollinearity or other numerical problems.\n"
     ]
    },
    {
     "name": "stderr",
     "output_type": "stream",
     "text": [
      "/home/jlmgk/anaconda3/lib/python3.7/site-packages/statsmodels/base/model.py:1532: ValueWarning: covariance of constraints does not have full rank. The number of constraints is 13, but rank is 12\n",
      "  'rank is %d' % (J, J_), ValueWarning)\n"
     ]
    },
    {
     "data": {
      "text/plain": [
       "['pclass', 'sex', 'age', 'parch', 'fare', 'who', 'adult_male', 'deck']"
      ]
     },
     "execution_count": 11,
     "metadata": {},
     "output_type": "execute_result"
    }
   ],
   "source": [
    "keep = get_columns_to_keep(titanic, titanic.survived, add_constant=True, alpha=0.2)\n",
    "keep"
   ]
  },
  {
   "cell_type": "code",
   "execution_count": 12,
   "metadata": {},
   "outputs": [
    {
     "data": {
      "text/html": [
       "<table class=\"simpletable\">\n",
       "<caption>OLS Regression Results</caption>\n",
       "<tr>\n",
       "  <th>Dep. Variable:</th>        <td>survived</td>     <th>  R-squared:         </th> <td>   0.759</td> \n",
       "</tr>\n",
       "<tr>\n",
       "  <th>Model:</th>                   <td>OLS</td>       <th>  Adj. R-squared:    </th> <td>   0.748</td> \n",
       "</tr>\n",
       "<tr>\n",
       "  <th>Method:</th>             <td>Least Squares</td>  <th>  F-statistic:       </th> <td>   690.3</td> \n",
       "</tr>\n",
       "<tr>\n",
       "  <th>Date:</th>             <td>Fri, 15 Jan 2021</td> <th>  Prob (F-statistic):</th> <td>1.67e-127</td>\n",
       "</tr>\n",
       "<tr>\n",
       "  <th>Time:</th>                 <td>19:38:42</td>     <th>  Log-Likelihood:    </th> <td> -92.920</td> \n",
       "</tr>\n",
       "<tr>\n",
       "  <th>No. Observations:</th>      <td>   182</td>      <th>  AIC:               </th> <td>   201.8</td> \n",
       "</tr>\n",
       "<tr>\n",
       "  <th>Df Residuals:</th>          <td>   174</td>      <th>  BIC:               </th> <td>   227.5</td> \n",
       "</tr>\n",
       "<tr>\n",
       "  <th>Df Model:</th>              <td>     8</td>      <th>                     </th>     <td> </td>    \n",
       "</tr>\n",
       "<tr>\n",
       "  <th>Covariance Type:</th>         <td>HC2</td>       <th>                     </th>     <td> </td>    \n",
       "</tr>\n",
       "</table>\n",
       "<table class=\"simpletable\">\n",
       "<tr>\n",
       "       <td></td>         <th>coef</th>     <th>std err</th>      <th>z</th>      <th>P>|z|</th>  <th>[0.025</th>    <th>0.975]</th>  \n",
       "</tr>\n",
       "<tr>\n",
       "  <th>pclass</th>     <td>   -0.0214</td> <td>    0.089</td> <td>   -0.241</td> <td> 0.809</td> <td>   -0.195</td> <td>    0.153</td>\n",
       "</tr>\n",
       "<tr>\n",
       "  <th>sex</th>        <td>   -0.2366</td> <td>    0.233</td> <td>   -1.013</td> <td> 0.311</td> <td>   -0.694</td> <td>    0.221</td>\n",
       "</tr>\n",
       "<tr>\n",
       "  <th>age</th>        <td>    0.0044</td> <td>    0.003</td> <td>    1.680</td> <td> 0.093</td> <td>   -0.001</td> <td>    0.010</td>\n",
       "</tr>\n",
       "<tr>\n",
       "  <th>parch</th>      <td>   -0.1138</td> <td>    0.045</td> <td>   -2.518</td> <td> 0.012</td> <td>   -0.202</td> <td>   -0.025</td>\n",
       "</tr>\n",
       "<tr>\n",
       "  <th>fare</th>       <td>    0.0015</td> <td>    0.000</td> <td>    4.437</td> <td> 0.000</td> <td>    0.001</td> <td>    0.002</td>\n",
       "</tr>\n",
       "<tr>\n",
       "  <th>who</th>        <td>    0.6079</td> <td>    0.162</td> <td>    3.746</td> <td> 0.000</td> <td>    0.290</td> <td>    0.926</td>\n",
       "</tr>\n",
       "<tr>\n",
       "  <th>adult_male</th> <td>    0.3481</td> <td>    0.392</td> <td>    0.889</td> <td> 0.374</td> <td>   -0.420</td> <td>    1.116</td>\n",
       "</tr>\n",
       "<tr>\n",
       "  <th>deck</th>       <td>    0.0326</td> <td>    0.026</td> <td>    1.265</td> <td> 0.206</td> <td>   -0.018</td> <td>    0.083</td>\n",
       "</tr>\n",
       "</table>\n",
       "<table class=\"simpletable\">\n",
       "<tr>\n",
       "  <th>Omnibus:</th>       <td> 0.941</td> <th>  Durbin-Watson:     </th> <td>   2.039</td>\n",
       "</tr>\n",
       "<tr>\n",
       "  <th>Prob(Omnibus):</th> <td> 0.625</td> <th>  Jarque-Bera (JB):  </th> <td>   0.950</td>\n",
       "</tr>\n",
       "<tr>\n",
       "  <th>Skew:</th>          <td>-0.171</td> <th>  Prob(JB):          </th> <td>   0.622</td>\n",
       "</tr>\n",
       "<tr>\n",
       "  <th>Kurtosis:</th>      <td> 2.907</td> <th>  Cond. No.          </th> <td>1.33e+03</td>\n",
       "</tr>\n",
       "</table><br/><br/>Warnings:<br/>[1] Standard Errors are heteroscedasticity robust (HC2)<br/>[2] The condition number is large, 1.33e+03. This might indicate that there are<br/>strong multicollinearity or other numerical problems."
      ],
      "text/plain": [
       "<class 'statsmodels.iolib.summary.Summary'>\n",
       "\"\"\"\n",
       "                            OLS Regression Results                            \n",
       "==============================================================================\n",
       "Dep. Variable:               survived   R-squared:                       0.759\n",
       "Model:                            OLS   Adj. R-squared:                  0.748\n",
       "Method:                 Least Squares   F-statistic:                     690.3\n",
       "Date:                Fri, 15 Jan 2021   Prob (F-statistic):          1.67e-127\n",
       "Time:                        19:38:42   Log-Likelihood:                -92.920\n",
       "No. Observations:                 182   AIC:                             201.8\n",
       "Df Residuals:                     174   BIC:                             227.5\n",
       "Df Model:                           8                                         \n",
       "Covariance Type:                  HC2                                         \n",
       "==============================================================================\n",
       "                 coef    std err          z      P>|z|      [0.025      0.975]\n",
       "------------------------------------------------------------------------------\n",
       "pclass        -0.0214      0.089     -0.241      0.809      -0.195       0.153\n",
       "sex           -0.2366      0.233     -1.013      0.311      -0.694       0.221\n",
       "age            0.0044      0.003      1.680      0.093      -0.001       0.010\n",
       "parch         -0.1138      0.045     -2.518      0.012      -0.202      -0.025\n",
       "fare           0.0015      0.000      4.437      0.000       0.001       0.002\n",
       "who            0.6079      0.162      3.746      0.000       0.290       0.926\n",
       "adult_male     0.3481      0.392      0.889      0.374      -0.420       1.116\n",
       "deck           0.0326      0.026      1.265      0.206      -0.018       0.083\n",
       "==============================================================================\n",
       "Omnibus:                        0.941   Durbin-Watson:                   2.039\n",
       "Prob(Omnibus):                  0.625   Jarque-Bera (JB):                0.950\n",
       "Skew:                          -0.171   Prob(JB):                        0.622\n",
       "Kurtosis:                       2.907   Cond. No.                     1.33e+03\n",
       "==============================================================================\n",
       "\n",
       "Warnings:\n",
       "[1] Standard Errors are heteroscedasticity robust (HC2)\n",
       "[2] The condition number is large, 1.33e+03. This might indicate that there are\n",
       "strong multicollinearity or other numerical problems.\n",
       "\"\"\""
      ]
     },
     "execution_count": 12,
     "metadata": {},
     "output_type": "execute_result"
    }
   ],
   "source": [
    "model = sm.OLS(y,titanic[keep]).fit(cov_type='HC2')\n",
    "model.summary()"
   ]
  },
  {
   "cell_type": "markdown",
   "metadata": {},
   "source": [
    "Let's filter out additional high-value p-value predictors"
   ]
  },
  {
   "cell_type": "code",
   "execution_count": 13,
   "metadata": {},
   "outputs": [
    {
     "name": "stdout",
     "output_type": "stream",
     "text": [
      "                 Results: Ordinary least squares\n",
      "=================================================================\n",
      "Model:              OLS              Adj. R-squared:     0.374   \n",
      "Dependent Variable: survived         AIC:                164.7634\n",
      "Date:               2021-01-15 19:38 BIC:                193.5994\n",
      "No. Observations:   182              Log-Likelihood:     -73.382 \n",
      "Df Model:           8                F-statistic:        18.87   \n",
      "Df Residuals:       173              Prob (F-statistic): 3.28e-20\n",
      "R-squared:          0.401            Scale:              0.13796 \n",
      "------------------------------------------------------------------\n",
      "               Coef.   Std.Err.     z     P>|z|    [0.025   0.975]\n",
      "------------------------------------------------------------------\n",
      "const          1.5240    0.2574   5.9214  0.0000   1.0196   2.0284\n",
      "pclass        -0.1675    0.0887  -1.8872  0.0591  -0.3414   0.0065\n",
      "sex            0.3209    0.2123   1.5117  0.1306  -0.0952   0.7370\n",
      "age           -0.0046    0.0023  -2.0337  0.0420  -0.0091  -0.0002\n",
      "parch         -0.0831    0.0374  -2.2193  0.0265  -0.1565  -0.0097\n",
      "fare           0.0007    0.0004   1.7972  0.0723  -0.0001   0.0015\n",
      "who           -0.3089    0.2182  -1.4157  0.1569  -0.7366   0.1188\n",
      "adult_male    -1.1776    0.4232  -2.7829  0.0054  -2.0070  -0.3482\n",
      "deck           0.0462    0.0248   1.8663  0.0620  -0.0023   0.0947\n",
      "-----------------------------------------------------------------\n",
      "Omnibus:              2.683        Durbin-Watson:           2.080\n",
      "Prob(Omnibus):        0.261        Jarque-Bera (JB):        2.325\n",
      "Skew:                 0.173        Prob(JB):                0.313\n",
      "Kurtosis:             2.567        Condition No.:           1883 \n",
      "=================================================================\n",
      "* The condition number is large (2e+03). This might indicate\n",
      "strong multicollinearity or other numerical problems.\n"
     ]
    },
    {
     "data": {
      "text/plain": [
       "['pclass', 'sex', 'age', 'parch', 'fare', 'adult_male', 'deck']"
      ]
     },
     "execution_count": 13,
     "metadata": {},
     "output_type": "execute_result"
    }
   ],
   "source": [
    "keep = get_columns_to_keep(titanic, titanic.survived, with_cols=keep, add_constant=True, alpha=0.15)\n",
    "keep"
   ]
  },
  {
   "cell_type": "code",
   "execution_count": 14,
   "metadata": {},
   "outputs": [
    {
     "data": {
      "text/html": [
       "<table class=\"simpletable\">\n",
       "<caption>OLS Regression Results</caption>\n",
       "<tr>\n",
       "  <th>Dep. Variable:</th>        <td>survived</td>     <th>  R-squared:         </th> <td>   0.391</td>\n",
       "</tr>\n",
       "<tr>\n",
       "  <th>Model:</th>                   <td>OLS</td>       <th>  Adj. R-squared:    </th> <td>   0.366</td>\n",
       "</tr>\n",
       "<tr>\n",
       "  <th>Method:</th>             <td>Least Squares</td>  <th>  F-statistic:       </th> <td>   19.99</td>\n",
       "</tr>\n",
       "<tr>\n",
       "  <th>Date:</th>             <td>Fri, 15 Jan 2021</td> <th>  Prob (F-statistic):</th> <td>1.55e-19</td>\n",
       "</tr>\n",
       "<tr>\n",
       "  <th>Time:</th>                 <td>19:38:44</td>     <th>  Log-Likelihood:    </th> <td> -75.024</td>\n",
       "</tr>\n",
       "<tr>\n",
       "  <th>No. Observations:</th>      <td>   182</td>      <th>  AIC:               </th> <td>   166.0</td>\n",
       "</tr>\n",
       "<tr>\n",
       "  <th>Df Residuals:</th>          <td>   174</td>      <th>  BIC:               </th> <td>   191.7</td>\n",
       "</tr>\n",
       "<tr>\n",
       "  <th>Df Model:</th>              <td>     7</td>      <th>                     </th>     <td> </td>   \n",
       "</tr>\n",
       "<tr>\n",
       "  <th>Covariance Type:</th>         <td>HC2</td>       <th>                     </th>     <td> </td>   \n",
       "</tr>\n",
       "</table>\n",
       "<table class=\"simpletable\">\n",
       "<tr>\n",
       "       <td></td>         <th>coef</th>     <th>std err</th>      <th>z</th>      <th>P>|z|</th>  <th>[0.025</th>    <th>0.975]</th>  \n",
       "</tr>\n",
       "<tr>\n",
       "  <th>const</th>      <td>    1.1801</td> <td>    0.142</td> <td>    8.339</td> <td> 0.000</td> <td>    0.903</td> <td>    1.457</td>\n",
       "</tr>\n",
       "<tr>\n",
       "  <th>pclass</th>     <td>   -0.1769</td> <td>    0.089</td> <td>   -1.979</td> <td> 0.048</td> <td>   -0.352</td> <td>   -0.002</td>\n",
       "</tr>\n",
       "<tr>\n",
       "  <th>sex</th>        <td>    0.0906</td> <td>    0.102</td> <td>    0.892</td> <td> 0.372</td> <td>   -0.108</td> <td>    0.290</td>\n",
       "</tr>\n",
       "<tr>\n",
       "  <th>age</th>        <td>   -0.0034</td> <td>    0.002</td> <td>   -1.489</td> <td> 0.136</td> <td>   -0.008</td> <td>    0.001</td>\n",
       "</tr>\n",
       "<tr>\n",
       "  <th>parch</th>      <td>   -0.0963</td> <td>    0.038</td> <td>   -2.512</td> <td> 0.012</td> <td>   -0.171</td> <td>   -0.021</td>\n",
       "</tr>\n",
       "<tr>\n",
       "  <th>fare</th>       <td>    0.0007</td> <td>    0.000</td> <td>    1.810</td> <td> 0.070</td> <td>-5.83e-05</td> <td>    0.001</td>\n",
       "</tr>\n",
       "<tr>\n",
       "  <th>adult_male</th> <td>   -0.6304</td> <td>    0.122</td> <td>   -5.169</td> <td> 0.000</td> <td>   -0.869</td> <td>   -0.391</td>\n",
       "</tr>\n",
       "<tr>\n",
       "  <th>deck</th>       <td>    0.0420</td> <td>    0.025</td> <td>    1.692</td> <td> 0.091</td> <td>   -0.007</td> <td>    0.091</td>\n",
       "</tr>\n",
       "</table>\n",
       "<table class=\"simpletable\">\n",
       "<tr>\n",
       "  <th>Omnibus:</th>       <td> 1.095</td> <th>  Durbin-Watson:     </th> <td>   2.100</td>\n",
       "</tr>\n",
       "<tr>\n",
       "  <th>Prob(Omnibus):</th> <td> 0.578</td> <th>  Jarque-Bera (JB):  </th> <td>   1.138</td>\n",
       "</tr>\n",
       "<tr>\n",
       "  <th>Skew:</th>          <td> 0.101</td> <th>  Prob(JB):          </th> <td>   0.566</td>\n",
       "</tr>\n",
       "<tr>\n",
       "  <th>Kurtosis:</th>      <td> 2.670</td> <th>  Cond. No.          </th> <td>    953.</td>\n",
       "</tr>\n",
       "</table><br/><br/>Warnings:<br/>[1] Standard Errors are heteroscedasticity robust (HC2)"
      ],
      "text/plain": [
       "<class 'statsmodels.iolib.summary.Summary'>\n",
       "\"\"\"\n",
       "                            OLS Regression Results                            \n",
       "==============================================================================\n",
       "Dep. Variable:               survived   R-squared:                       0.391\n",
       "Model:                            OLS   Adj. R-squared:                  0.366\n",
       "Method:                 Least Squares   F-statistic:                     19.99\n",
       "Date:                Fri, 15 Jan 2021   Prob (F-statistic):           1.55e-19\n",
       "Time:                        19:38:44   Log-Likelihood:                -75.024\n",
       "No. Observations:                 182   AIC:                             166.0\n",
       "Df Residuals:                     174   BIC:                             191.7\n",
       "Df Model:                           7                                         \n",
       "Covariance Type:                  HC2                                         \n",
       "==============================================================================\n",
       "                 coef    std err          z      P>|z|      [0.025      0.975]\n",
       "------------------------------------------------------------------------------\n",
       "const          1.1801      0.142      8.339      0.000       0.903       1.457\n",
       "pclass        -0.1769      0.089     -1.979      0.048      -0.352      -0.002\n",
       "sex            0.0906      0.102      0.892      0.372      -0.108       0.290\n",
       "age           -0.0034      0.002     -1.489      0.136      -0.008       0.001\n",
       "parch         -0.0963      0.038     -2.512      0.012      -0.171      -0.021\n",
       "fare           0.0007      0.000      1.810      0.070   -5.83e-05       0.001\n",
       "adult_male    -0.6304      0.122     -5.169      0.000      -0.869      -0.391\n",
       "deck           0.0420      0.025      1.692      0.091      -0.007       0.091\n",
       "==============================================================================\n",
       "Omnibus:                        1.095   Durbin-Watson:                   2.100\n",
       "Prob(Omnibus):                  0.578   Jarque-Bera (JB):                1.138\n",
       "Skew:                           0.101   Prob(JB):                        0.566\n",
       "Kurtosis:                       2.670   Cond. No.                         953.\n",
       "==============================================================================\n",
       "\n",
       "Warnings:\n",
       "[1] Standard Errors are heteroscedasticity robust (HC2)\n",
       "\"\"\""
      ]
     },
     "execution_count": 14,
     "metadata": {},
     "output_type": "execute_result"
    }
   ],
   "source": [
    "model = sm.OLS(y,sm.add_constant(titanic[keep])).fit(cov_type='HC2')\n",
    "model.summary()"
   ]
  },
  {
   "cell_type": "code",
   "execution_count": 15,
   "metadata": {},
   "outputs": [],
   "source": [
    "# ti"
   ]
  },
  {
   "cell_type": "markdown",
   "metadata": {},
   "source": [
    "We now have a much higher $R^2$, and a more acceptable set of p-values.\n",
    "\n",
    "#### P-Value interpretations\n",
    "\n",
    "We now have p-class, sex, age, fare and adult_male who have near-zero p-values, meaning their relationships to whether or not one would survive are statistically significant.\n",
    "\n",
    "\n",
    "We have parch and deck which have much higher p-values, meaning that while their p-values are amongst the lowest, they have less significance as predictors to whether or not one would survive when compare to the latter 5 predictors. This makes sense compared to the latter, since there is less precise data on the deck predictor (as the dataframe shows), while parch (#parents/child) should be less significant than say, fare, as whether or not a passenger has a child with them is impossible to determine why qualitatiely/categorically, the data's label information on kaggle, also shows the following:\n",
    "\n",
    "parch: The dataset defines family relations in this way\n",
    "Parent = mother, father\n",
    "Child = daughter, son, stepdaughter, stepson\n",
    "Some children travelled only with a nanny, therefore parch=0 for the\n",
    "\n",
    "The parch in itself would probably skew information towards families of upper class, since low-income families generally didn't have nannies at the start of the 20th century. For this, we'll ommit deck and parch values:\n",
    "\n"
   ]
  },
  {
   "cell_type": "code",
   "execution_count": 16,
   "metadata": {},
   "outputs": [
    {
     "data": {
      "text/html": [
       "<table class=\"simpletable\">\n",
       "<caption>OLS Regression Results</caption>\n",
       "<tr>\n",
       "  <th>Dep. Variable:</th>        <td>survived</td>     <th>  R-squared:         </th> <td>   0.373</td>\n",
       "</tr>\n",
       "<tr>\n",
       "  <th>Model:</th>                   <td>OLS</td>       <th>  Adj. R-squared:    </th> <td>   0.351</td>\n",
       "</tr>\n",
       "<tr>\n",
       "  <th>Method:</th>             <td>Least Squares</td>  <th>  F-statistic:       </th> <td>   18.40</td>\n",
       "</tr>\n",
       "<tr>\n",
       "  <th>Date:</th>             <td>Fri, 15 Jan 2021</td> <th>  Prob (F-statistic):</th> <td>1.60e-16</td>\n",
       "</tr>\n",
       "<tr>\n",
       "  <th>Time:</th>                 <td>19:38:46</td>     <th>  Log-Likelihood:    </th> <td> -77.674</td>\n",
       "</tr>\n",
       "<tr>\n",
       "  <th>No. Observations:</th>      <td>   182</td>      <th>  AIC:               </th> <td>   169.3</td>\n",
       "</tr>\n",
       "<tr>\n",
       "  <th>Df Residuals:</th>          <td>   175</td>      <th>  BIC:               </th> <td>   191.8</td>\n",
       "</tr>\n",
       "<tr>\n",
       "  <th>Df Model:</th>              <td>     6</td>      <th>                     </th>     <td> </td>   \n",
       "</tr>\n",
       "<tr>\n",
       "  <th>Covariance Type:</th>         <td>HC2</td>       <th>                     </th>     <td> </td>   \n",
       "</tr>\n",
       "</table>\n",
       "<table class=\"simpletable\">\n",
       "<tr>\n",
       "       <td></td>         <th>coef</th>     <th>std err</th>      <th>z</th>      <th>P>|z|</th>  <th>[0.025</th>    <th>0.975]</th>  \n",
       "</tr>\n",
       "<tr>\n",
       "  <th>const</th>      <td>    1.1630</td> <td>    0.152</td> <td>    7.643</td> <td> 0.000</td> <td>    0.865</td> <td>    1.461</td>\n",
       "</tr>\n",
       "<tr>\n",
       "  <th>pclass</th>     <td>   -0.1896</td> <td>    0.091</td> <td>   -2.094</td> <td> 0.036</td> <td>   -0.367</td> <td>   -0.012</td>\n",
       "</tr>\n",
       "<tr>\n",
       "  <th>sex</th>        <td>    0.0179</td> <td>    0.096</td> <td>    0.186</td> <td> 0.853</td> <td>   -0.171</td> <td>    0.207</td>\n",
       "</tr>\n",
       "<tr>\n",
       "  <th>age</th>        <td>   -0.0029</td> <td>    0.002</td> <td>   -1.232</td> <td> 0.218</td> <td>   -0.008</td> <td>    0.002</td>\n",
       "</tr>\n",
       "<tr>\n",
       "  <th>fare</th>       <td>    0.0003</td> <td>    0.000</td> <td>    0.667</td> <td> 0.505</td> <td>   -0.001</td> <td>    0.001</td>\n",
       "</tr>\n",
       "<tr>\n",
       "  <th>adult_male</th> <td>   -0.5501</td> <td>    0.118</td> <td>   -4.661</td> <td> 0.000</td> <td>   -0.781</td> <td>   -0.319</td>\n",
       "</tr>\n",
       "<tr>\n",
       "  <th>deck</th>       <td>    0.0413</td> <td>    0.025</td> <td>    1.631</td> <td> 0.103</td> <td>   -0.008</td> <td>    0.091</td>\n",
       "</tr>\n",
       "</table>\n",
       "<table class=\"simpletable\">\n",
       "<tr>\n",
       "  <th>Omnibus:</th>       <td> 0.368</td> <th>  Durbin-Watson:     </th> <td>   2.037</td>\n",
       "</tr>\n",
       "<tr>\n",
       "  <th>Prob(Omnibus):</th> <td> 0.832</td> <th>  Jarque-Bera (JB):  </th> <td>   0.520</td>\n",
       "</tr>\n",
       "<tr>\n",
       "  <th>Skew:</th>          <td> 0.042</td> <th>  Prob(JB):          </th> <td>   0.771</td>\n",
       "</tr>\n",
       "<tr>\n",
       "  <th>Kurtosis:</th>      <td> 2.752</td> <th>  Cond. No.          </th> <td>    934.</td>\n",
       "</tr>\n",
       "</table><br/><br/>Warnings:<br/>[1] Standard Errors are heteroscedasticity robust (HC2)"
      ],
      "text/plain": [
       "<class 'statsmodels.iolib.summary.Summary'>\n",
       "\"\"\"\n",
       "                            OLS Regression Results                            \n",
       "==============================================================================\n",
       "Dep. Variable:               survived   R-squared:                       0.373\n",
       "Model:                            OLS   Adj. R-squared:                  0.351\n",
       "Method:                 Least Squares   F-statistic:                     18.40\n",
       "Date:                Fri, 15 Jan 2021   Prob (F-statistic):           1.60e-16\n",
       "Time:                        19:38:46   Log-Likelihood:                -77.674\n",
       "No. Observations:                 182   AIC:                             169.3\n",
       "Df Residuals:                     175   BIC:                             191.8\n",
       "Df Model:                           6                                         \n",
       "Covariance Type:                  HC2                                         \n",
       "==============================================================================\n",
       "                 coef    std err          z      P>|z|      [0.025      0.975]\n",
       "------------------------------------------------------------------------------\n",
       "const          1.1630      0.152      7.643      0.000       0.865       1.461\n",
       "pclass        -0.1896      0.091     -2.094      0.036      -0.367      -0.012\n",
       "sex            0.0179      0.096      0.186      0.853      -0.171       0.207\n",
       "age           -0.0029      0.002     -1.232      0.218      -0.008       0.002\n",
       "fare           0.0003      0.000      0.667      0.505      -0.001       0.001\n",
       "adult_male    -0.5501      0.118     -4.661      0.000      -0.781      -0.319\n",
       "deck           0.0413      0.025      1.631      0.103      -0.008       0.091\n",
       "==============================================================================\n",
       "Omnibus:                        0.368   Durbin-Watson:                   2.037\n",
       "Prob(Omnibus):                  0.832   Jarque-Bera (JB):                0.520\n",
       "Skew:                           0.042   Prob(JB):                        0.771\n",
       "Kurtosis:                       2.752   Cond. No.                         934.\n",
       "==============================================================================\n",
       "\n",
       "Warnings:\n",
       "[1] Standard Errors are heteroscedasticity robust (HC2)\n",
       "\"\"\""
      ]
     },
     "execution_count": 16,
     "metadata": {},
     "output_type": "execute_result"
    }
   ],
   "source": [
    "keep = keep.copy()\n",
    "# keep.remove('deck')\n",
    "keep.remove('parch')\n",
    "model = sm.OLS(y,sm.add_constant(titanic[keep])).fit(cov_type='HC2')\n",
    "model.summary()"
   ]
  },
  {
   "cell_type": "markdown",
   "metadata": {},
   "source": [
    "We chose a model interpretation where we could narrow down predictors that had less co-dependency or causality between one another.\n",
    "For example, we can see now that compared to pclass, fare and sex are much less statistically significant. Which makes sense since if we look at pclass + fare groupings, within first class only:\n",
    "\n",
    "1. we have first class passengers that occupied every deck"
   ]
  },
  {
   "cell_type": "code",
   "execution_count": 25,
   "metadata": {},
   "outputs": [
    {
     "name": "stdout",
     "output_type": "stream",
     "text": [
      "5 unique decks housing first class passengers\n"
     ]
    },
    {
     "data": {
      "text/html": [
       "<div>\n",
       "<style scoped>\n",
       "    .dataframe tbody tr th:only-of-type {\n",
       "        vertical-align: middle;\n",
       "    }\n",
       "\n",
       "    .dataframe tbody tr th {\n",
       "        vertical-align: top;\n",
       "    }\n",
       "\n",
       "    .dataframe thead th {\n",
       "        text-align: right;\n",
       "    }\n",
       "</style>\n",
       "<table border=\"1\" class=\"dataframe\">\n",
       "  <thead>\n",
       "    <tr style=\"text-align: right;\">\n",
       "      <th></th>\n",
       "      <th>pclass</th>\n",
       "      <th>fare</th>\n",
       "      <th>deck</th>\n",
       "      <th>count</th>\n",
       "    </tr>\n",
       "  </thead>\n",
       "  <tbody>\n",
       "    <tr>\n",
       "      <th>0</th>\n",
       "      <td>1</td>\n",
       "      <td>0.0000</td>\n",
       "      <td>A</td>\n",
       "      <td>1</td>\n",
       "    </tr>\n",
       "    <tr>\n",
       "      <th>1</th>\n",
       "      <td>1</td>\n",
       "      <td>0.0000</td>\n",
       "      <td>B</td>\n",
       "      <td>2</td>\n",
       "    </tr>\n",
       "    <tr>\n",
       "      <th>2</th>\n",
       "      <td>1</td>\n",
       "      <td>5.0000</td>\n",
       "      <td>B</td>\n",
       "      <td>1</td>\n",
       "    </tr>\n",
       "    <tr>\n",
       "      <th>3</th>\n",
       "      <td>1</td>\n",
       "      <td>25.5875</td>\n",
       "      <td>E</td>\n",
       "      <td>1</td>\n",
       "    </tr>\n",
       "    <tr>\n",
       "      <th>4</th>\n",
       "      <td>1</td>\n",
       "      <td>25.9292</td>\n",
       "      <td>D</td>\n",
       "      <td>2</td>\n",
       "    </tr>\n",
       "  </tbody>\n",
       "</table>\n",
       "</div>"
      ],
      "text/plain": [
       "   pclass     fare deck  count\n",
       "0       1   0.0000    A      1\n",
       "1       1   0.0000    B      2\n",
       "2       1   5.0000    B      1\n",
       "3       1  25.5875    E      1\n",
       "4       1  25.9292    D      2"
      ]
     },
     "execution_count": 25,
     "metadata": {},
     "output_type": "execute_result"
    }
   ],
   "source": [
    "group = pd.DataFrame({'count' : ti.groupby(['pclass','fare', 'deck']).size()}).reset_index()\n",
    "\n",
    "first = group[group.pclass == 1]\n",
    "print(len(first.deck.unique()), 'unique decks housing first class passengers')\n",
    "first.head()"
   ]
  },
  {
   "cell_type": "markdown",
   "metadata": {},
   "source": [
    "2. and we have 87 unique amount of fares paid out"
   ]
  },
  {
   "cell_type": "code",
   "execution_count": 26,
   "metadata": {},
   "outputs": [
    {
     "name": "stdout",
     "output_type": "stream",
     "text": [
      "87 unique fares in first class\n"
     ]
    }
   ],
   "source": [
    "print(len(first.fare.unique()), 'unique fares in first class')"
   ]
  },
  {
   "cell_type": "markdown",
   "metadata": {},
   "source": [
    "Likewise, we also have sex and age with relatively high p-values, so if we forgo look into these, and only look at the relationship between the deck and passenger class relative to survival:"
   ]
  },
  {
   "cell_type": "code",
   "execution_count": 27,
   "metadata": {},
   "outputs": [
    {
     "name": "stderr",
     "output_type": "stream",
     "text": [
      "/home/jlmgk/anaconda3/lib/python3.7/site-packages/seaborn/categorical.py:3666: UserWarning: The `factorplot` function has been renamed to `catplot`. The original name will be removed in a future release. Please update your code. Note that the default `kind` in `factorplot` (`'point'`) has changed `'strip'` in `catplot`.\n",
      "  warnings.warn(msg)\n"
     ]
    },
    {
     "data": {
      "text/plain": [
       "<seaborn.axisgrid.FacetGrid at 0x7f7ac0bbf470>"
      ]
     },
     "execution_count": 27,
     "metadata": {},
     "output_type": "execute_result"
    },
    {
     "data": {
      "image/png": "[encoded data removed]",
      "text/plain": [
       "<Figure size 402.375x360 with 1 Axes>"
      ]
     },
     "metadata": {
      "needs_background": "light"
     },
     "output_type": "display_data"
    }
   ],
   "source": [
    "group2 = pd.DataFrame({'count' : ti.groupby(['pclass','deck', 'survived']).size()}).reset_index()\n",
    "\n",
    "survived = group2[(group2.survived == 1)]\n",
    "sns.factorplot(\"deck\", \"count\", data=survived, hue=\"pclass\")"
   ]
  },
  {
   "cell_type": "markdown",
   "metadata": {},
   "source": [
    "Right away we can see that First class had a much better survival rate than 2nd and 3rd classes. Despite this, we see that the survival Rate within First Class is not very uniform, and appears quite random.\n",
    "\n",
    "Finally, let's look at \"adult_male\" as a predictor."
   ]
  },
  {
   "cell_type": "code",
   "execution_count": 21,
   "metadata": {},
   "outputs": [
    {
     "name": "stderr",
     "output_type": "stream",
     "text": [
      "/home/jlmgk/anaconda3/lib/python3.7/site-packages/seaborn/categorical.py:3666: UserWarning: The `factorplot` function has been renamed to `catplot`. The original name will be removed in a future release. Please update your code. Note that the default `kind` in `factorplot` (`'point'`) has changed `'strip'` in `catplot`.\n",
      "  warnings.warn(msg)\n"
     ]
    },
    {
     "data": {
      "text/plain": [
       "<seaborn.axisgrid.FacetGrid at 0x7f7ac0ec8a58>"
      ]
     },
     "execution_count": 21,
     "metadata": {},
     "output_type": "execute_result"
    },
    {
     "data": {
      "image/png": "[encoded data removed]",
      "text/plain": [
       "<Figure size 423.375x360 with 1 Axes>"
      ]
     },
     "metadata": {
      "needs_background": "light"
     },
     "output_type": "display_data"
    }
   ],
   "source": [
    "group3 = pd.DataFrame({'count' : ti.groupby(['pclass','adult_male', 'survived']).size()}).reset_index()\n",
    "\n",
    "survived2 = group3[(group3.survived == 1)]\n",
    "sns.factorplot(\"pclass\", \"count\", data=survived2, hue=\"adult_male\")"
   ]
  },
  {
   "cell_type": "markdown",
   "metadata": {},
   "source": [
    "# House Price prediction\n",
    "\n",
    "Using the techniques you learned, use everything you can to build the best **interpretable** (eg. non-regularized) regression model on the `house_price.csv` dataset. You also have `house_price_data_description.txt` to help -- full description of each column.\n",
    "\n",
    "Here's a brief version of what you'll find in the data description file.\n",
    "\n",
    "**SalePrice** - the property's sale price in dollars. **This is the target variable that you're trying to predict.**\n",
    "\n",
    "Here are the features you can use (or engineer into new features!) for your `X` matrix:\n",
    "\n",
    "    MSSubClass: The building class\n",
    "    MSZoning: The general zoning classification\n",
    "    LotFrontage: Linear feet of street connected to property\n",
    "    LotArea: Lot size in square feet\n",
    "    Street: Type of road access\n",
    "    Alley: Type of alley access\n",
    "    LotShape: General shape of property\n",
    "    LandContour: Flatness of the property\n",
    "    Utilities: Type of utilities available\n",
    "    LotConfig: Lot configuration\n",
    "    LandSlope: Slope of property\n",
    "    Neighborhood: Physical locations within Ames city limits\n",
    "    Condition1: Proximity to main road or railroad\n",
    "    Condition2: Proximity to main road or railroad (if a second is present)\n",
    "    BldgType: Type of dwelling\n",
    "    HouseStyle: Style of dwelling\n",
    "    OverallQual: Overall material and finish quality\n",
    "    OverallCond: Overall condition rating\n",
    "    YearBuilt: Original construction date\n",
    "    YearRemodAdd: Remodel date\n",
    "    RoofStyle: Type of roof\n",
    "    RoofMatl: Roof material\n",
    "    Exterior1st: Exterior covering on house\n",
    "    Exterior2nd: Exterior covering on house (if more than one material)\n",
    "    MasVnrType: Masonry veneer type\n",
    "    MasVnrArea: Masonry veneer area in square feet\n",
    "    ExterQual: Exterior material quality\n",
    "    ExterCond: Present condition of the material on the exterior\n",
    "    Foundation: Type of foundation\n",
    "    BsmtQual: Height of the basement\n",
    "    BsmtCond: General condition of the basement\n",
    "    BsmtExposure: Walkout or garden level basement walls\n",
    "    BsmtFinType1: Quality of basement finished area\n",
    "    BsmtFinSF1: Type 1 finished square feet\n",
    "    BsmtFinType2: Quality of second finished area (if present)\n",
    "    BsmtFinSF2: Type 2 finished square feet\n",
    "    BsmtUnfSF: Unfinished square feet of basement area\n",
    "    TotalBsmtSF: Total square feet of basement area\n",
    "    Heating: Type of heating\n",
    "    HeatingQC: Heating quality and condition\n",
    "    CentralAir: Central air conditioning\n",
    "    Electrical: Electrical system\n",
    "    1stFlrSF: First Floor square feet\n",
    "    2ndFlrSF: Second floor square feet\n",
    "    LowQualFinSF: Low quality finished square feet (all floors)\n",
    "    GrLivArea: Above grade (ground) living area square feet\n",
    "    BsmtFullBath: Basement full bathrooms\n",
    "    BsmtHalfBath: Basement half bathrooms\n",
    "    FullBath: Full bathrooms above grade\n",
    "    HalfBath: Half baths above grade\n",
    "    Bedroom: Number of bedrooms above basement level\n",
    "    Kitchen: Number of kitchens\n",
    "    KitchenQual: Kitchen quality\n",
    "    TotRmsAbvGrd: Total rooms above grade (does not include bathrooms)\n",
    "    Functional: Home functionality rating\n",
    "    Fireplaces: Number of fireplaces\n",
    "    FireplaceQu: Fireplace quality\n",
    "    GarageType: Garage location\n",
    "    GarageYrBlt: Year garage was built\n",
    "    GarageFinish: Interior finish of the garage\n",
    "    GarageCars: Size of garage in car capacity\n",
    "    GarageArea: Size of garage in square feet\n",
    "    GarageQual: Garage quality\n",
    "    GarageCond: Garage condition\n",
    "    PavedDrive: Paved driveway\n",
    "    WoodDeckSF: Wood deck area in square feet\n",
    "    OpenPorchSF: Open porch area in square feet\n",
    "    EnclosedPorch: Enclosed porch area in square feet\n",
    "    3SsnPorch: Three season porch area in square feet\n",
    "    ScreenPorch: Screen porch area in square feet\n",
    "    PoolArea: Pool area in square feet\n",
    "    PoolQC: Pool quality\n",
    "    Fence: Fence quality\n",
    "    MiscFeature: Miscellaneous feature not covered in other categories\n",
    "    MiscVal: $Value of miscellaneous feature\n",
    "    MoSold: Month Sold\n",
    "    YrSold: Year Sold\n",
    "    SaleType: Type of sale\n",
    "    SaleCondition: Condition of sale\n"
   ]
  },
  {
   "cell_type": "code",
   "execution_count": null,
   "metadata": {},
   "outputs": [],
   "source": []
  }
 ],
 "metadata": {
  "anaconda-cloud": {},
  "kernelspec": {
   "display_name": "Python 3",
   "language": "python",
   "name": "python3"
  },
  "language_info": {
   "codemirror_mode": {
    "name": "ipython",
    "version": 3
   },
   "file_extension": ".py",
   "mimetype": "text/x-python",
   "name": "python",
   "nbconvert_exporter": "python",
   "pygments_lexer": "ipython3",
   "version": "3.7.0"
  }
 },
 "nbformat": 4,
 "nbformat_minor": 1
}
