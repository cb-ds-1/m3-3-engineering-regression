{
 "cells": [
  {
   "cell_type": "markdown",
   "metadata": {},
   "source": [
    "# 1. Tennis Surface Check\n",
    "\n",
    "Use a linear regression and statsmodels to find which surface type predicts the most points for Federer in the `tennis.csv` dataset.\n",
    "\n",
    "1. Give a one-paragraph interpretation of the coefficients, and the meaning of the p-value. \n",
    "\n",
    "2. Answer the following: should your regression include a constant term? Why or why not? How would it change the interpretation of your coefficient and p-value?\n",
    "\n",
    "3. Do a t-test to find that the largest coefficient is statistically significantly different from the second largest (hint: you can run a t-test only with mean values and standard deviations)"
   ]
  },
  {
   "cell_type": "code",
   "execution_count": 68,
   "metadata": {},
   "outputs": [
    {
     "name": "stderr",
     "output_type": "stream",
     "text": [
      "/home/jlmy/anaconda3/lib/python3.7/site-packages/statsmodels/base/model.py:1834: ValueWarning: covariance of constraints does not have full rank. The number of constraints is 6, but rank is 5\n",
      "  'rank is %d' % (J, J_), ValueWarning)\n"
     ]
    },
    {
     "data": {
      "text/html": [
       "<table class=\"simpletable\">\n",
       "<caption>OLS Regression Results</caption>\n",
       "<tr>\n",
       "  <th>Dep. Variable:</th>    <td>player1 total points won</td> <th>  R-squared:         </th> <td>   0.062</td> \n",
       "</tr>\n",
       "<tr>\n",
       "  <th>Model:</th>                       <td>OLS</td>           <th>  Adj. R-squared:    </th> <td>   0.058</td> \n",
       "</tr>\n",
       "<tr>\n",
       "  <th>Method:</th>                 <td>Least Squares</td>      <th>  F-statistic:       </th> <td>   966.2</td> \n",
       "</tr>\n",
       "<tr>\n",
       "  <th>Date:</th>                 <td>Fri, 22 Jan 2021</td>     <th>  Prob (F-statistic):</th>  <td>  0.00</td>  \n",
       "</tr>\n",
       "<tr>\n",
       "  <th>Time:</th>                     <td>00:20:32</td>         <th>  Log-Likelihood:    </th> <td> -5955.6</td> \n",
       "</tr>\n",
       "<tr>\n",
       "  <th>No. Observations:</th>          <td>  1179</td>          <th>  AIC:               </th> <td>1.192e+04</td>\n",
       "</tr>\n",
       "<tr>\n",
       "  <th>Df Residuals:</th>              <td>  1173</td>          <th>  BIC:               </th> <td>1.195e+04</td>\n",
       "</tr>\n",
       "<tr>\n",
       "  <th>Df Model:</th>                  <td>     5</td>          <th>                     </th>     <td> </td>    \n",
       "</tr>\n",
       "<tr>\n",
       "  <th>Covariance Type:</th>             <td>HC2</td>           <th>                     </th>     <td> </td>    \n",
       "</tr>\n",
       "</table>\n",
       "<table class=\"simpletable\">\n",
       "<tr>\n",
       "         <td></td>           <th>coef</th>     <th>std err</th>      <th>z</th>      <th>P>|z|</th>  <th>[0.025</th>    <th>0.975]</th>  \n",
       "</tr>\n",
       "<tr>\n",
       "  <th>const</th>          <td>   53.6325</td> <td>    1.003</td> <td>   53.477</td> <td> 0.000</td> <td>   51.667</td> <td>   55.598</td>\n",
       "</tr>\n",
       "<tr>\n",
       "  <th>Outdoor: Hard</th>  <td>   24.2348</td> <td>    1.767</td> <td>   13.718</td> <td> 0.000</td> <td>   20.772</td> <td>   27.697</td>\n",
       "</tr>\n",
       "<tr>\n",
       "  <th>Indoor: Hard</th>   <td>   12.5357</td> <td>    2.027</td> <td>    6.184</td> <td> 0.000</td> <td>    8.563</td> <td>   16.509</td>\n",
       "</tr>\n",
       "<tr>\n",
       "  <th>Outdoor: Grass</th> <td>   38.9247</td> <td>    3.016</td> <td>   12.906</td> <td> 0.000</td> <td>   33.014</td> <td>   44.836</td>\n",
       "</tr>\n",
       "<tr>\n",
       "  <th>Outdoor: Clay</th>  <td>   22.7812</td> <td>    2.425</td> <td>    9.396</td> <td> 0.000</td> <td>   18.029</td> <td>   27.533</td>\n",
       "</tr>\n",
       "<tr>\n",
       "  <th>Indoor: Carpet</th> <td>    8.7886</td> <td>    4.246</td> <td>    2.070</td> <td> 0.038</td> <td>    0.467</td> <td>   17.111</td>\n",
       "</tr>\n",
       "<tr>\n",
       "  <th>Indoor: Clay</th>   <td>  -53.6325</td> <td>    1.003</td> <td>  -53.477</td> <td> 0.000</td> <td>  -55.598</td> <td>  -51.667</td>\n",
       "</tr>\n",
       "</table>\n",
       "<table class=\"simpletable\">\n",
       "<tr>\n",
       "  <th>Omnibus:</th>       <td>21.727</td> <th>  Durbin-Watson:     </th> <td>   1.571</td>\n",
       "</tr>\n",
       "<tr>\n",
       "  <th>Prob(Omnibus):</th> <td> 0.000</td> <th>  Jarque-Bera (JB):  </th> <td>  25.333</td>\n",
       "</tr>\n",
       "<tr>\n",
       "  <th>Skew:</th>          <td>-0.261</td> <th>  Prob(JB):          </th> <td>3.15e-06</td>\n",
       "</tr>\n",
       "<tr>\n",
       "  <th>Kurtosis:</th>      <td> 3.493</td> <th>  Cond. No.          </th> <td>1.52e+15</td>\n",
       "</tr>\n",
       "</table><br/><br/>Notes:<br/>[1] Standard Errors are heteroscedasticity robust (HC2)<br/>[2] The smallest eigenvalue is 6.52e-28. This might indicate that there are<br/>strong multicollinearity problems or that the design matrix is singular."
      ],
      "text/plain": [
       "<class 'statsmodels.iolib.summary.Summary'>\n",
       "\"\"\"\n",
       "                               OLS Regression Results                               \n",
       "====================================================================================\n",
       "Dep. Variable:     player1 total points won   R-squared:                       0.062\n",
       "Model:                                  OLS   Adj. R-squared:                  0.058\n",
       "Method:                       Least Squares   F-statistic:                     966.2\n",
       "Date:                      Fri, 22 Jan 2021   Prob (F-statistic):               0.00\n",
       "Time:                              00:20:32   Log-Likelihood:                -5955.6\n",
       "No. Observations:                      1179   AIC:                         1.192e+04\n",
       "Df Residuals:                          1173   BIC:                         1.195e+04\n",
       "Df Model:                                 5                                         \n",
       "Covariance Type:                        HC2                                         \n",
       "==================================================================================\n",
       "                     coef    std err          z      P>|z|      [0.025      0.975]\n",
       "----------------------------------------------------------------------------------\n",
       "const             53.6325      1.003     53.477      0.000      51.667      55.598\n",
       "Outdoor: Hard     24.2348      1.767     13.718      0.000      20.772      27.697\n",
       "Indoor: Hard      12.5357      2.027      6.184      0.000       8.563      16.509\n",
       "Outdoor: Grass    38.9247      3.016     12.906      0.000      33.014      44.836\n",
       "Outdoor: Clay     22.7812      2.425      9.396      0.000      18.029      27.533\n",
       "Indoor: Carpet     8.7886      4.246      2.070      0.038       0.467      17.111\n",
       "Indoor: Clay     -53.6325      1.003    -53.477      0.000     -55.598     -51.667\n",
       "==============================================================================\n",
       "Omnibus:                       21.727   Durbin-Watson:                   1.571\n",
       "Prob(Omnibus):                  0.000   Jarque-Bera (JB):               25.333\n",
       "Skew:                          -0.261   Prob(JB):                     3.15e-06\n",
       "Kurtosis:                       3.493   Cond. No.                     1.52e+15\n",
       "==============================================================================\n",
       "\n",
       "Notes:\n",
       "[1] Standard Errors are heteroscedasticity robust (HC2)\n",
       "[2] The smallest eigenvalue is 6.52e-28. This might indicate that there are\n",
       "strong multicollinearity problems or that the design matrix is singular.\n",
       "\"\"\""
      ]
     },
     "execution_count": 68,
     "metadata": {},
     "output_type": "execute_result"
    }
   ],
   "source": [
    "import matplotlib.pyplot as plt\n",
    "import numpy as np\n",
    "import seaborn as sns\n",
    "import statsmodels.api as sm\n",
    "import pandas as pd\n",
    "from sklearn.preprocessing import PolynomialFeatures\n",
    "\n",
    "te = pd.read_csv('data/tennis.csv')\n",
    "te = te.fillna(0.)\n",
    "\n",
    "surfaces = list(set(list(te.surface)))\n",
    "for surface in surfaces:\n",
    "    te[surface] = te['surface'].map(lambda row: 1 if row == surface else 0)\n",
    "    \n",
    "te[surfaces + ['player1 total points won']]\n",
    "# te.columns\n",
    "y = te['player1 total points won']\n",
    "\n",
    "x = sm.add_constant(te[surfaces])\n",
    "model = sm.OLS(y,x).fit(cov_type='HC2')\n",
    "model.summary()"
   ]
  },
  {
   "cell_type": "markdown",
   "metadata": {},
   "source": [
    "#### 1. Coeffs and p-values\n",
    "\n",
    "It is worth noting our R squares i very low, variations are high around the predictors. However, this should not pose a problem since tennis games are trully never \"predictable\", per-se.\n",
    "\n",
    "##### Coeffs\n",
    "Two main things stand out: Indoor: Clay court is the only negative coefficient when predicting points, whereas Indoor: Carpet is the smallest coefficient. These coefficients indicate, in a positive coeffococase, that the more Federer plays on a positive coefficient surface (such as Grass), then more he is likely to score points or as many points as before on average . Contrarily, should he keep playing on negative coefficient surfaces, he will likely score less and less points  on average. This means Federer in consistently underperforming on Indoor Carpet courts, wheras he is performing consistently on all other types of courts. \n",
    "\n",
    "##### P-value\n",
    "On the other hand, the Carpet court's p-value is the only non-zero p-value and s above our $\\alpha = 0.01$, meaning we should not reject the null jupothesis for Carpet courts, and should disregard carpet courts as significant predictors."
   ]
  },
  {
   "cell_type": "code",
   "execution_count": 69,
   "metadata": {},
   "outputs": [
    {
     "data": {
      "text/plain": [
       "Outdoor: Hard     482\n",
       "Outdoor: Clay     249\n",
       "Indoor: Hard      226\n",
       "Outdoor: Grass    140\n",
       "Indoor: Carpet     76\n",
       "Indoor: Clay        6\n",
       "Name: surface, dtype: int64"
      ]
     },
     "execution_count": 69,
     "metadata": {},
     "output_type": "execute_result"
    }
   ],
   "source": [
    "te.surface.value_counts()"
   ]
  },
  {
   "cell_type": "markdown",
   "metadata": {},
   "source": [
    "In fact, we can assume this since the number of Indoor: Clay and Indoor: Carpet games are not numerous to be significant. We'll exclude those, let's isolate the most significant surfaces"
   ]
  },
  {
   "cell_type": "code",
   "execution_count": 70,
   "metadata": {},
   "outputs": [
    {
     "name": "stdout",
     "output_type": "stream",
     "text": [
      "Outdoor: Hard     482\n",
      "Outdoor: Clay     249\n",
      "Indoor: Hard      226\n",
      "Outdoor: Grass    140\n",
      "Indoor: Clay        6\n",
      "Name: surface, dtype: int64\n"
     ]
    },
    {
     "name": "stderr",
     "output_type": "stream",
     "text": [
      "/home/jlmy/anaconda3/lib/python3.7/site-packages/statsmodels/base/model.py:1834: ValueWarning: covariance of constraints does not have full rank. The number of constraints is 5, but rank is 4\n",
      "  'rank is %d' % (J, J_), ValueWarning)\n"
     ]
    },
    {
     "data": {
      "text/html": [
       "<table class=\"simpletable\">\n",
       "<caption>OLS Regression Results</caption>\n",
       "<tr>\n",
       "  <th>Dep. Variable:</th>    <td>player1 total points won</td> <th>  R-squared:         </th> <td>   0.058</td> \n",
       "</tr>\n",
       "<tr>\n",
       "  <th>Model:</th>                       <td>OLS</td>           <th>  Adj. R-squared:    </th> <td>   0.055</td> \n",
       "</tr>\n",
       "<tr>\n",
       "  <th>Method:</th>                 <td>Least Squares</td>      <th>  F-statistic:       </th> <td>   1167.</td> \n",
       "</tr>\n",
       "<tr>\n",
       "  <th>Date:</th>                 <td>Fri, 22 Jan 2021</td>     <th>  Prob (F-statistic):</th>  <td>  0.00</td>  \n",
       "</tr>\n",
       "<tr>\n",
       "  <th>Time:</th>                     <td>00:20:34</td>         <th>  Log-Likelihood:    </th> <td> -5562.1</td> \n",
       "</tr>\n",
       "<tr>\n",
       "  <th>No. Observations:</th>          <td>  1103</td>          <th>  AIC:               </th> <td>1.113e+04</td>\n",
       "</tr>\n",
       "<tr>\n",
       "  <th>Df Residuals:</th>              <td>  1098</td>          <th>  BIC:               </th> <td>1.116e+04</td>\n",
       "</tr>\n",
       "<tr>\n",
       "  <th>Df Model:</th>                  <td>     4</td>          <th>                     </th>     <td> </td>    \n",
       "</tr>\n",
       "<tr>\n",
       "  <th>Covariance Type:</th>             <td>HC2</td>           <th>                     </th>     <td> </td>    \n",
       "</tr>\n",
       "</table>\n",
       "<table class=\"simpletable\">\n",
       "<tr>\n",
       "         <td></td>           <th>coef</th>     <th>std err</th>      <th>z</th>      <th>P>|z|</th>  <th>[0.025</th>    <th>0.975]</th>  \n",
       "</tr>\n",
       "<tr>\n",
       "  <th>const</th>          <td>   52.1677</td> <td>    0.841</td> <td>   62.040</td> <td> 0.000</td> <td>   50.520</td> <td>   53.816</td>\n",
       "</tr>\n",
       "<tr>\n",
       "  <th>Outdoor: Hard</th>  <td>   25.6995</td> <td>    1.637</td> <td>   15.695</td> <td> 0.000</td> <td>   22.490</td> <td>   28.909</td>\n",
       "</tr>\n",
       "<tr>\n",
       "  <th>Indoor: Hard</th>   <td>   14.0004</td> <td>    1.898</td> <td>    7.376</td> <td> 0.000</td> <td>   10.280</td> <td>   17.721</td>\n",
       "</tr>\n",
       "<tr>\n",
       "  <th>Outdoor: Grass</th> <td>   40.3894</td> <td>    2.874</td> <td>   14.055</td> <td> 0.000</td> <td>   34.757</td> <td>   46.022</td>\n",
       "</tr>\n",
       "<tr>\n",
       "  <th>Outdoor: Clay</th>  <td>   24.2460</td> <td>    2.292</td> <td>   10.577</td> <td> 0.000</td> <td>   19.753</td> <td>   28.739</td>\n",
       "</tr>\n",
       "<tr>\n",
       "  <th>Indoor: Clay</th>   <td>  -52.1677</td> <td>    0.841</td> <td>  -62.040</td> <td> 0.000</td> <td>  -53.816</td> <td>  -50.520</td>\n",
       "</tr>\n",
       "</table>\n",
       "<table class=\"simpletable\">\n",
       "<tr>\n",
       "  <th>Omnibus:</th>       <td>24.257</td> <th>  Durbin-Watson:     </th> <td>   1.586</td>\n",
       "</tr>\n",
       "<tr>\n",
       "  <th>Prob(Omnibus):</th> <td> 0.000</td> <th>  Jarque-Bera (JB):  </th> <td>  29.667</td>\n",
       "</tr>\n",
       "<tr>\n",
       "  <th>Skew:</th>          <td>-0.277</td> <th>  Prob(JB):          </th> <td>3.61e-07</td>\n",
       "</tr>\n",
       "<tr>\n",
       "  <th>Kurtosis:</th>      <td> 3.582</td> <th>  Cond. No.          </th> <td>1.55e+15</td>\n",
       "</tr>\n",
       "</table><br/><br/>Notes:<br/>[1] Standard Errors are heteroscedasticity robust (HC2)<br/>[2] The smallest eigenvalue is 6.03e-28. This might indicate that there are<br/>strong multicollinearity problems or that the design matrix is singular."
      ],
      "text/plain": [
       "<class 'statsmodels.iolib.summary.Summary'>\n",
       "\"\"\"\n",
       "                               OLS Regression Results                               \n",
       "====================================================================================\n",
       "Dep. Variable:     player1 total points won   R-squared:                       0.058\n",
       "Model:                                  OLS   Adj. R-squared:                  0.055\n",
       "Method:                       Least Squares   F-statistic:                     1167.\n",
       "Date:                      Fri, 22 Jan 2021   Prob (F-statistic):               0.00\n",
       "Time:                              00:20:34   Log-Likelihood:                -5562.1\n",
       "No. Observations:                      1103   AIC:                         1.113e+04\n",
       "Df Residuals:                          1098   BIC:                         1.116e+04\n",
       "Df Model:                                 4                                         \n",
       "Covariance Type:                        HC2                                         \n",
       "==================================================================================\n",
       "                     coef    std err          z      P>|z|      [0.025      0.975]\n",
       "----------------------------------------------------------------------------------\n",
       "const             52.1677      0.841     62.040      0.000      50.520      53.816\n",
       "Outdoor: Hard     25.6995      1.637     15.695      0.000      22.490      28.909\n",
       "Indoor: Hard      14.0004      1.898      7.376      0.000      10.280      17.721\n",
       "Outdoor: Grass    40.3894      2.874     14.055      0.000      34.757      46.022\n",
       "Outdoor: Clay     24.2460      2.292     10.577      0.000      19.753      28.739\n",
       "Indoor: Clay     -52.1677      0.841    -62.040      0.000     -53.816     -50.520\n",
       "==============================================================================\n",
       "Omnibus:                       24.257   Durbin-Watson:                   1.586\n",
       "Prob(Omnibus):                  0.000   Jarque-Bera (JB):               29.667\n",
       "Skew:                          -0.277   Prob(JB):                     3.61e-07\n",
       "Kurtosis:                       3.582   Cond. No.                     1.55e+15\n",
       "==============================================================================\n",
       "\n",
       "Notes:\n",
       "[1] Standard Errors are heteroscedasticity robust (HC2)\n",
       "[2] The smallest eigenvalue is 6.03e-28. This might indicate that there are\n",
       "strong multicollinearity problems or that the design matrix is singular.\n",
       "\"\"\""
      ]
     },
     "execution_count": 70,
     "metadata": {},
     "output_type": "execute_result"
    }
   ],
   "source": [
    "def filter_down_surfaces(te, remove=[], add_constant=True):\n",
    "    tec = te.copy()\n",
    "    for rem in remove:        \n",
    "        tec = tec[tec.surface != rem]\n",
    "    y = tec['player1 total points won']\n",
    "    surfaces = list(set(list(tec.surface)))\n",
    "    print(tec.surface.value_counts())\n",
    "    for surface in surfaces:\n",
    "        tec[surface] = tec['surface'].map(lambda row: 1 if row == surface else 0)\n",
    "    x = tec[surfaces]\n",
    "    if add_constant:\n",
    "        x = sm.add_constant(tec[surfaces])\n",
    "    model = sm.OLS(y,x).fit(cov_type='HC2')\n",
    "    summary = model.summary2()\n",
    "    table = summary.tables[1]\n",
    "    table = table[table['P>|z|'] > 0.01]\n",
    "    if table.count()['P>|z|'] > 0:\n",
    "        return filter_down_surfaces(te, list(table.index),add_constant=add_constant)\n",
    "    return model\n",
    "\n",
    "model2 = filter_down_surfaces(te, ['Indoor: Carpet'])\n",
    "model2.summary()"
   ]
  },
  {
   "cell_type": "markdown",
   "metadata": {},
   "source": [
    "We now only have zero-value p-values for surfaces which we should consider. However, we can see now that by having removed some values for surfaces, our $R^2$ has gone down by 0.004, indicating our fit might not be as accurate (although ever so slightly).\n",
    "\n",
    "Despite this, our p-values being non-zero and bellow our alpha of 0.01, we can reject the null hypothessis for Outdoor Clay, Grass, Hard and Indoor Hard and Clay surfaces.\n",
    "\n",
    "We now see see that the highest coefficient, is for Outdoor Grass at 40.3894. This suggests, should Federer play on Outdoor Grass, it is very likely he will score more 2.8 times more points than on Indoor hard surfaces, "
   ]
  },
  {
   "cell_type": "markdown",
   "metadata": {},
   "source": [
    "#### 2. Constant Term\n",
    "Let's proceed by removing Constant Terms."
   ]
  },
  {
   "cell_type": "code",
   "execution_count": 71,
   "metadata": {},
   "outputs": [
    {
     "name": "stdout",
     "output_type": "stream",
     "text": [
      "Outdoor: Hard     482\n",
      "Outdoor: Clay     249\n",
      "Indoor: Hard      226\n",
      "Outdoor: Grass    140\n",
      "Indoor: Carpet     76\n",
      "Indoor: Clay        6\n",
      "Name: surface, dtype: int64\n"
     ]
    },
    {
     "data": {
      "text/html": [
       "<table class=\"simpletable\">\n",
       "<caption>OLS Regression Results</caption>\n",
       "<tr>\n",
       "  <th>Dep. Variable:</th>    <td>player1 total points won</td> <th>  R-squared:         </th> <td>   0.062</td> \n",
       "</tr>\n",
       "<tr>\n",
       "  <th>Model:</th>                       <td>OLS</td>           <th>  Adj. R-squared:    </th> <td>   0.058</td> \n",
       "</tr>\n",
       "<tr>\n",
       "  <th>Method:</th>                 <td>Least Squares</td>      <th>  F-statistic:       </th> <td>     nan</td> \n",
       "</tr>\n",
       "<tr>\n",
       "  <th>Date:</th>                 <td>Fri, 22 Jan 2021</td>     <th>  Prob (F-statistic):</th>  <td>   nan</td>  \n",
       "</tr>\n",
       "<tr>\n",
       "  <th>Time:</th>                     <td>00:20:36</td>         <th>  Log-Likelihood:    </th> <td> -5955.6</td> \n",
       "</tr>\n",
       "<tr>\n",
       "  <th>No. Observations:</th>          <td>  1179</td>          <th>  AIC:               </th> <td>1.192e+04</td>\n",
       "</tr>\n",
       "<tr>\n",
       "  <th>Df Residuals:</th>              <td>  1173</td>          <th>  BIC:               </th> <td>1.195e+04</td>\n",
       "</tr>\n",
       "<tr>\n",
       "  <th>Df Model:</th>                  <td>     5</td>          <th>                     </th>     <td> </td>    \n",
       "</tr>\n",
       "<tr>\n",
       "  <th>Covariance Type:</th>             <td>HC2</td>           <th>                     </th>     <td> </td>    \n",
       "</tr>\n",
       "</table>\n",
       "<table class=\"simpletable\">\n",
       "<tr>\n",
       "         <td></td>           <th>coef</th>     <th>std err</th>      <th>z</th>      <th>P>|z|</th>  <th>[0.025</th>    <th>0.975]</th>  \n",
       "</tr>\n",
       "<tr>\n",
       "  <th>Outdoor: Hard</th>  <td>   77.8672</td> <td>    1.721</td> <td>   45.249</td> <td> 0.000</td> <td>   74.494</td> <td>   81.240</td>\n",
       "</tr>\n",
       "<tr>\n",
       "  <th>Indoor: Hard</th>   <td>   66.1681</td> <td>    2.084</td> <td>   31.746</td> <td> 0.000</td> <td>   62.083</td> <td>   70.253</td>\n",
       "</tr>\n",
       "<tr>\n",
       "  <th>Outdoor: Grass</th> <td>   92.5571</td> <td>    3.365</td> <td>   27.502</td> <td> 0.000</td> <td>   85.961</td> <td>   99.153</td>\n",
       "</tr>\n",
       "<tr>\n",
       "  <th>Outdoor: Clay</th>  <td>   76.4137</td> <td>    2.612</td> <td>   29.256</td> <td> 0.000</td> <td>   71.294</td> <td>   81.533</td>\n",
       "</tr>\n",
       "<tr>\n",
       "  <th>Indoor: Carpet</th> <td>   62.4211</td> <td>    4.882</td> <td>   12.787</td> <td> 0.000</td> <td>   52.853</td> <td>   71.989</td>\n",
       "</tr>\n",
       "<tr>\n",
       "  <th>Indoor: Clay</th>   <td>         0</td> <td>        0</td> <td>      nan</td> <td>   nan</td> <td>        0</td> <td>        0</td>\n",
       "</tr>\n",
       "</table>\n",
       "<table class=\"simpletable\">\n",
       "<tr>\n",
       "  <th>Omnibus:</th>       <td>21.727</td> <th>  Durbin-Watson:     </th> <td>   1.571</td>\n",
       "</tr>\n",
       "<tr>\n",
       "  <th>Prob(Omnibus):</th> <td> 0.000</td> <th>  Jarque-Bera (JB):  </th> <td>  25.333</td>\n",
       "</tr>\n",
       "<tr>\n",
       "  <th>Skew:</th>          <td>-0.261</td> <th>  Prob(JB):          </th> <td>3.15e-06</td>\n",
       "</tr>\n",
       "<tr>\n",
       "  <th>Kurtosis:</th>      <td> 3.493</td> <th>  Cond. No.          </th> <td>    8.96</td>\n",
       "</tr>\n",
       "</table><br/><br/>Notes:<br/>[1] Standard Errors are heteroscedasticity robust (HC2)"
      ],
      "text/plain": [
       "<class 'statsmodels.iolib.summary.Summary'>\n",
       "\"\"\"\n",
       "                               OLS Regression Results                               \n",
       "====================================================================================\n",
       "Dep. Variable:     player1 total points won   R-squared:                       0.062\n",
       "Model:                                  OLS   Adj. R-squared:                  0.058\n",
       "Method:                       Least Squares   F-statistic:                       nan\n",
       "Date:                      Fri, 22 Jan 2021   Prob (F-statistic):                nan\n",
       "Time:                              00:20:36   Log-Likelihood:                -5955.6\n",
       "No. Observations:                      1179   AIC:                         1.192e+04\n",
       "Df Residuals:                          1173   BIC:                         1.195e+04\n",
       "Df Model:                                 5                                         \n",
       "Covariance Type:                        HC2                                         \n",
       "==================================================================================\n",
       "                     coef    std err          z      P>|z|      [0.025      0.975]\n",
       "----------------------------------------------------------------------------------\n",
       "Outdoor: Hard     77.8672      1.721     45.249      0.000      74.494      81.240\n",
       "Indoor: Hard      66.1681      2.084     31.746      0.000      62.083      70.253\n",
       "Outdoor: Grass    92.5571      3.365     27.502      0.000      85.961      99.153\n",
       "Outdoor: Clay     76.4137      2.612     29.256      0.000      71.294      81.533\n",
       "Indoor: Carpet    62.4211      4.882     12.787      0.000      52.853      71.989\n",
       "Indoor: Clay            0          0        nan        nan           0           0\n",
       "==============================================================================\n",
       "Omnibus:                       21.727   Durbin-Watson:                   1.571\n",
       "Prob(Omnibus):                  0.000   Jarque-Bera (JB):               25.333\n",
       "Skew:                          -0.261   Prob(JB):                     3.15e-06\n",
       "Kurtosis:                       3.493   Cond. No.                         8.96\n",
       "==============================================================================\n",
       "\n",
       "Notes:\n",
       "[1] Standard Errors are heteroscedasticity robust (HC2)\n",
       "\"\"\""
      ]
     },
     "execution_count": 71,
     "metadata": {},
     "output_type": "execute_result"
    }
   ],
   "source": [
    "model3 = filter_down_surfaces(te, [], add_constant=False)\n",
    "model3.summary()"
   ]
  },
  {
   "cell_type": "markdown",
   "metadata": {},
   "source": [
    "We can tell right away that by ommitting the Constant Term, we've increased our $R^2$ by 0.004, which is not significant. This is expected since our predictor is the type of court surface, which is not a continuous variable, but a qualitative one.\n",
    "\n",
    "Additionally, we can also tell that not having the constant terms does not change the difference in coefficients in any significant way. The mean of points per surface type is shown rather than the difference between the points mean per surface courts.\n",
    "\n",
    "Therefore, adding or ommiting the Constant Term has no impact on prediction or fit."
   ]
  },
  {
   "cell_type": "markdown",
   "metadata": {},
   "source": [
    "#### 3. T-Test"
   ]
  },
  {
   "cell_type": "code",
   "execution_count": 72,
   "metadata": {},
   "outputs": [
    {
     "name": "stdout",
     "output_type": "stream",
     "text": [
      "We reject the null hypothesis, the top two coeffs are statistically significantly different\n"
     ]
    },
    {
     "data": {
      "text/plain": [
       "7.085417056631752e-05"
      ]
     },
     "execution_count": 72,
     "metadata": {},
     "output_type": "execute_result"
    }
   ],
   "source": [
    "from scipy.stats import ttest_ind_from_stats\n",
    "top2 = model3.params.sort_values(ascending=False).nlargest(2)\n",
    "top2\n",
    "df = pd.DataFrame({\n",
    "    'Court': list(top2.index)\n",
    "})\n",
    "te[te.surface == 'Outdoor: Grass']\n",
    "df['NSize'] = df.Court.apply(lambda x: te[te.surface == x].surface.count())\n",
    "df['CMean'] = df.Court.apply(lambda x: te[te.surface == x]['player1 total points won'].mean())\n",
    "df['CVar'] = df.Court.apply(lambda x: te[te.surface == x]['player1 total points won'].var())\n",
    "\n",
    "first = df.iloc[0]\n",
    "second = one = df.iloc[1]\n",
    "_, pvalue = ttest_ind_from_stats(mean1=first.CMean, std1=np.sqrt(first.CVar), nobs1=first.NSize,\n",
    "                     mean2=second.CMean, std2=np.sqrt(second.CVar), nobs2=second.NSize)\n",
    "if pvalue <= 0.01:\n",
    "    print(\"We reject the null hypothesis, the top two coeffs are statistically significantly different\")\n",
    "else:\n",
    "    print(\"We accept the null hypothesis, the top two coeffs are not statistically significantly different\")\n",
    "pvalue"
   ]
  },
  {
   "cell_type": "markdown",
   "metadata": {},
   "source": [
    "# 2. Titanic prediction contest\n",
    "\n",
    "Use whatever tricks you can to best model whether a passenger would survive the titanic disaster (using linear regression).\n",
    "\n",
    "1. Use non-regularized regression to build the best model you can. Show 2 alternate model speficications and explain why you chose the one you did\n",
    "\n",
    "2. Interpret the coefficients in your model. Which attributes best relate to survival probability? How does this relate to socio-economic characteristics and \"real-world\" interpretation?\n",
    "\n",
    "3. Use regularized regression to build a purely predictive model. Can you improve your accuracy? Plot the regularized model against the interpretable model predictions in a regression plot to make your case."
   ]
  },
  {
   "cell_type": "code",
   "execution_count": 73,
   "metadata": {},
   "outputs": [
    {
     "data": {
      "text/html": [
       "<div>\n",
       "<style scoped>\n",
       "    .dataframe tbody tr th:only-of-type {\n",
       "        vertical-align: middle;\n",
       "    }\n",
       "\n",
       "    .dataframe tbody tr th {\n",
       "        vertical-align: top;\n",
       "    }\n",
       "\n",
       "    .dataframe thead th {\n",
       "        text-align: right;\n",
       "    }\n",
       "</style>\n",
       "<table border=\"1\" class=\"dataframe\">\n",
       "  <thead>\n",
       "    <tr style=\"text-align: right;\">\n",
       "      <th></th>\n",
       "      <th>survived</th>\n",
       "      <th>pclass</th>\n",
       "      <th>sex</th>\n",
       "      <th>age</th>\n",
       "      <th>sibsp</th>\n",
       "      <th>parch</th>\n",
       "      <th>fare</th>\n",
       "      <th>embarked</th>\n",
       "      <th>class</th>\n",
       "      <th>who</th>\n",
       "      <th>adult_male</th>\n",
       "      <th>deck</th>\n",
       "      <th>embark_town</th>\n",
       "      <th>alive</th>\n",
       "      <th>alone</th>\n",
       "    </tr>\n",
       "  </thead>\n",
       "  <tbody>\n",
       "    <tr>\n",
       "      <th>0</th>\n",
       "      <td>0</td>\n",
       "      <td>3</td>\n",
       "      <td>male</td>\n",
       "      <td>22.0</td>\n",
       "      <td>1</td>\n",
       "      <td>0</td>\n",
       "      <td>7.2500</td>\n",
       "      <td>S</td>\n",
       "      <td>Third</td>\n",
       "      <td>man</td>\n",
       "      <td>True</td>\n",
       "      <td>NaN</td>\n",
       "      <td>Southampton</td>\n",
       "      <td>no</td>\n",
       "      <td>False</td>\n",
       "    </tr>\n",
       "    <tr>\n",
       "      <th>1</th>\n",
       "      <td>1</td>\n",
       "      <td>1</td>\n",
       "      <td>female</td>\n",
       "      <td>38.0</td>\n",
       "      <td>1</td>\n",
       "      <td>0</td>\n",
       "      <td>71.2833</td>\n",
       "      <td>C</td>\n",
       "      <td>First</td>\n",
       "      <td>woman</td>\n",
       "      <td>False</td>\n",
       "      <td>C</td>\n",
       "      <td>Cherbourg</td>\n",
       "      <td>yes</td>\n",
       "      <td>False</td>\n",
       "    </tr>\n",
       "    <tr>\n",
       "      <th>2</th>\n",
       "      <td>1</td>\n",
       "      <td>3</td>\n",
       "      <td>female</td>\n",
       "      <td>26.0</td>\n",
       "      <td>0</td>\n",
       "      <td>0</td>\n",
       "      <td>7.9250</td>\n",
       "      <td>S</td>\n",
       "      <td>Third</td>\n",
       "      <td>woman</td>\n",
       "      <td>False</td>\n",
       "      <td>NaN</td>\n",
       "      <td>Southampton</td>\n",
       "      <td>yes</td>\n",
       "      <td>True</td>\n",
       "    </tr>\n",
       "    <tr>\n",
       "      <th>3</th>\n",
       "      <td>1</td>\n",
       "      <td>1</td>\n",
       "      <td>female</td>\n",
       "      <td>35.0</td>\n",
       "      <td>1</td>\n",
       "      <td>0</td>\n",
       "      <td>53.1000</td>\n",
       "      <td>S</td>\n",
       "      <td>First</td>\n",
       "      <td>woman</td>\n",
       "      <td>False</td>\n",
       "      <td>C</td>\n",
       "      <td>Southampton</td>\n",
       "      <td>yes</td>\n",
       "      <td>False</td>\n",
       "    </tr>\n",
       "    <tr>\n",
       "      <th>4</th>\n",
       "      <td>0</td>\n",
       "      <td>3</td>\n",
       "      <td>male</td>\n",
       "      <td>35.0</td>\n",
       "      <td>0</td>\n",
       "      <td>0</td>\n",
       "      <td>8.0500</td>\n",
       "      <td>S</td>\n",
       "      <td>Third</td>\n",
       "      <td>man</td>\n",
       "      <td>True</td>\n",
       "      <td>NaN</td>\n",
       "      <td>Southampton</td>\n",
       "      <td>no</td>\n",
       "      <td>True</td>\n",
       "    </tr>\n",
       "    <tr>\n",
       "      <th>...</th>\n",
       "      <td>...</td>\n",
       "      <td>...</td>\n",
       "      <td>...</td>\n",
       "      <td>...</td>\n",
       "      <td>...</td>\n",
       "      <td>...</td>\n",
       "      <td>...</td>\n",
       "      <td>...</td>\n",
       "      <td>...</td>\n",
       "      <td>...</td>\n",
       "      <td>...</td>\n",
       "      <td>...</td>\n",
       "      <td>...</td>\n",
       "      <td>...</td>\n",
       "      <td>...</td>\n",
       "    </tr>\n",
       "    <tr>\n",
       "      <th>886</th>\n",
       "      <td>0</td>\n",
       "      <td>2</td>\n",
       "      <td>male</td>\n",
       "      <td>27.0</td>\n",
       "      <td>0</td>\n",
       "      <td>0</td>\n",
       "      <td>13.0000</td>\n",
       "      <td>S</td>\n",
       "      <td>Second</td>\n",
       "      <td>man</td>\n",
       "      <td>True</td>\n",
       "      <td>NaN</td>\n",
       "      <td>Southampton</td>\n",
       "      <td>no</td>\n",
       "      <td>True</td>\n",
       "    </tr>\n",
       "    <tr>\n",
       "      <th>887</th>\n",
       "      <td>1</td>\n",
       "      <td>1</td>\n",
       "      <td>female</td>\n",
       "      <td>19.0</td>\n",
       "      <td>0</td>\n",
       "      <td>0</td>\n",
       "      <td>30.0000</td>\n",
       "      <td>S</td>\n",
       "      <td>First</td>\n",
       "      <td>woman</td>\n",
       "      <td>False</td>\n",
       "      <td>B</td>\n",
       "      <td>Southampton</td>\n",
       "      <td>yes</td>\n",
       "      <td>True</td>\n",
       "    </tr>\n",
       "    <tr>\n",
       "      <th>888</th>\n",
       "      <td>0</td>\n",
       "      <td>3</td>\n",
       "      <td>female</td>\n",
       "      <td>NaN</td>\n",
       "      <td>1</td>\n",
       "      <td>2</td>\n",
       "      <td>23.4500</td>\n",
       "      <td>S</td>\n",
       "      <td>Third</td>\n",
       "      <td>woman</td>\n",
       "      <td>False</td>\n",
       "      <td>NaN</td>\n",
       "      <td>Southampton</td>\n",
       "      <td>no</td>\n",
       "      <td>False</td>\n",
       "    </tr>\n",
       "    <tr>\n",
       "      <th>889</th>\n",
       "      <td>1</td>\n",
       "      <td>1</td>\n",
       "      <td>male</td>\n",
       "      <td>26.0</td>\n",
       "      <td>0</td>\n",
       "      <td>0</td>\n",
       "      <td>30.0000</td>\n",
       "      <td>C</td>\n",
       "      <td>First</td>\n",
       "      <td>man</td>\n",
       "      <td>True</td>\n",
       "      <td>C</td>\n",
       "      <td>Cherbourg</td>\n",
       "      <td>yes</td>\n",
       "      <td>True</td>\n",
       "    </tr>\n",
       "    <tr>\n",
       "      <th>890</th>\n",
       "      <td>0</td>\n",
       "      <td>3</td>\n",
       "      <td>male</td>\n",
       "      <td>32.0</td>\n",
       "      <td>0</td>\n",
       "      <td>0</td>\n",
       "      <td>7.7500</td>\n",
       "      <td>Q</td>\n",
       "      <td>Third</td>\n",
       "      <td>man</td>\n",
       "      <td>True</td>\n",
       "      <td>NaN</td>\n",
       "      <td>Queenstown</td>\n",
       "      <td>no</td>\n",
       "      <td>True</td>\n",
       "    </tr>\n",
       "  </tbody>\n",
       "</table>\n",
       "<p>891 rows × 15 columns</p>\n",
       "</div>"
      ],
      "text/plain": [
       "     survived  pclass     sex   age  sibsp  parch     fare embarked   class  \\\n",
       "0           0       3    male  22.0      1      0   7.2500        S   Third   \n",
       "1           1       1  female  38.0      1      0  71.2833        C   First   \n",
       "2           1       3  female  26.0      0      0   7.9250        S   Third   \n",
       "3           1       1  female  35.0      1      0  53.1000        S   First   \n",
       "4           0       3    male  35.0      0      0   8.0500        S   Third   \n",
       "..        ...     ...     ...   ...    ...    ...      ...      ...     ...   \n",
       "886         0       2    male  27.0      0      0  13.0000        S  Second   \n",
       "887         1       1  female  19.0      0      0  30.0000        S   First   \n",
       "888         0       3  female   NaN      1      2  23.4500        S   Third   \n",
       "889         1       1    male  26.0      0      0  30.0000        C   First   \n",
       "890         0       3    male  32.0      0      0   7.7500        Q   Third   \n",
       "\n",
       "       who  adult_male deck  embark_town alive  alone  \n",
       "0      man        True  NaN  Southampton    no  False  \n",
       "1    woman       False    C    Cherbourg   yes  False  \n",
       "2    woman       False  NaN  Southampton   yes   True  \n",
       "3    woman       False    C  Southampton   yes  False  \n",
       "4      man        True  NaN  Southampton    no   True  \n",
       "..     ...         ...  ...          ...   ...    ...  \n",
       "886    man        True  NaN  Southampton    no   True  \n",
       "887  woman       False    B  Southampton   yes   True  \n",
       "888  woman       False  NaN  Southampton    no  False  \n",
       "889    man        True    C    Cherbourg   yes   True  \n",
       "890    man        True  NaN   Queenstown    no   True  \n",
       "\n",
       "[891 rows x 15 columns]"
      ]
     },
     "execution_count": 73,
     "metadata": {},
     "output_type": "execute_result"
    }
   ],
   "source": [
    "import seaborn as sns\n",
    "\n",
    "ti = sns.load_dataset('titanic')\n",
    "values = {\n",
    "    'who': {\n",
    "        'man': 0,\n",
    "        'woman': 1,\n",
    "        'child': 2\n",
    "    },\n",
    "    'sex': {\n",
    "        'male': 1,\n",
    "        'female': 0\n",
    "    },\n",
    "    'alone':{False: 0, True: 1},\n",
    "    'adult_male':{False: 0, True: 1},\n",
    "}\n",
    "\n",
    "\"\"\"\n",
    "Only works if the list has no duplicates\n",
    "\"\"\"\n",
    "def remove_from_cols(df, remove=[]):\n",
    "    return list(set(df.columns.tolist()) - set(remove))\n",
    "\n",
    "def dummy_ize_data(df, vmap):\n",
    "    dft = df.copy()\n",
    "    for mapping in vmap.keys():\n",
    "        dft[mapping] = dft[mapping].map(vmap[mapping])\n",
    "\n",
    "    for categoricals in ['embark_town','class','embarked','deck']:\n",
    "        uniques = dft[categoricals].value_counts().index.tolist()\n",
    "        vmap[categoricals] = {uniques[i]: i  for i in range(len(uniques))}\n",
    "        dft[categoricals] = dft[categoricals].map(vmap[categoricals])\n",
    "    return dft\n",
    "\n",
    "def slim_data(df):\n",
    "    if df[df['alive'] == df['survived']]['survived'].count() == df['survived'].count():\n",
    "        dft = df.copy()\n",
    "        return dft.drop(columns=['alive'])\n",
    "    return df\n",
    "ti"
   ]
  },
  {
   "cell_type": "code",
   "execution_count": 74,
   "metadata": {},
   "outputs": [],
   "source": [
    "ttc = dummy_ize_data(ti, values)"
   ]
  },
  {
   "cell_type": "code",
   "execution_count": 75,
   "metadata": {},
   "outputs": [],
   "source": [
    "\"\"\"\n",
    "We'll be dropping \"alive\" since we're looking at who survived.\n",
    ".. you can only be alive if you survived...\n",
    "\"\"\"\n",
    "titanic = slim_data(ttc)\n",
    "titanic = titanic.drop(columns=['alive'])\n",
    "titanic = titanic.fillna(0.)\n",
    "# titanic = titanic.dropna()"
   ]
  },
  {
   "cell_type": "markdown",
   "metadata": {},
   "source": [
    "#### Since most of our potential predictors are boolean variables, and, or, categorical variables, and since our prediction is for a boolean value (survived or did not survive) it would be wiser to use categorical values only to predict a passenger's likelihood of survivability.\n",
    "\n",
    "#### A reason for this is, as one will see, there is no significant trend on several multi-value categorical predictors such as pclass, deck and embarked.\n",
    "\n",
    "#### We can surmise this logically before demonstrating it:\n",
    "#### Where someone embarked could be irrelevant, there could be as many rich passengers from Southhampton who boarded and died, as there might have been poor passengers from Cherbourg.\n",
    "#### As for the deck, we know there are 3 classes of passengers, but there are 6 decks. Are we sure that no deck had more than one class on it?\n",
    "#### etc...\n",
    "\n",
    "#### Additionally, we'll isolate predictors who have a p-value of less than 0.1. We'll use 0.1 for now so as not ommit too many predictors."
   ]
  },
  {
   "cell_type": "markdown",
   "metadata": {},
   "source": [
    "# 1. Model"
   ]
  },
  {
   "cell_type": "code",
   "execution_count": 76,
   "metadata": {},
   "outputs": [
    {
     "name": "stderr",
     "output_type": "stream",
     "text": [
      "/home/jlmy/anaconda3/lib/python3.7/site-packages/statsmodels/base/model.py:1834: ValueWarning: covariance of constraints does not have full rank. The number of constraints is 13, but rank is 12\n",
      "  'rank is %d' % (J, J_), ValueWarning)\n"
     ]
    },
    {
     "data": {
      "text/html": [
       "<table class=\"simpletable\">\n",
       "<caption>OLS Regression Results</caption>\n",
       "<tr>\n",
       "  <th>Dep. Variable:</th>        <td>survived</td>     <th>  R-squared:         </th> <td>   0.434</td> \n",
       "</tr>\n",
       "<tr>\n",
       "  <th>Model:</th>                   <td>OLS</td>       <th>  Adj. R-squared:    </th> <td>   0.426</td> \n",
       "</tr>\n",
       "<tr>\n",
       "  <th>Method:</th>             <td>Least Squares</td>  <th>  F-statistic:       </th> <td>   91.61</td> \n",
       "</tr>\n",
       "<tr>\n",
       "  <th>Date:</th>             <td>Fri, 22 Jan 2021</td> <th>  Prob (F-statistic):</th> <td>1.23e-145</td>\n",
       "</tr>\n",
       "<tr>\n",
       "  <th>Time:</th>                 <td>00:20:40</td>     <th>  Log-Likelihood:    </th> <td> -368.69</td> \n",
       "</tr>\n",
       "<tr>\n",
       "  <th>No. Observations:</th>      <td>   891</td>      <th>  AIC:               </th> <td>   763.4</td> \n",
       "</tr>\n",
       "<tr>\n",
       "  <th>Df Residuals:</th>          <td>   878</td>      <th>  BIC:               </th> <td>   825.7</td> \n",
       "</tr>\n",
       "<tr>\n",
       "  <th>Df Model:</th>              <td>    12</td>      <th>                     </th>     <td> </td>    \n",
       "</tr>\n",
       "<tr>\n",
       "  <th>Covariance Type:</th>         <td>HC2</td>       <th>                     </th>     <td> </td>    \n",
       "</tr>\n",
       "</table>\n",
       "<table class=\"simpletable\">\n",
       "<tr>\n",
       "       <td></td>          <th>coef</th>     <th>std err</th>      <th>z</th>      <th>P>|z|</th>  <th>[0.025</th>    <th>0.975]</th>  \n",
       "</tr>\n",
       "<tr>\n",
       "  <th>const</th>       <td>    1.0590</td> <td>    0.118</td> <td>    8.977</td> <td> 0.000</td> <td>    0.828</td> <td>    1.290</td>\n",
       "</tr>\n",
       "<tr>\n",
       "  <th>parch</th>       <td>   -0.0602</td> <td>    0.021</td> <td>   -2.851</td> <td> 0.004</td> <td>   -0.102</td> <td>   -0.019</td>\n",
       "</tr>\n",
       "<tr>\n",
       "  <th>fare</th>        <td>    0.0007</td> <td>    0.000</td> <td>    2.172</td> <td> 0.030</td> <td> 6.38e-05</td> <td>    0.001</td>\n",
       "</tr>\n",
       "<tr>\n",
       "  <th>age</th>         <td>   -0.0015</td> <td>    0.001</td> <td>   -1.878</td> <td> 0.060</td> <td>   -0.003</td> <td> 6.48e-05</td>\n",
       "</tr>\n",
       "<tr>\n",
       "  <th>sibsp</th>       <td>   -0.0783</td> <td>    0.016</td> <td>   -5.029</td> <td> 0.000</td> <td>   -0.109</td> <td>   -0.048</td>\n",
       "</tr>\n",
       "<tr>\n",
       "  <th>embarked</th>    <td>    0.0118</td> <td>    0.010</td> <td>    1.135</td> <td> 0.256</td> <td>   -0.009</td> <td>    0.032</td>\n",
       "</tr>\n",
       "<tr>\n",
       "  <th>who</th>         <td>    0.0093</td> <td>    0.072</td> <td>    0.130</td> <td> 0.897</td> <td>   -0.131</td> <td>    0.150</td>\n",
       "</tr>\n",
       "<tr>\n",
       "  <th>pclass</th>      <td>   -0.1099</td> <td>    0.029</td> <td>   -3.852</td> <td> 0.000</td> <td>   -0.166</td> <td>   -0.054</td>\n",
       "</tr>\n",
       "<tr>\n",
       "  <th>deck</th>        <td>    0.0345</td> <td>    0.014</td> <td>    2.465</td> <td> 0.014</td> <td>    0.007</td> <td>    0.062</td>\n",
       "</tr>\n",
       "<tr>\n",
       "  <th>embark_town</th> <td>    0.0118</td> <td>    0.010</td> <td>    1.135</td> <td> 0.256</td> <td>   -0.009</td> <td>    0.032</td>\n",
       "</tr>\n",
       "<tr>\n",
       "  <th>sex</th>         <td>   -0.0593</td> <td>    0.087</td> <td>   -0.683</td> <td> 0.494</td> <td>   -0.229</td> <td>    0.111</td>\n",
       "</tr>\n",
       "<tr>\n",
       "  <th>alone</th>       <td>   -0.0910</td> <td>    0.038</td> <td>   -2.403</td> <td> 0.016</td> <td>   -0.165</td> <td>   -0.017</td>\n",
       "</tr>\n",
       "<tr>\n",
       "  <th>class</th>       <td>    0.0214</td> <td>    0.020</td> <td>    1.071</td> <td> 0.284</td> <td>   -0.018</td> <td>    0.061</td>\n",
       "</tr>\n",
       "<tr>\n",
       "  <th>adult_male</th>  <td>   -0.4824</td> <td>    0.151</td> <td>   -3.189</td> <td> 0.001</td> <td>   -0.779</td> <td>   -0.186</td>\n",
       "</tr>\n",
       "</table>\n",
       "<table class=\"simpletable\">\n",
       "<tr>\n",
       "  <th>Omnibus:</th>       <td>46.842</td> <th>  Durbin-Watson:     </th> <td>   1.965</td>\n",
       "</tr>\n",
       "<tr>\n",
       "  <th>Prob(Omnibus):</th> <td> 0.000</td> <th>  Jarque-Bera (JB):  </th> <td>  53.335</td>\n",
       "</tr>\n",
       "<tr>\n",
       "  <th>Skew:</th>          <td> 0.561</td> <th>  Prob(JB):          </th> <td>2.62e-12</td>\n",
       "</tr>\n",
       "<tr>\n",
       "  <th>Kurtosis:</th>      <td> 3.421</td> <th>  Cond. No.          </th> <td>4.02e+17</td>\n",
       "</tr>\n",
       "</table><br/><br/>Notes:<br/>[1] Standard Errors are heteroscedasticity robust (HC2)<br/>[2] The smallest eigenvalue is 2.08e-29. This might indicate that there are<br/>strong multicollinearity problems or that the design matrix is singular."
      ],
      "text/plain": [
       "<class 'statsmodels.iolib.summary.Summary'>\n",
       "\"\"\"\n",
       "                            OLS Regression Results                            \n",
       "==============================================================================\n",
       "Dep. Variable:               survived   R-squared:                       0.434\n",
       "Model:                            OLS   Adj. R-squared:                  0.426\n",
       "Method:                 Least Squares   F-statistic:                     91.61\n",
       "Date:                Fri, 22 Jan 2021   Prob (F-statistic):          1.23e-145\n",
       "Time:                        00:20:40   Log-Likelihood:                -368.69\n",
       "No. Observations:                 891   AIC:                             763.4\n",
       "Df Residuals:                     878   BIC:                             825.7\n",
       "Df Model:                          12                                         \n",
       "Covariance Type:                  HC2                                         \n",
       "===============================================================================\n",
       "                  coef    std err          z      P>|z|      [0.025      0.975]\n",
       "-------------------------------------------------------------------------------\n",
       "const           1.0590      0.118      8.977      0.000       0.828       1.290\n",
       "parch          -0.0602      0.021     -2.851      0.004      -0.102      -0.019\n",
       "fare            0.0007      0.000      2.172      0.030    6.38e-05       0.001\n",
       "age            -0.0015      0.001     -1.878      0.060      -0.003    6.48e-05\n",
       "sibsp          -0.0783      0.016     -5.029      0.000      -0.109      -0.048\n",
       "embarked        0.0118      0.010      1.135      0.256      -0.009       0.032\n",
       "who             0.0093      0.072      0.130      0.897      -0.131       0.150\n",
       "pclass         -0.1099      0.029     -3.852      0.000      -0.166      -0.054\n",
       "deck            0.0345      0.014      2.465      0.014       0.007       0.062\n",
       "embark_town     0.0118      0.010      1.135      0.256      -0.009       0.032\n",
       "sex            -0.0593      0.087     -0.683      0.494      -0.229       0.111\n",
       "alone          -0.0910      0.038     -2.403      0.016      -0.165      -0.017\n",
       "class           0.0214      0.020      1.071      0.284      -0.018       0.061\n",
       "adult_male     -0.4824      0.151     -3.189      0.001      -0.779      -0.186\n",
       "==============================================================================\n",
       "Omnibus:                       46.842   Durbin-Watson:                   1.965\n",
       "Prob(Omnibus):                  0.000   Jarque-Bera (JB):               53.335\n",
       "Skew:                           0.561   Prob(JB):                     2.62e-12\n",
       "Kurtosis:                       3.421   Cond. No.                     4.02e+17\n",
       "==============================================================================\n",
       "\n",
       "Notes:\n",
       "[1] Standard Errors are heteroscedasticity robust (HC2)\n",
       "[2] The smallest eigenvalue is 2.08e-29. This might indicate that there are\n",
       "strong multicollinearity problems or that the design matrix is singular.\n",
       "\"\"\""
      ]
     },
     "execution_count": 76,
     "metadata": {},
     "output_type": "execute_result"
    }
   ],
   "source": [
    "y = titanic.survived\n",
    "cols = remove_from_cols(titanic, ['survived',''])\n",
    "model = sm.OLS(y,sm.add_constant(titanic[cols].astype(float))).fit(cov_type='HC2')\n",
    "model.summary()"
   ]
  },
  {
   "cell_type": "markdown",
   "metadata": {},
   "source": [
    "## P-values\n",
    "First, we notice that many of the p-values are above 0.1, which indicates they're most likely correlated to survability through randomness. We also noticed right away that only one predictor has a p-value of zero, adult_male. We also have several very low-p-values, we will filter out the dataframe to exract these.\n"
   ]
  },
  {
   "cell_type": "code",
   "execution_count": 77,
   "metadata": {},
   "outputs": [
    {
     "data": {
      "text/html": [
       "<table class=\"simpletable\">\n",
       "<caption>OLS Regression Results</caption>\n",
       "<tr>\n",
       "  <th>Dep. Variable:</th>        <td>survived</td>     <th>  R-squared:         </th> <td>   0.416</td> \n",
       "</tr>\n",
       "<tr>\n",
       "  <th>Model:</th>                   <td>OLS</td>       <th>  Adj. R-squared:    </th> <td>   0.414</td> \n",
       "</tr>\n",
       "<tr>\n",
       "  <th>Method:</th>             <td>Least Squares</td>  <th>  F-statistic:       </th> <td>   324.7</td> \n",
       "</tr>\n",
       "<tr>\n",
       "  <th>Date:</th>             <td>Fri, 22 Jan 2021</td> <th>  Prob (F-statistic):</th> <td>3.14e-142</td>\n",
       "</tr>\n",
       "<tr>\n",
       "  <th>Time:</th>                 <td>00:20:41</td>     <th>  Log-Likelihood:    </th> <td> -382.43</td> \n",
       "</tr>\n",
       "<tr>\n",
       "  <th>No. Observations:</th>      <td>   891</td>      <th>  AIC:               </th> <td>   772.9</td> \n",
       "</tr>\n",
       "<tr>\n",
       "  <th>Df Residuals:</th>          <td>   887</td>      <th>  BIC:               </th> <td>   792.0</td> \n",
       "</tr>\n",
       "<tr>\n",
       "  <th>Df Model:</th>              <td>     3</td>      <th>                     </th>     <td> </td>    \n",
       "</tr>\n",
       "<tr>\n",
       "  <th>Covariance Type:</th>         <td>HC2</td>       <th>                     </th>     <td> </td>    \n",
       "</tr>\n",
       "</table>\n",
       "<table class=\"simpletable\">\n",
       "<tr>\n",
       "       <td></td>         <th>coef</th>     <th>std err</th>      <th>z</th>      <th>P>|z|</th>  <th>[0.025</th>    <th>0.975]</th>  \n",
       "</tr>\n",
       "<tr>\n",
       "  <th>const</th>      <td>    1.1275</td> <td>    0.034</td> <td>   33.112</td> <td> 0.000</td> <td>    1.061</td> <td>    1.194</td>\n",
       "</tr>\n",
       "<tr>\n",
       "  <th>pclass</th>     <td>   -0.1581</td> <td>    0.016</td> <td>   -9.729</td> <td> 0.000</td> <td>   -0.190</td> <td>   -0.126</td>\n",
       "</tr>\n",
       "<tr>\n",
       "  <th>sibsp</th>      <td>   -0.0696</td> <td>    0.012</td> <td>   -5.694</td> <td> 0.000</td> <td>   -0.094</td> <td>   -0.046</td>\n",
       "</tr>\n",
       "<tr>\n",
       "  <th>adult_male</th> <td>   -0.5680</td> <td>    0.028</td> <td>  -20.056</td> <td> 0.000</td> <td>   -0.624</td> <td>   -0.512</td>\n",
       "</tr>\n",
       "</table>\n",
       "<table class=\"simpletable\">\n",
       "<tr>\n",
       "  <th>Omnibus:</th>       <td>40.294</td> <th>  Durbin-Watson:     </th> <td>   1.969</td>\n",
       "</tr>\n",
       "<tr>\n",
       "  <th>Prob(Omnibus):</th> <td> 0.000</td> <th>  Jarque-Bera (JB):  </th> <td>  44.660</td>\n",
       "</tr>\n",
       "<tr>\n",
       "  <th>Skew:</th>          <td> 0.526</td> <th>  Prob(JB):          </th> <td>2.01e-10</td>\n",
       "</tr>\n",
       "<tr>\n",
       "  <th>Kurtosis:</th>      <td> 3.310</td> <th>  Cond. No.          </th> <td>    9.37</td>\n",
       "</tr>\n",
       "</table><br/><br/>Notes:<br/>[1] Standard Errors are heteroscedasticity robust (HC2)"
      ],
      "text/plain": [
       "<class 'statsmodels.iolib.summary.Summary'>\n",
       "\"\"\"\n",
       "                            OLS Regression Results                            \n",
       "==============================================================================\n",
       "Dep. Variable:               survived   R-squared:                       0.416\n",
       "Model:                            OLS   Adj. R-squared:                  0.414\n",
       "Method:                 Least Squares   F-statistic:                     324.7\n",
       "Date:                Fri, 22 Jan 2021   Prob (F-statistic):          3.14e-142\n",
       "Time:                        00:20:41   Log-Likelihood:                -382.43\n",
       "No. Observations:                 891   AIC:                             772.9\n",
       "Df Residuals:                     887   BIC:                             792.0\n",
       "Df Model:                           3                                         \n",
       "Covariance Type:                  HC2                                         \n",
       "==============================================================================\n",
       "                 coef    std err          z      P>|z|      [0.025      0.975]\n",
       "------------------------------------------------------------------------------\n",
       "const          1.1275      0.034     33.112      0.000       1.061       1.194\n",
       "pclass        -0.1581      0.016     -9.729      0.000      -0.190      -0.126\n",
       "sibsp         -0.0696      0.012     -5.694      0.000      -0.094      -0.046\n",
       "adult_male    -0.5680      0.028    -20.056      0.000      -0.624      -0.512\n",
       "==============================================================================\n",
       "Omnibus:                       40.294   Durbin-Watson:                   1.969\n",
       "Prob(Omnibus):                  0.000   Jarque-Bera (JB):               44.660\n",
       "Skew:                           0.526   Prob(JB):                     2.01e-10\n",
       "Kurtosis:                       3.310   Cond. No.                         9.37\n",
       "==============================================================================\n",
       "\n",
       "Notes:\n",
       "[1] Standard Errors are heteroscedasticity robust (HC2)\n",
       "\"\"\""
      ]
     },
     "execution_count": 77,
     "metadata": {},
     "output_type": "execute_result"
    }
   ],
   "source": [
    "cols = remove_from_cols(titanic, ['survived','embark_town','who','class','embarked','sex', 'fare', 'age', 'deck', 'parch', 'alone'])\n",
    "filtered = sm.OLS(y,sm.add_constant(titanic[cols].astype(float))).fit(cov_type='HC2')\n",
    "filtered.summary()"
   ]
  },
  {
   "cell_type": "markdown",
   "metadata": {},
   "source": [
    "From this filter, we see that our $R^2$ value has not changed significantly, additionally, our AIC value has only increased by 2.2. We can assume that these 5 predictors can offer significant prediction. One can add or remove \"parch\" and \"alone\", only to find that the $R^2$ and AIC do not varry significally. Therefore, we will keep these values to increase our number of factors.\n",
    "\n",
    "In the end, it makes sense to have these values, as they are all Categorical:\n",
    "\n",
    "1. alone: boolean\n",
    "2. sibsp: number of siblings/spouses aboard\n",
    "3. adult_male: boolean\n",
    "4. parch: number of parents/children aboard\n",
    "5. pclass: [1, 2, 3]\n",
    "6. deck\n",
    "\n",
    "Looking at these values, one can see that some might be dependent. For example, if someone is alone, they cannot have any other value for parch and sibsp other than 0, which explains why we had no significant effect when removing \"parch\" and \"alone\" from the filtered data."
   ]
  },
  {
   "cell_type": "markdown",
   "metadata": {},
   "source": [
    "### 2. Coefficients"
   ]
  },
  {
   "cell_type": "code",
   "execution_count": 78,
   "metadata": {},
   "outputs": [
    {
     "data": {
      "text/html": [
       "<table class=\"simpletable\">\n",
       "<caption>OLS Regression Results</caption>\n",
       "<tr>\n",
       "  <th>Dep. Variable:</th>        <td>survived</td>     <th>  R-squared:         </th> <td>   0.416</td> \n",
       "</tr>\n",
       "<tr>\n",
       "  <th>Model:</th>                   <td>OLS</td>       <th>  Adj. R-squared:    </th> <td>   0.414</td> \n",
       "</tr>\n",
       "<tr>\n",
       "  <th>Method:</th>             <td>Least Squares</td>  <th>  F-statistic:       </th> <td>   324.7</td> \n",
       "</tr>\n",
       "<tr>\n",
       "  <th>Date:</th>             <td>Fri, 22 Jan 2021</td> <th>  Prob (F-statistic):</th> <td>3.14e-142</td>\n",
       "</tr>\n",
       "<tr>\n",
       "  <th>Time:</th>                 <td>00:20:42</td>     <th>  Log-Likelihood:    </th> <td> -382.43</td> \n",
       "</tr>\n",
       "<tr>\n",
       "  <th>No. Observations:</th>      <td>   891</td>      <th>  AIC:               </th> <td>   772.9</td> \n",
       "</tr>\n",
       "<tr>\n",
       "  <th>Df Residuals:</th>          <td>   887</td>      <th>  BIC:               </th> <td>   792.0</td> \n",
       "</tr>\n",
       "<tr>\n",
       "  <th>Df Model:</th>              <td>     3</td>      <th>                     </th>     <td> </td>    \n",
       "</tr>\n",
       "<tr>\n",
       "  <th>Covariance Type:</th>         <td>HC2</td>       <th>                     </th>     <td> </td>    \n",
       "</tr>\n",
       "</table>\n",
       "<table class=\"simpletable\">\n",
       "<tr>\n",
       "       <td></td>         <th>coef</th>     <th>std err</th>      <th>z</th>      <th>P>|z|</th>  <th>[0.025</th>    <th>0.975]</th>  \n",
       "</tr>\n",
       "<tr>\n",
       "  <th>const</th>      <td>    1.1275</td> <td>    0.034</td> <td>   33.112</td> <td> 0.000</td> <td>    1.061</td> <td>    1.194</td>\n",
       "</tr>\n",
       "<tr>\n",
       "  <th>pclass</th>     <td>   -0.1581</td> <td>    0.016</td> <td>   -9.729</td> <td> 0.000</td> <td>   -0.190</td> <td>   -0.126</td>\n",
       "</tr>\n",
       "<tr>\n",
       "  <th>sibsp</th>      <td>   -0.0696</td> <td>    0.012</td> <td>   -5.694</td> <td> 0.000</td> <td>   -0.094</td> <td>   -0.046</td>\n",
       "</tr>\n",
       "<tr>\n",
       "  <th>adult_male</th> <td>   -0.5680</td> <td>    0.028</td> <td>  -20.056</td> <td> 0.000</td> <td>   -0.624</td> <td>   -0.512</td>\n",
       "</tr>\n",
       "</table>\n",
       "<table class=\"simpletable\">\n",
       "<tr>\n",
       "  <th>Omnibus:</th>       <td>40.294</td> <th>  Durbin-Watson:     </th> <td>   1.969</td>\n",
       "</tr>\n",
       "<tr>\n",
       "  <th>Prob(Omnibus):</th> <td> 0.000</td> <th>  Jarque-Bera (JB):  </th> <td>  44.660</td>\n",
       "</tr>\n",
       "<tr>\n",
       "  <th>Skew:</th>          <td> 0.526</td> <th>  Prob(JB):          </th> <td>2.01e-10</td>\n",
       "</tr>\n",
       "<tr>\n",
       "  <th>Kurtosis:</th>      <td> 3.310</td> <th>  Cond. No.          </th> <td>    9.37</td>\n",
       "</tr>\n",
       "</table><br/><br/>Notes:<br/>[1] Standard Errors are heteroscedasticity robust (HC2)"
      ],
      "text/plain": [
       "<class 'statsmodels.iolib.summary.Summary'>\n",
       "\"\"\"\n",
       "                            OLS Regression Results                            \n",
       "==============================================================================\n",
       "Dep. Variable:               survived   R-squared:                       0.416\n",
       "Model:                            OLS   Adj. R-squared:                  0.414\n",
       "Method:                 Least Squares   F-statistic:                     324.7\n",
       "Date:                Fri, 22 Jan 2021   Prob (F-statistic):          3.14e-142\n",
       "Time:                        00:20:42   Log-Likelihood:                -382.43\n",
       "No. Observations:                 891   AIC:                             772.9\n",
       "Df Residuals:                     887   BIC:                             792.0\n",
       "Df Model:                           3                                         \n",
       "Covariance Type:                  HC2                                         \n",
       "==============================================================================\n",
       "                 coef    std err          z      P>|z|      [0.025      0.975]\n",
       "------------------------------------------------------------------------------\n",
       "const          1.1275      0.034     33.112      0.000       1.061       1.194\n",
       "pclass        -0.1581      0.016     -9.729      0.000      -0.190      -0.126\n",
       "sibsp         -0.0696      0.012     -5.694      0.000      -0.094      -0.046\n",
       "adult_male    -0.5680      0.028    -20.056      0.000      -0.624      -0.512\n",
       "==============================================================================\n",
       "Omnibus:                       40.294   Durbin-Watson:                   1.969\n",
       "Prob(Omnibus):                  0.000   Jarque-Bera (JB):               44.660\n",
       "Skew:                           0.526   Prob(JB):                     2.01e-10\n",
       "Kurtosis:                       3.310   Cond. No.                         9.37\n",
       "==============================================================================\n",
       "\n",
       "Notes:\n",
       "[1] Standard Errors are heteroscedasticity robust (HC2)\n",
       "\"\"\""
      ]
     },
     "execution_count": 78,
     "metadata": {},
     "output_type": "execute_result"
    }
   ],
   "source": [
    "filtered.summary()"
   ]
  },
  {
   "cell_type": "markdown",
   "metadata": {},
   "source": [
    "What we can see is that all coefficients are negative, save for the deck, and that they're also near zero.\n",
    "This makes sense since these are all categorical predictors, meaning, a positive step up in unit value means:\n",
    "\n",
    "2. sibsp: has more family members on board, for each family members a passenger had, they were 6.96% more likely to die\n",
    "3. adult_male: if a passenger was an adult_male, they were 56.8% more likely to die\n",
    "5. pclass: for each decrease in class, the passenger wass 15.81% more likely to die\n",
    "\n",
    "Looking at the passenger distribution according to adult_male, parch and alone:"
   ]
  },
  {
   "cell_type": "code",
   "execution_count": 79,
   "metadata": {},
   "outputs": [
    {
     "data": {
      "text/html": [
       "<div>\n",
       "<style scoped>\n",
       "    .dataframe tbody tr th:only-of-type {\n",
       "        vertical-align: middle;\n",
       "    }\n",
       "\n",
       "    .dataframe tbody tr th {\n",
       "        vertical-align: top;\n",
       "    }\n",
       "\n",
       "    .dataframe thead th {\n",
       "        text-align: right;\n",
       "    }\n",
       "</style>\n",
       "<table border=\"1\" class=\"dataframe\">\n",
       "  <thead>\n",
       "    <tr style=\"text-align: right;\">\n",
       "      <th></th>\n",
       "      <th>pclass</th>\n",
       "      <th>adult_male</th>\n",
       "      <th>count</th>\n",
       "    </tr>\n",
       "  </thead>\n",
       "  <tbody>\n",
       "    <tr>\n",
       "      <th>0</th>\n",
       "      <td>1</td>\n",
       "      <td>False</td>\n",
       "      <td>97</td>\n",
       "    </tr>\n",
       "    <tr>\n",
       "      <th>1</th>\n",
       "      <td>1</td>\n",
       "      <td>True</td>\n",
       "      <td>119</td>\n",
       "    </tr>\n",
       "    <tr>\n",
       "      <th>2</th>\n",
       "      <td>2</td>\n",
       "      <td>False</td>\n",
       "      <td>85</td>\n",
       "    </tr>\n",
       "    <tr>\n",
       "      <th>3</th>\n",
       "      <td>2</td>\n",
       "      <td>True</td>\n",
       "      <td>99</td>\n",
       "    </tr>\n",
       "    <tr>\n",
       "      <th>4</th>\n",
       "      <td>3</td>\n",
       "      <td>False</td>\n",
       "      <td>172</td>\n",
       "    </tr>\n",
       "    <tr>\n",
       "      <th>5</th>\n",
       "      <td>3</td>\n",
       "      <td>True</td>\n",
       "      <td>319</td>\n",
       "    </tr>\n",
       "  </tbody>\n",
       "</table>\n",
       "</div>"
      ],
      "text/plain": [
       "   pclass  adult_male  count\n",
       "0       1       False     97\n",
       "1       1        True    119\n",
       "2       2       False     85\n",
       "3       2        True     99\n",
       "4       3       False    172\n",
       "5       3        True    319"
      ]
     },
     "execution_count": 79,
     "metadata": {},
     "output_type": "execute_result"
    },
    {
     "data": {
      "image/png": "[encoded data removed]",
      "text/plain": [
       "<Figure size 432x288 with 1 Axes>"
      ]
     },
     "metadata": {
      "needs_background": "light"
     },
     "output_type": "display_data"
    }
   ],
   "source": [
    "am = pd.DataFrame({'count': ti.groupby(by=['pclass', 'adult_male',]).size()}).reset_index()\n",
    "sns.barplot(x=\"pclass\", y=\"count\", hue=\"adult_male\", data=am)\n",
    "am"
   ]
  },
  {
   "cell_type": "code",
   "execution_count": 80,
   "metadata": {},
   "outputs": [
    {
     "data": {
      "text/plain": [
       "<matplotlib.axes._subplots.AxesSubplot at 0x7f3aa697a860>"
      ]
     },
     "execution_count": 80,
     "metadata": {},
     "output_type": "execute_result"
    },
    {
     "data": {
      "image/png": "[encoded data removed]",
      "text/plain": [
       "<Figure size 432x288 with 1 Axes>"
      ]
     },
     "metadata": {
      "needs_background": "light"
     },
     "output_type": "display_data"
    }
   ],
   "source": [
    "am = pd.DataFrame({'count': ti.groupby(by=['pclass', 'adult_male', 'sibsp']).size()}).reset_index()\n",
    "sns.barplot(x=\"pclass\", y=\"count\", hue=\"sibsp\", data=am[am['adult_male'] == 1])"
   ]
  },
  {
   "cell_type": "code",
   "execution_count": 81,
   "metadata": {},
   "outputs": [
    {
     "data": {
      "text/plain": [
       "<matplotlib.axes._subplots.AxesSubplot at 0x7f3aa68bbd68>"
      ]
     },
     "execution_count": 81,
     "metadata": {},
     "output_type": "execute_result"
    },
    {
     "data": {
      "image/png": "[encoded data removed]",
      "text/plain": [
       "<Figure size 432x288 with 1 Axes>"
      ]
     },
     "metadata": {
      "needs_background": "light"
     },
     "output_type": "display_data"
    }
   ],
   "source": [
    "sns.barplot(x=\"pclass\", y=\"count\", hue=\"sibsp\", data=am[am['adult_male'] == 0])"
   ]
  },
  {
   "cell_type": "markdown",
   "metadata": {},
   "source": [
    "From these we can see that there were more adult males traveling alone to America than any other category of passenger, and these were primarily in Third class. \n",
    "This would have been the norm at the time, as sea travel was still a luxurious commodity, where only wealthier families could travel together, and in relative comfort (which explains a more even distribution of non-alone passengers in First and Second class).\n",
    "\n",
    "Let us know look at passenger class, we saw above that more Third class passengers were traveling alone.."
   ]
  },
  {
   "cell_type": "code",
   "execution_count": 82,
   "metadata": {},
   "outputs": [
    {
     "data": {
      "text/plain": [
       "<matplotlib.axes._subplots.AxesSubplot at 0x7f3aa67ff240>"
      ]
     },
     "execution_count": 82,
     "metadata": {},
     "output_type": "execute_result"
    },
    {
     "data": {
      "image/png": "[encoded data removed]",
      "text/plain": [
       "<Figure size 432x288 with 1 Axes>"
      ]
     },
     "metadata": {
      "needs_background": "light"
     },
     "output_type": "display_data"
    }
   ],
   "source": [
    "pclass = pd.DataFrame({'count': ti.groupby(by=['pclass', 'sex']).size()}).reset_index()\n",
    "sns.barplot(x=\"pclass\", y=\"count\", hue=\"sex\", data=pclass)"
   ]
  },
  {
   "cell_type": "code",
   "execution_count": 83,
   "metadata": {},
   "outputs": [
    {
     "data": {
      "text/plain": [
       "<matplotlib.axes._subplots.AxesSubplot at 0x7f3aa67ea048>"
      ]
     },
     "execution_count": 83,
     "metadata": {},
     "output_type": "execute_result"
    },
    {
     "data": {
      "image/png": "[encoded data removed]",
      "text/plain": [
       "<Figure size 432x288 with 1 Axes>"
      ]
     },
     "metadata": {
      "needs_background": "light"
     },
     "output_type": "display_data"
    }
   ],
   "source": [
    "ti['child'] = ti['age'] < 18.\n",
    "child = pd.DataFrame({'count': ti.groupby(by=['pclass', 'child']).size()}).reset_index()\n",
    "sns.barplot(x=\"pclass\", y=\"count\", hue=\"child\", data=child)"
   ]
  },
  {
   "cell_type": "code",
   "execution_count": 84,
   "metadata": {},
   "outputs": [
    {
     "data": {
      "image/png": "[encoded data removed]",
      "text/plain": [
       "<Figure size 432x288 with 1 Axes>"
      ]
     },
     "metadata": {
      "needs_background": "light"
     },
     "output_type": "display_data"
    }
   ],
   "source": [
    "childS = pd.DataFrame({'count': ti.groupby(by=['pclass', 'child', 'survived']).size()}).reset_index()\n",
    "x = sns.barplot(x=\"child\", y=\"count\", hue=\"survived\", data=childS)"
   ]
  },
  {
   "cell_type": "markdown",
   "metadata": {},
   "source": [
    "This latter plot shows us that you were almost as likely to die then to survive, if you were a child, which looked much more favorable than if you were not a child (an adult)."
   ]
  },
  {
   "cell_type": "code",
   "execution_count": 85,
   "metadata": {},
   "outputs": [
    {
     "data": {
      "image/png": "[encoded data removed]",
      "text/plain": [
       "<Figure size 432x288 with 1 Axes>"
      ]
     },
     "metadata": {
      "needs_background": "light"
     },
     "output_type": "display_data"
    }
   ],
   "source": [
    "childSurvived = childS[(childS['child'] == True)]\n",
    "x = sns.barplot(x=\"pclass\", y=\"count\",hue=\"survived\",data=childSurvived)"
   ]
  },
  {
   "cell_type": "markdown",
   "metadata": {},
   "source": [
    "This graph shows us that it was much more favourable to be a child in a higher class, than to be a child in a lower class."
   ]
  },
  {
   "cell_type": "code",
   "execution_count": 86,
   "metadata": {},
   "outputs": [
    {
     "data": {
      "image/png": "[encoded data removed]",
      "text/plain": [
       "<Figure size 432x288 with 1 Axes>"
      ]
     },
     "metadata": {
      "needs_background": "light"
     },
     "output_type": "display_data"
    }
   ],
   "source": [
    "adultsSurvived = childS[(childS['child'] == False)]\n",
    "x = sns.barplot(x=\"pclass\", y=\"count\", hue=\"survived\",data=adultsSurvived)"
   ]
  },
  {
   "cell_type": "markdown",
   "metadata": {},
   "source": [
    "Likewise, it was much more favourable to be an adult in first class, than an adult in third class."
   ]
  },
  {
   "cell_type": "markdown",
   "metadata": {},
   "source": [
    "### Let's look at how sex played a role:"
   ]
  },
  {
   "cell_type": "code",
   "execution_count": 87,
   "metadata": {},
   "outputs": [],
   "source": [
    "womenDF = pd.DataFrame({'count': ti.groupby(by=['pclass', 'child', 'sex', 'survived']).size()}).reset_index()\n",
    "women = womenDF[womenDF['sex'] == 'female']\n",
    "aWomen = women[women['child'] == False]\n",
    "cWomen = women[women['child']]\n",
    "# aWomen"
   ]
  },
  {
   "cell_type": "code",
   "execution_count": 88,
   "metadata": {},
   "outputs": [
    {
     "data": {
      "image/png": "[encoded data removed]",
      "text/plain": [
       "<Figure size 432x288 with 1 Axes>"
      ]
     },
     "metadata": {
      "needs_background": "light"
     },
     "output_type": "display_data"
    }
   ],
   "source": [
    "x = sns.barplot(x=\"pclass\", y=\"count\",hue=\"sex\",data=womenDF)"
   ]
  },
  {
   "cell_type": "markdown",
   "metadata": {},
   "source": [
    "### Adult females"
   ]
  },
  {
   "cell_type": "code",
   "execution_count": 89,
   "metadata": {},
   "outputs": [
    {
     "data": {
      "image/png": "[encoded data removed]",
      "text/plain": [
       "<Figure size 432x288 with 1 Axes>"
      ]
     },
     "metadata": {
      "needs_background": "light"
     },
     "output_type": "display_data"
    }
   ],
   "source": [
    "x = sns.barplot(x=\"pclass\", y=\"count\",hue=\"survived\",data=aWomen)"
   ]
  },
  {
   "cell_type": "markdown",
   "metadata": {},
   "source": [
    "Even more so, here we see that it was in fact better to be a non-adult female that an adult one. Further, it happens to be that none of the non-adult females in second class perished."
   ]
  },
  {
   "cell_type": "markdown",
   "metadata": {},
   "source": [
    "#### Male v Female"
   ]
  },
  {
   "cell_type": "code",
   "execution_count": 90,
   "metadata": {},
   "outputs": [
    {
     "data": {
      "image/png": "[encoded data removed]",
      "text/plain": [
       "<Figure size 432x288 with 1 Axes>"
      ]
     },
     "metadata": {
      "needs_background": "light"
     },
     "output_type": "display_data"
    }
   ],
   "source": [
    "x = sns.barplot(x=\"survived\", y=\"count\",hue=\"sex\",data=womenDF[womenDF['child'] == False])"
   ]
  },
  {
   "cell_type": "markdown",
   "metadata": {},
   "source": [
    "We can see that in upper classes, being a woman was greatly advantageous, whereas in third class, it was more insignificant.\n",
    "\n",
    "#### Non-adult females"
   ]
  },
  {
   "cell_type": "code",
   "execution_count": 91,
   "metadata": {},
   "outputs": [
    {
     "data": {
      "image/png": "[encoded data removed]",
      "text/plain": [
       "<Figure size 432x288 with 1 Axes>"
      ]
     },
     "metadata": {
      "needs_background": "light"
     },
     "output_type": "display_data"
    }
   ],
   "source": [
    "x = sns.barplot(x=\"pclass\", y=\"count\",hue=\"survived\",data=cWomen)"
   ]
  },
  {
   "cell_type": "markdown",
   "metadata": {},
   "source": [
    "#### Non-Adult Male v Female"
   ]
  },
  {
   "cell_type": "code",
   "execution_count": 92,
   "metadata": {},
   "outputs": [
    {
     "data": {
      "image/png": "[encoded data removed]",
      "text/plain": [
       "<Figure size 432x288 with 1 Axes>"
      ]
     },
     "metadata": {
      "needs_background": "light"
     },
     "output_type": "display_data"
    }
   ],
   "source": [
    "x = sns.barplot(x=\"survived\", y=\"count\",hue=\"sex\",data=womenDF[womenDF['child']])"
   ]
  },
  {
   "cell_type": "markdown",
   "metadata": {},
   "source": [
    "#### Sex distribution for non-adults"
   ]
  },
  {
   "cell_type": "code",
   "execution_count": 93,
   "metadata": {},
   "outputs": [
    {
     "data": {
      "image/png": "[encoded data removed]",
      "text/plain": [
       "<Figure size 432x288 with 1 Axes>"
      ]
     },
     "metadata": {
      "needs_background": "light"
     },
     "output_type": "display_data"
    }
   ],
   "source": [
    "x = sns.barplot(x=\"pclass\", y=\"count\",hue=\"sex\",data=womenDF[womenDF['child']])"
   ]
  },
  {
   "cell_type": "markdown",
   "metadata": {},
   "source": [
    "We can see that children were relatively evenly distributed amongst genders in the passenger classes, with the exception of second class where there were almost twice as many non adult females as males. This makes the fact that all non-adult females in second class survived remarkable."
   ]
  },
  {
   "cell_type": "markdown",
   "metadata": {},
   "source": [
    "This means, that the passenger who was the most likely to survive was:\n",
    "1. not male\n",
    "2. not an adult\n",
    "3. in a passenger class with less children\n",
    "4. preferrably not in third class"
   ]
  },
  {
   "cell_type": "markdown",
   "metadata": {},
   "source": [
    "This lends itself well to the notion of women and children being prioritized, and men being considered less important during the evacuation.\n",
    "\n",
    "Additionally, this implies that surviving the Titanic disproprotionately favored the wealthier first class, notably their female children (second-to-last plot) as lower-income families of the time were more heavily burdened during the evacuation as they had larger families to take care of.\n",
    "The high concentration of single males in lower classes, also speaks to the post-famine period of the United Kingdom in the early 20th century, as one could imagine, it must have been cheaper, and actually possible, to buy a single ticket as a man, than as a woman Even more so as a single man buying passage for himself, than for his entire family at a time when ocean-crossing travels were still high-technological feats."
   ]
  },
  {
   "cell_type": "markdown",
   "metadata": {},
   "source": [
    "## 3. Prediction\n",
    "\n",
    "The Titanic was said to have had a capacity of more than 2000 passengers. It's maiden and only voyage only had approximately 1317 passengers.\n",
    "\n",
    "1. alone: boolean\n",
    "2. sibsp: number of siblings/spouses aboard\n",
    "3. adult_male: boolean\n",
    "4. parch: number of parents/children aboard\n",
    "5. pclass: [1, 2, 3]\n",
    "6. deck"
   ]
  },
  {
   "cell_type": "code",
   "execution_count": 94,
   "metadata": {},
   "outputs": [],
   "source": [
    "l = 2000\n",
    "\n",
    "rand = pd.DataFrame({\n",
    "    'sibsp': np.random.randint(9, size=l),\n",
    "    'adult_male': np.random.randint(2, size=l),\n",
    "    'pclass': np.random.randint(1, 4, size=l),\n",
    "})\n",
    "read = rand.copy()\n",
    "read['yhat'] = filtered.predict(sm.add_constant(rand))\n",
    "yhat = read['yhat'].map(lambda x: 1 if abs(x) > 0.05 else 0)\n",
    "\n",
    "# pd.DataFrame({'count': rand.groupby(by=['pclass', 'adult_male', 'sibsp']).size()}).reset_index()"
   ]
  },
  {
   "cell_type": "code",
   "execution_count": 95,
   "metadata": {},
   "outputs": [],
   "source": [
    "from sklearn.linear_model import LassoCV\n",
    "from sklearn import metrics\n",
    "lassoregcv = LassoCV(n_alphas=100, normalize=True, random_state=1)\n",
    "lassoFit = lassoregcv.fit(titanic[cols], y)\n",
    "\n",
    "lasso = rand.copy() \n",
    "lasso['survived'] = lassoFit.predict(rand)\n",
    "# lassoPredict = list(map(lambda x: 1 if abs(x) > 0.5 else 0, lassoPredict) )\n",
    "# print(lassoPredict[:891])\n",
    "# print(\"R-Square Value\",r2_score(y_hat[:891],lassoPredict[:891]))\n",
    "comps = pd.DataFrame({\n",
    "    'lasso': lassoFit.coef_,\n",
    "    'linear': filtered.summary2().tables[1]['Coef.'][1:]\n",
    "})\n",
    "comps['delta'] = abs(abs(comps.lasso) - abs(comps.linear))"
   ]
  },
  {
   "cell_type": "markdown",
   "metadata": {},
   "source": [
    "First, we can notice that our coefficients are very similar to the LRR fit coefficients:"
   ]
  },
  {
   "cell_type": "code",
   "execution_count": 96,
   "metadata": {},
   "outputs": [
    {
     "data": {
      "text/html": [
       "<div>\n",
       "<style scoped>\n",
       "    .dataframe tbody tr th:only-of-type {\n",
       "        vertical-align: middle;\n",
       "    }\n",
       "\n",
       "    .dataframe tbody tr th {\n",
       "        vertical-align: top;\n",
       "    }\n",
       "\n",
       "    .dataframe thead th {\n",
       "        text-align: right;\n",
       "    }\n",
       "</style>\n",
       "<table border=\"1\" class=\"dataframe\">\n",
       "  <thead>\n",
       "    <tr style=\"text-align: right;\">\n",
       "      <th></th>\n",
       "      <th>lasso</th>\n",
       "      <th>linear</th>\n",
       "      <th>delta</th>\n",
       "    </tr>\n",
       "  </thead>\n",
       "  <tbody>\n",
       "    <tr>\n",
       "      <th>pclass</th>\n",
       "      <td>-0.157841</td>\n",
       "      <td>-0.158093</td>\n",
       "      <td>0.000252</td>\n",
       "    </tr>\n",
       "    <tr>\n",
       "      <th>sibsp</th>\n",
       "      <td>-0.069271</td>\n",
       "      <td>-0.069579</td>\n",
       "      <td>0.000308</td>\n",
       "    </tr>\n",
       "    <tr>\n",
       "      <th>adult_male</th>\n",
       "      <td>-0.567306</td>\n",
       "      <td>-0.567995</td>\n",
       "      <td>0.000689</td>\n",
       "    </tr>\n",
       "  </tbody>\n",
       "</table>\n",
       "</div>"
      ],
      "text/plain": [
       "               lasso    linear     delta\n",
       "pclass     -0.157841 -0.158093  0.000252\n",
       "sibsp      -0.069271 -0.069579  0.000308\n",
       "adult_male -0.567306 -0.567995  0.000689"
      ]
     },
     "execution_count": 96,
     "metadata": {},
     "output_type": "execute_result"
    }
   ],
   "source": [
    "comps"
   ]
  },
  {
   "cell_type": "code",
   "execution_count": 97,
   "metadata": {},
   "outputs": [
    {
     "data": {
      "text/plain": [
       "<matplotlib.axes._subplots.AxesSubplot at 0x7f3aa66529b0>"
      ]
     },
     "execution_count": 97,
     "metadata": {},
     "output_type": "execute_result"
    },
    {
     "data": {
      "image/png": "[encoded data removed]",
      "text/plain": [
       "<Figure size 432x288 with 1 Axes>"
      ]
     },
     "metadata": {
      "needs_background": "light"
     },
     "output_type": "display_data"
    }
   ],
   "source": [
    "sns.scatterplot(data=lasso, x=\"pclass\", y=\"survived\")\n",
    "sns.scatterplot(data=read, x=\"pclass\", y=\"yhat\")"
   ]
  },
  {
   "cell_type": "code",
   "execution_count": 98,
   "metadata": {},
   "outputs": [
    {
     "data": {
      "text/plain": [
       "<matplotlib.axes._subplots.AxesSubplot at 0x7f3aa66e94a8>"
      ]
     },
     "execution_count": 98,
     "metadata": {},
     "output_type": "execute_result"
    },
    {
     "data": {
      "image/png": "[encoded data removed]",
      "text/plain": [
       "<Figure size 432x288 with 1 Axes>"
      ]
     },
     "metadata": {
      "needs_background": "light"
     },
     "output_type": "display_data"
    }
   ],
   "source": [
    "sns.scatterplot(data=lasso, x=\"adult_male\", y=\"survived\")"
   ]
  },
  {
   "cell_type": "code",
   "execution_count": 99,
   "metadata": {},
   "outputs": [
    {
     "data": {
      "text/plain": [
       "<matplotlib.axes._subplots.AxesSubplot at 0x7f3aa66d6470>"
      ]
     },
     "execution_count": 99,
     "metadata": {},
     "output_type": "execute_result"
    },
    {
     "data": {
      "image/png": "[encoded data removed]",
      "text/plain": [
       "<Figure size 432x288 with 1 Axes>"
      ]
     },
     "metadata": {
      "needs_background": "light"
     },
     "output_type": "display_data"
    }
   ],
   "source": [
    "sns.scatterplot(data=read, x=\"adult_male\", y=\"yhat\")"
   ]
  },
  {
   "cell_type": "markdown",
   "metadata": {},
   "source": [
    "From what we can tell, there is no major improvement to be made by regularizing our regression."
   ]
  },
  {
   "cell_type": "markdown",
   "metadata": {},
   "source": [
    "# House Price prediction\n",
    "\n",
    "Using the techniques you learned, use everything you can to build the best **interpretable** (eg. non-regularized) regression model on the `house_price.csv` dataset. You also have `house_price_data_description.txt` to help -- full description of each column.\n",
    "\n",
    "Here's a brief version of what you'll find in the data description file.\n",
    "\n",
    "**SalePrice** - the property's sale price in dollars. **This is the target variable that you're trying to predict.**\n",
    "\n",
    "Here are the features you can use (or engineer into new features!) for your `X` matrix:\n",
    "\n",
    "    MSSubClass: The building class\n",
    "    MSZoning: The general zoning classification\n",
    "    LotFrontage: Linear feet of street connected to property\n",
    "    LotArea: Lot size in square feet\n",
    "    Street: Type of road access\n",
    "    Alley: Type of alley access\n",
    "    LotShape: General shape of property\n",
    "    LandContour: Flatness of the property\n",
    "    Utilities: Type of utilities available\n",
    "    LotConfig: Lot configuration\n",
    "    LandSlope: Slope of property\n",
    "    Neighborhood: Physical locations within Ames city limits\n",
    "    Condition1: Proximity to main road or railroad\n",
    "    Condition2: Proximity to main road or railroad (if a second is present)\n",
    "    BldgType: Type of dwelling\n",
    "    HouseStyle: Style of dwelling\n",
    "    OverallQual: Overall material and finish quality\n",
    "    OverallCond: Overall condition rating\n",
    "    YearBuilt: Original construction date\n",
    "    YearRemodAdd: Remodel date\n",
    "    RoofStyle: Type of roof\n",
    "    RoofMatl: Roof material\n",
    "    Exterior1st: Exterior covering on house\n",
    "    Exterior2nd: Exterior covering on house (if more than one material)\n",
    "    MasVnrType: Masonry veneer type\n",
    "    MasVnrArea: Masonry veneer area in square feet\n",
    "    ExterQual: Exterior material quality\n",
    "    ExterCond: Present condition of the material on the exterior\n",
    "    Foundation: Type of foundation\n",
    "    BsmtQual: Height of the basement\n",
    "    BsmtCond: General condition of the basement\n",
    "    BsmtExposure: Walkout or garden level basement walls\n",
    "    BsmtFinType1: Quality of basement finished area\n",
    "    BsmtFinSF1: Type 1 finished square feet\n",
    "    BsmtFinType2: Quality of second finished area (if present)\n",
    "    BsmtFinSF2: Type 2 finished square feet\n",
    "    BsmtUnfSF: Unfinished square feet of basement area\n",
    "    TotalBsmtSF: Total square feet of basement area\n",
    "    Heating: Type of heating\n",
    "    HeatingQC: Heating quality and condition\n",
    "    CentralAir: Central air conditioning\n",
    "    Electrical: Electrical system\n",
    "    1stFlrSF: First Floor square feet\n",
    "    2ndFlrSF: Second floor square feet\n",
    "    LowQualFinSF: Low quality finished square feet (all floors)\n",
    "    GrLivArea: Above grade (ground) living area square feet\n",
    "    BsmtFullBath: Basement full bathrooms\n",
    "    BsmtHalfBath: Basement half bathrooms\n",
    "    FullBath: Full bathrooms above grade\n",
    "    HalfBath: Half baths above grade\n",
    "    Bedroom: Number of bedrooms above basement level\n",
    "    Kitchen: Number of kitchens\n",
    "    KitchenQual: Kitchen quality\n",
    "    TotRmsAbvGrd: Total rooms above grade (does not include bathrooms)\n",
    "    Functional: Home functionality rating\n",
    "    Fireplaces: Number of fireplaces\n",
    "    FireplaceQu: Fireplace quality\n",
    "    GarageType: Garage location\n",
    "    GarageYrBlt: Year garage was built\n",
    "    GarageFinish: Interior finish of the garage\n",
    "    GarageCars: Size of garage in car capacity\n",
    "    GarageArea: Size of garage in square feet\n",
    "    GarageQual: Garage quality\n",
    "    GarageCond: Garage condition\n",
    "    PavedDrive: Paved driveway\n",
    "    WoodDeckSF: Wood deck area in square feet\n",
    "    OpenPorchSF: Open porch area in square feet\n",
    "    EnclosedPorch: Enclosed porch area in square feet\n",
    "    3SsnPorch: Three season porch area in square feet\n",
    "    ScreenPorch: Screen porch area in square feet\n",
    "    PoolArea: Pool area in square feet\n",
    "    PoolQC: Pool quality\n",
    "    Fence: Fence quality\n",
    "    MiscFeature: Miscellaneous feature not covered in other categories\n",
    "    MiscVal: $Value of miscellaneous feature\n",
    "    MoSold: Month Sold\n",
    "    YrSold: Year Sold\n",
    "    SaleType: Type of sale\n",
    "    SaleCondition: Condition of sale\n"
   ]
  },
  {
   "cell_type": "code",
   "execution_count": 133,
   "metadata": {},
   "outputs": [],
   "source": [
    "import pandas as pd\n",
    "from sklearn.metrics import mean_squared_error\n",
    "\n",
    "SaleCondition = [\"Normal\",\"Abnorml\",\"Partial\",\"Family\",\"Alloca\",\"AdjLand\",\"Abnormal Sale\"]\n",
    "hs = pd.read_csv('data/house_price.csv')\n",
    "hs['NewGarage'] = (hs.GarageYrBlt > hs['GarageYrBlt'].describe()['50%']).astype(float)\n",
    "hs['Has2ndFlr'] = (hs['2ndFlrSF'] > 0).astype(float)\n",
    "hs['HasPool'] = (hs['PoolArea'] > 0).astype(float)\n",
    "hs['SaleCondition'] = hs.SaleCondition.apply(lambda x: SaleCondition.index(x)).astype(float)\n",
    "continuous_vars = [\n",
    "    'LotFrontage',\n",
    "    'LotArea',\n",
    "    'YearBuilt',\n",
    "    'YearRemodAdd',\n",
    "    'MasVnrArea',\n",
    "    'HalfBath',\n",
    "    'FullBath',\n",
    "    'BsmtHalfBath',\n",
    "    'BsmtFullBath',\n",
    "    'GrLivArea',\n",
    "    'LowQualFinSF',\n",
    "    '2ndFlrSF',\n",
    "    '1stFlrSF',\n",
    "    'Fireplaces',\n",
    "    'WoodDeckSF',\n",
    "    'OpenPorchSF',\n",
    "    'EnclosedPorch',\n",
    "    '3SsnPorch',\n",
    "    'ScreenPorch',\n",
    "    'PoolArea',\n",
    "    'MiscVal',\n",
    "    'MoSold',\n",
    "    'YrSold',\n",
    "    'NewGarage',\n",
    "    'Has2ndFlr',\n",
    "    'HasPool',\n",
    "    'OverallQual',\n",
    "    'OverallCond',\n",
    "    'TotRmsAbvGrd',\n",
    "    'GarageCars',\n",
    "    'SaleCondition'\n",
    "]\n",
    "boolean_vars = [\n",
    "    'CentralAir',\n",
    "    'GarageYrBlt',\n",
    "    'HasGarage'\n",
    "]\n",
    "quanlitative_vars = list(set(hs.columns) - set(continuous_vars) - set(boolean_vars))\n",
    "hs = hs[hs.SalePrice <= 398000]\n",
    "hs = hs[hs['LotArea'] <= hs['LotArea'].describe()['75%']]\n",
    "hs = hs[hs['YearBuilt'] >= 1960]\n",
    "hs = hs[hs.OverallCond > 2]\n",
    "\n",
    "hs = hs.fillna(0.)\n",
    "y = hs.SalePrice"
   ]
  },
  {
   "cell_type": "markdown",
   "metadata": {},
   "source": [
    "Possible new features:\n",
    "1. Has garage\n",
    "2. Has second floor\n",
    "3. Has masonry veneer\n",
    "4. Has been remodelled\n",
    "5. Kitchen\n",
    "6. KitchenQual\n",
    "7. IsNew (use SaleCondition == Partial)\n",
    "\n",
    "8. Has pool (PoolQC == NA)"
   ]
  },
  {
   "cell_type": "code",
   "execution_count": null,
   "metadata": {},
   "outputs": [],
   "source": []
  },
  {
   "cell_type": "code",
   "execution_count": 134,
   "metadata": {},
   "outputs": [
    {
     "data": {
      "text/html": [
       "<table class=\"simpletable\">\n",
       "<caption>OLS Regression Results</caption>\n",
       "<tr>\n",
       "  <th>Dep. Variable:</th>        <td>SalePrice</td>    <th>  R-squared:         </th> <td>   0.771</td> \n",
       "</tr>\n",
       "<tr>\n",
       "  <th>Model:</th>                   <td>OLS</td>       <th>  Adj. R-squared:    </th> <td>   0.769</td> \n",
       "</tr>\n",
       "<tr>\n",
       "  <th>Method:</th>             <td>Least Squares</td>  <th>  F-statistic:       </th> <td>   326.6</td> \n",
       "</tr>\n",
       "<tr>\n",
       "  <th>Date:</th>             <td>Fri, 22 Jan 2021</td> <th>  Prob (F-statistic):</th> <td>1.52e-212</td>\n",
       "</tr>\n",
       "<tr>\n",
       "  <th>Time:</th>                 <td>00:28:09</td>     <th>  Log-Likelihood:    </th> <td> -7992.9</td> \n",
       "</tr>\n",
       "<tr>\n",
       "  <th>No. Observations:</th>      <td>   687</td>      <th>  AIC:               </th> <td>1.600e+04</td>\n",
       "</tr>\n",
       "<tr>\n",
       "  <th>Df Residuals:</th>          <td>   679</td>      <th>  BIC:               </th> <td>1.604e+04</td>\n",
       "</tr>\n",
       "<tr>\n",
       "  <th>Df Model:</th>              <td>     7</td>      <th>                     </th>     <td> </td>    \n",
       "</tr>\n",
       "<tr>\n",
       "  <th>Covariance Type:</th>      <td>nonrobust</td>    <th>                     </th>     <td> </td>    \n",
       "</tr>\n",
       "</table>\n",
       "<table class=\"simpletable\">\n",
       "<tr>\n",
       "        <td></td>           <th>coef</th>     <th>std err</th>      <th>t</th>      <th>P>|t|</th>  <th>[0.025</th>    <th>0.975]</th>  \n",
       "</tr>\n",
       "<tr>\n",
       "  <th>const</th>         <td>-8.369e+05</td> <td>  1.7e+05</td> <td>   -4.908</td> <td> 0.000</td> <td>-1.17e+06</td> <td>-5.02e+05</td>\n",
       "</tr>\n",
       "<tr>\n",
       "  <th>SaleCondition</th> <td> 3838.6955</td> <td> 1352.958</td> <td>    2.837</td> <td> 0.005</td> <td> 1182.211</td> <td> 6495.180</td>\n",
       "</tr>\n",
       "<tr>\n",
       "  <th>TotRmsAbvGrd</th>  <td>-3733.9468</td> <td> 1297.681</td> <td>   -2.877</td> <td> 0.004</td> <td>-6281.896</td> <td>-1185.998</td>\n",
       "</tr>\n",
       "<tr>\n",
       "  <th>OverallQual</th>   <td> 2.051e+04</td> <td> 1404.615</td> <td>   14.601</td> <td> 0.000</td> <td> 1.78e+04</td> <td> 2.33e+04</td>\n",
       "</tr>\n",
       "<tr>\n",
       "  <th>GrLivArea</th>     <td>   63.1153</td> <td>    5.052</td> <td>   12.494</td> <td> 0.000</td> <td>   53.196</td> <td>   73.034</td>\n",
       "</tr>\n",
       "<tr>\n",
       "  <th>YearRemodAdd</th>  <td>  385.5255</td> <td>   87.828</td> <td>    4.390</td> <td> 0.000</td> <td>  213.079</td> <td>  557.972</td>\n",
       "</tr>\n",
       "<tr>\n",
       "  <th>OverallCond</th>   <td> 4926.2778</td> <td> 1305.452</td> <td>    3.774</td> <td> 0.000</td> <td> 2363.070</td> <td> 7489.485</td>\n",
       "</tr>\n",
       "<tr>\n",
       "  <th>GarageCars</th>    <td>  1.38e+04</td> <td> 2146.224</td> <td>    6.432</td> <td> 0.000</td> <td> 9590.717</td> <td>  1.8e+04</td>\n",
       "</tr>\n",
       "</table>\n",
       "<table class=\"simpletable\">\n",
       "<tr>\n",
       "  <th>Omnibus:</th>       <td>114.266</td> <th>  Durbin-Watson:     </th> <td>   2.087</td> \n",
       "</tr>\n",
       "<tr>\n",
       "  <th>Prob(Omnibus):</th> <td> 0.000</td>  <th>  Jarque-Bera (JB):  </th> <td> 493.718</td> \n",
       "</tr>\n",
       "<tr>\n",
       "  <th>Skew:</th>          <td> 0.689</td>  <th>  Prob(JB):          </th> <td>6.17e-108</td>\n",
       "</tr>\n",
       "<tr>\n",
       "  <th>Kurtosis:</th>      <td> 6.918</td>  <th>  Cond. No.          </th> <td>4.03e+05</td> \n",
       "</tr>\n",
       "</table><br/><br/>Notes:<br/>[1] Standard Errors assume that the covariance matrix of the errors is correctly specified.<br/>[2] The condition number is large, 4.03e+05. This might indicate that there are<br/>strong multicollinearity or other numerical problems."
      ],
      "text/plain": [
       "<class 'statsmodels.iolib.summary.Summary'>\n",
       "\"\"\"\n",
       "                            OLS Regression Results                            \n",
       "==============================================================================\n",
       "Dep. Variable:              SalePrice   R-squared:                       0.771\n",
       "Model:                            OLS   Adj. R-squared:                  0.769\n",
       "Method:                 Least Squares   F-statistic:                     326.6\n",
       "Date:                Fri, 22 Jan 2021   Prob (F-statistic):          1.52e-212\n",
       "Time:                        00:28:09   Log-Likelihood:                -7992.9\n",
       "No. Observations:                 687   AIC:                         1.600e+04\n",
       "Df Residuals:                     679   BIC:                         1.604e+04\n",
       "Df Model:                           7                                         \n",
       "Covariance Type:            nonrobust                                         \n",
       "=================================================================================\n",
       "                    coef    std err          t      P>|t|      [0.025      0.975]\n",
       "---------------------------------------------------------------------------------\n",
       "const         -8.369e+05    1.7e+05     -4.908      0.000   -1.17e+06   -5.02e+05\n",
       "SaleCondition  3838.6955   1352.958      2.837      0.005    1182.211    6495.180\n",
       "TotRmsAbvGrd  -3733.9468   1297.681     -2.877      0.004   -6281.896   -1185.998\n",
       "OverallQual    2.051e+04   1404.615     14.601      0.000    1.78e+04    2.33e+04\n",
       "GrLivArea        63.1153      5.052     12.494      0.000      53.196      73.034\n",
       "YearRemodAdd    385.5255     87.828      4.390      0.000     213.079     557.972\n",
       "OverallCond    4926.2778   1305.452      3.774      0.000    2363.070    7489.485\n",
       "GarageCars      1.38e+04   2146.224      6.432      0.000    9590.717     1.8e+04\n",
       "==============================================================================\n",
       "Omnibus:                      114.266   Durbin-Watson:                   2.087\n",
       "Prob(Omnibus):                  0.000   Jarque-Bera (JB):              493.718\n",
       "Skew:                           0.689   Prob(JB):                    6.17e-108\n",
       "Kurtosis:                       6.918   Cond. No.                     4.03e+05\n",
       "==============================================================================\n",
       "\n",
       "Notes:\n",
       "[1] Standard Errors assume that the covariance matrix of the errors is correctly specified.\n",
       "[2] The condition number is large, 4.03e+05. This might indicate that there are\n",
       "strong multicollinearity or other numerical problems.\n",
       "\"\"\""
      ]
     },
     "execution_count": 134,
     "metadata": {},
     "output_type": "execute_result"
    }
   ],
   "source": [
    "\n",
    "\"\"\"\n",
    "These are variables we exclude from our initial list of predictors to consider\n",
    "after looking at their distributions, and the relevance of their outliers\n",
    "\"\"\"\n",
    "exclude_vars = [\n",
    "    'HalfBath',\n",
    "    'FullBath',\n",
    "    'MiscVal',\n",
    "    'BsmtHalfBath',\n",
    "    '3SsnPorch',\n",
    "    'YrSold',\n",
    "    'MoSold',\n",
    "    'LowQualFinSF',\n",
    "    '2ndFlrSF',\n",
    "    'OpenPorchSF',\n",
    "    'PoolArea',\n",
    "    'GarageYrBlt',\n",
    "    'WoodDeckSF',\n",
    "    'ScreenPorch',\n",
    "    'EnclosedPorch',\n",
    "    'BsmtFullBath',\n",
    "    'MasVnrArea',\n",
    "#     'Fireplaces',\n",
    "    '1stFlrSF',\n",
    "    'LotFrontage',\n",
    "    'NewGarage',\n",
    "    'HasPool',\n",
    "    'Has2ndFlr',\n",
    "    'YearBuilt',\n",
    "#     'OverallCond',\n",
    "#     'SaleCondition',\n",
    "    'Fireplaces',\n",
    "#     'OverallQual',\n",
    "#     'OverallCond',\n",
    "#     'TotRmsAbvGrd',\n",
    "#     'GarageCars',\n",
    "#     'SaleCondition',\n",
    "#     'YearRemodAdd',\n",
    "    'LotArea'\n",
    "]\n",
    "\n",
    "\n",
    "using_cols = list(set(continuous_vars) - set(exclude_vars))\n",
    "use = hs.copy()\n",
    "for ft in using_cols:\n",
    "    use[ft+'_r'] = use[ft] ** 2\n",
    "    \n",
    "conths = use[using_cols]\n",
    "\n",
    "x = sm.add_constant(conths)\n",
    "y = use.SalePrice\n",
    "est = sm.OLS(y, x).fit()\n",
    "corr = conths.corr()\n",
    "corr = corr > 0.3\n",
    "est.summary()\n",
    "# corr"
   ]
  },
  {
   "cell_type": "code",
   "execution_count": 135,
   "metadata": {},
   "outputs": [
    {
     "data": {
      "text/plain": [
       "<matplotlib.axes._subplots.AxesSubplot at 0x7f3aa3f31748>"
      ]
     },
     "execution_count": 135,
     "metadata": {},
     "output_type": "execute_result"
    },
    {
     "data": {
      "image/png": "[encoded data removed]",
      "text/plain": [
       "<Figure size 432x288 with 1 Axes>"
      ]
     },
     "metadata": {
      "needs_background": "light"
     },
     "output_type": "display_data"
    }
   ],
   "source": [
    "import seaborn as sns\n",
    "sns.regplot(x=\"GrLivArea\", y=\"SalePrice\", data=use,\n",
    "                 scatter_kws={\"s\": 80},\n",
    "                 order=2, ci=None)"
   ]
  },
  {
   "cell_type": "code",
   "execution_count": 136,
   "metadata": {},
   "outputs": [
    {
     "data": {
      "text/plain": [
       "<matplotlib.axes._subplots.AxesSubplot at 0x7f3aa3f5aa20>"
      ]
     },
     "execution_count": 136,
     "metadata": {},
     "output_type": "execute_result"
    },
    {
     "data": {
      "image/png": "[encoded data removed]",
      "text/plain": [
       "<Figure size 432x288 with 1 Axes>"
      ]
     },
     "metadata": {
      "needs_background": "light"
     },
     "output_type": "display_data"
    }
   ],
   "source": [
    "sns.regplot(x=\"OverallQual\", y=\"SalePrice\", data=use,\n",
    "                 scatter_kws={\"s\": 80},\n",
    "                 order=2, ci=None)"
   ]
  },
  {
   "cell_type": "code",
   "execution_count": 137,
   "metadata": {},
   "outputs": [
    {
     "data": {
      "text/plain": [
       "<matplotlib.axes._subplots.AxesSubplot at 0x7f3aa3effc50>"
      ]
     },
     "execution_count": 137,
     "metadata": {},
     "output_type": "execute_result"
    },
    {
     "data": {
      "image/png": "[encoded data removed]",
      "text/plain": [
       "<Figure size 432x288 with 1 Axes>"
      ]
     },
     "metadata": {
      "needs_background": "light"
     },
     "output_type": "display_data"
    }
   ],
   "source": [
    "sns.regplot(x=\"OverallCond\", y=\"SalePrice\", data=use,order=3)"
   ]
  },
  {
   "cell_type": "code",
   "execution_count": 138,
   "metadata": {},
   "outputs": [
    {
     "data": {
      "text/plain": [
       "<matplotlib.axes._subplots.AxesSubplot at 0x7f3aa5f7f828>"
      ]
     },
     "execution_count": 138,
     "metadata": {},
     "output_type": "execute_result"
    },
    {
     "data": {
      "image/png": "[encoded data removed]",
      "text/plain": [
       "<Figure size 432x288 with 1 Axes>"
      ]
     },
     "metadata": {
      "needs_background": "light"
     },
     "output_type": "display_data"
    }
   ],
   "source": [
    "sns.regplot(x=\"SaleCondition\", y=\"SalePrice\", data=use,order=2)"
   ]
  },
  {
   "cell_type": "code",
   "execution_count": 139,
   "metadata": {},
   "outputs": [
    {
     "data": {
      "text/plain": [
       "<matplotlib.axes._subplots.AxesSubplot at 0x7f3aa60c8c18>"
      ]
     },
     "execution_count": 139,
     "metadata": {},
     "output_type": "execute_result"
    },
    {
     "data": {
      "image/png": "[encoded data removed]",
      "text/plain": [
       "<Figure size 432x288 with 1 Axes>"
      ]
     },
     "metadata": {
      "needs_background": "light"
     },
     "output_type": "display_data"
    }
   ],
   "source": [
    "sns.regplot(x=\"Has2ndFlr\", y=\"SalePrice\", data=use,)"
   ]
  },
  {
   "cell_type": "code",
   "execution_count": 140,
   "metadata": {},
   "outputs": [
    {
     "data": {
      "text/plain": [
       "<matplotlib.axes._subplots.AxesSubplot at 0x7f3aa3d782e8>"
      ]
     },
     "execution_count": 140,
     "metadata": {},
     "output_type": "execute_result"
    },
    {
     "data": {
      "image/png": "[encoded data removed]",
      "text/plain": [
       "<Figure size 432x288 with 1 Axes>"
      ]
     },
     "metadata": {
      "needs_background": "light"
     },
     "output_type": "display_data"
    }
   ],
   "source": [
    "\n",
    "sns.regplot(x=\"GarageCars\", y=\"SalePrice\", data=use)\n"
   ]
  },
  {
   "cell_type": "code",
   "execution_count": 141,
   "metadata": {},
   "outputs": [
    {
     "data": {
      "text/plain": [
       "<matplotlib.axes._subplots.AxesSubplot at 0x7f3aa3ce6b38>"
      ]
     },
     "execution_count": 141,
     "metadata": {},
     "output_type": "execute_result"
    },
    {
     "data": {
      "image/png": "[encoded data removed]",
      "text/plain": [
       "<Figure size 432x288 with 1 Axes>"
      ]
     },
     "metadata": {
      "needs_background": "light"
     },
     "output_type": "display_data"
    }
   ],
   "source": [
    "sns.regplot(x=\"TotRmsAbvGrd\", y=\"SalePrice\", data=use)"
   ]
  },
  {
   "cell_type": "code",
   "execution_count": 142,
   "metadata": {},
   "outputs": [
    {
     "data": {
      "text/plain": [
       "<matplotlib.axes._subplots.AxesSubplot at 0x7f3aa614c358>"
      ]
     },
     "execution_count": 142,
     "metadata": {},
     "output_type": "execute_result"
    },
    {
     "data": {
      "image/png": "[encoded data removed]",
      "text/plain": [
       "<Figure size 432x288 with 1 Axes>"
      ]
     },
     "metadata": {
      "needs_background": "light"
     },
     "output_type": "display_data"
    }
   ],
   "source": [
    "sns.regplot(x=\"LotArea\", y=\"SalePrice\", data=use,order=3)"
   ]
  },
  {
   "cell_type": "code",
   "execution_count": 158,
   "metadata": {},
   "outputs": [
    {
     "data": {
      "text/plain": [
       "<seaborn.axisgrid.FacetGrid at 0x7f3aa65a9390>"
      ]
     },
     "execution_count": 158,
     "metadata": {},
     "output_type": "execute_result"
    },
    {
     "data": {
      "image/png": "[encoded data removed]",
      "text/plain": [
       "<Figure size 360x360 with 1 Axes>"
      ]
     },
     "metadata": {
      "needs_background": "light"
     },
     "output_type": "display_data"
    }
   ],
   "source": [
    "use['y_hat'] = est.predict(x)\n",
    "sns.lmplot(x=\"SalePrice\", y=\"y_hat\", data=use,order=2)"
   ]
  },
  {
   "cell_type": "code",
   "execution_count": 164,
   "metadata": {},
   "outputs": [
    {
     "name": "stdout",
     "output_type": "stream",
     "text": [
      "0.7091966332816892\n"
     ]
    }
   ],
   "source": [
    "from sklearn.metrics import r2_score\n",
    "print(r2_score(y, use2['y_hat']))"
   ]
  },
  {
   "cell_type": "markdown",
   "metadata": {},
   "source": [
    "Our analysis took on the approach that many predictors where subjective factors (such as a the material used for some parts of a home), which are materials that individuals would most likely give different prices to when considering the purchase of a house.\n",
    "This led to the assumption that, due to this, there must have been a lot of dependence between several columns.\n",
    "As such:\n",
    "1. we transformed some continuous predictors into more binary or categorical predictors.\n",
    "2. we removed entries that had significant outliers in the predictors we were interested in, this in turn, removed some price abnormalities (huge lots, going for much more than lots that were much smaller for example)\n",
    "3. we did the latter by filtering out only values which were in the first 75% of values.\n",
    "\n",
    "While our predictions correlate with our observed values with an $R^2$ of 0.76, we might have a multicolinearity problem. For this, let's try applying VIF analysis to extract a small number of predictors who do not have any multicolinearity."
   ]
  },
  {
   "cell_type": "markdown",
   "metadata": {},
   "source": [
    "## Using VIF to exclude columns"
   ]
  },
  {
   "cell_type": "code",
   "execution_count": 145,
   "metadata": {},
   "outputs": [],
   "source": [
    "from statsmodels.stats.outliers_influence import variance_inflation_factor\n",
    "\n",
    "\n",
    "filt = hs[continuous_vars]\n",
    "# filt = filt.dropna()\n",
    "fts = list(filt.columns)\n",
    "vif = pd.DataFrame({\n",
    "    'ft': fts\n",
    "})\n",
    "\n",
    "def r_s(ft, df):\n",
    "    x = df[list(set(df.columns) - set([ft]))]\n",
    "    y = df[ft]\n",
    "    est = sm.OLS(y,sm.add_constant(x)).fit()\n",
    "    return est.rsquared\n",
    "\n",
    "vif['r2'] = vif['ft'].apply(lambda x: r_s(x, filt))\n",
    "\n",
    "vif['vif'] = vif['r2'].apply(lambda x: 1000 if x == 1 else (1 / (1 - x)))\n",
    "\n",
    "vif['keep'] = vif['vif'] < 5\n",
    "\n",
    "hs = hs.fillna(0.)\n",
    "cols_to_use = vif[vif['keep']]['ft'].tolist()"
   ]
  },
  {
   "cell_type": "code",
   "execution_count": 147,
   "metadata": {},
   "outputs": [
    {
     "data": {
      "text/html": [
       "<table class=\"simpletable\">\n",
       "<caption>OLS Regression Results</caption>\n",
       "<tr>\n",
       "  <th>Dep. Variable:</th>        <td>SalePrice</td>    <th>  R-squared:         </th> <td>   0.709</td> \n",
       "</tr>\n",
       "<tr>\n",
       "  <th>Model:</th>                   <td>OLS</td>       <th>  Adj. R-squared:    </th> <td>   0.707</td> \n",
       "</tr>\n",
       "<tr>\n",
       "  <th>Method:</th>             <td>Least Squares</td>  <th>  F-statistic:       </th> <td>   332.2</td> \n",
       "</tr>\n",
       "<tr>\n",
       "  <th>Date:</th>             <td>Fri, 22 Jan 2021</td> <th>  Prob (F-statistic):</th> <td>6.45e-180</td>\n",
       "</tr>\n",
       "<tr>\n",
       "  <th>Time:</th>                 <td>00:28:19</td>     <th>  Log-Likelihood:    </th> <td> -8075.0</td> \n",
       "</tr>\n",
       "<tr>\n",
       "  <th>No. Observations:</th>      <td>   687</td>      <th>  AIC:               </th> <td>1.616e+04</td>\n",
       "</tr>\n",
       "<tr>\n",
       "  <th>Df Residuals:</th>          <td>   681</td>      <th>  BIC:               </th> <td>1.619e+04</td>\n",
       "</tr>\n",
       "<tr>\n",
       "  <th>Df Model:</th>              <td>     5</td>      <th>                     </th>     <td> </td>    \n",
       "</tr>\n",
       "<tr>\n",
       "  <th>Covariance Type:</th>      <td>nonrobust</td>    <th>                     </th>     <td> </td>    \n",
       "</tr>\n",
       "</table>\n",
       "<table class=\"simpletable\">\n",
       "<tr>\n",
       "        <td></td>           <th>coef</th>     <th>std err</th>      <th>t</th>      <th>P>|t|</th>  <th>[0.025</th>    <th>0.975]</th>  \n",
       "</tr>\n",
       "<tr>\n",
       "  <th>const</th>         <td> -1.18e+05</td> <td> 1.21e+04</td> <td>   -9.728</td> <td> 0.000</td> <td>-1.42e+05</td> <td>-9.42e+04</td>\n",
       "</tr>\n",
       "<tr>\n",
       "  <th>SaleCondition</th> <td> 2500.3307</td> <td> 1495.816</td> <td>    1.672</td> <td> 0.095</td> <td> -436.635</td> <td> 5437.297</td>\n",
       "</tr>\n",
       "<tr>\n",
       "  <th>TotRmsAbvGrd</th>  <td> 8231.6970</td> <td>  919.389</td> <td>    8.953</td> <td> 0.000</td> <td> 6426.520</td> <td>    1e+04</td>\n",
       "</tr>\n",
       "<tr>\n",
       "  <th>OverallQual</th>   <td> 2.988e+04</td> <td> 1293.477</td> <td>   23.100</td> <td> 0.000</td> <td> 2.73e+04</td> <td> 3.24e+04</td>\n",
       "</tr>\n",
       "<tr>\n",
       "  <th>OverallCond</th>   <td> 4274.5313</td> <td> 1456.705</td> <td>    2.934</td> <td> 0.003</td> <td> 1414.359</td> <td> 7134.704</td>\n",
       "</tr>\n",
       "<tr>\n",
       "  <th>GarageCars</th>    <td>  1.88e+04</td> <td> 2365.631</td> <td>    7.946</td> <td> 0.000</td> <td> 1.42e+04</td> <td> 2.34e+04</td>\n",
       "</tr>\n",
       "</table>\n",
       "<table class=\"simpletable\">\n",
       "<tr>\n",
       "  <th>Omnibus:</th>       <td>90.921</td> <th>  Durbin-Watson:     </th> <td>   2.069</td>\n",
       "</tr>\n",
       "<tr>\n",
       "  <th>Prob(Omnibus):</th> <td> 0.000</td> <th>  Jarque-Bera (JB):  </th> <td> 241.736</td>\n",
       "</tr>\n",
       "<tr>\n",
       "  <th>Skew:</th>          <td> 0.679</td> <th>  Prob(JB):          </th> <td>3.22e-53</td>\n",
       "</tr>\n",
       "<tr>\n",
       "  <th>Kurtosis:</th>      <td> 5.569</td> <th>  Cond. No.          </th> <td>    111.</td>\n",
       "</tr>\n",
       "</table><br/><br/>Notes:<br/>[1] Standard Errors assume that the covariance matrix of the errors is correctly specified."
      ],
      "text/plain": [
       "<class 'statsmodels.iolib.summary.Summary'>\n",
       "\"\"\"\n",
       "                            OLS Regression Results                            \n",
       "==============================================================================\n",
       "Dep. Variable:              SalePrice   R-squared:                       0.709\n",
       "Model:                            OLS   Adj. R-squared:                  0.707\n",
       "Method:                 Least Squares   F-statistic:                     332.2\n",
       "Date:                Fri, 22 Jan 2021   Prob (F-statistic):          6.45e-180\n",
       "Time:                        00:28:19   Log-Likelihood:                -8075.0\n",
       "No. Observations:                 687   AIC:                         1.616e+04\n",
       "Df Residuals:                     681   BIC:                         1.619e+04\n",
       "Df Model:                           5                                         \n",
       "Covariance Type:            nonrobust                                         \n",
       "=================================================================================\n",
       "                    coef    std err          t      P>|t|      [0.025      0.975]\n",
       "---------------------------------------------------------------------------------\n",
       "const          -1.18e+05   1.21e+04     -9.728      0.000   -1.42e+05   -9.42e+04\n",
       "SaleCondition  2500.3307   1495.816      1.672      0.095    -436.635    5437.297\n",
       "TotRmsAbvGrd   8231.6970    919.389      8.953      0.000    6426.520       1e+04\n",
       "OverallQual    2.988e+04   1293.477     23.100      0.000    2.73e+04    3.24e+04\n",
       "OverallCond    4274.5313   1456.705      2.934      0.003    1414.359    7134.704\n",
       "GarageCars      1.88e+04   2365.631      7.946      0.000    1.42e+04    2.34e+04\n",
       "==============================================================================\n",
       "Omnibus:                       90.921   Durbin-Watson:                   2.069\n",
       "Prob(Omnibus):                  0.000   Jarque-Bera (JB):              241.736\n",
       "Skew:                           0.679   Prob(JB):                     3.22e-53\n",
       "Kurtosis:                       5.569   Cond. No.                         111.\n",
       "==============================================================================\n",
       "\n",
       "Notes:\n",
       "[1] Standard Errors assume that the covariance matrix of the errors is correctly specified.\n",
       "\"\"\""
      ]
     },
     "execution_count": 147,
     "metadata": {},
     "output_type": "execute_result"
    }
   ],
   "source": [
    "using_cols = list(set(cols_to_use) - set(exclude_vars))\n",
    "use2 = hs.copy()\n",
    "    \n",
    "conths = use2[using_cols]\n",
    "\n",
    "x2 = sm.add_constant(conths)\n",
    "y2 = use.SalePrice\n",
    "est2 = sm.OLS(y2, x2).fit()\n",
    "est2.summary()"
   ]
  },
  {
   "cell_type": "code",
   "execution_count": 148,
   "metadata": {},
   "outputs": [
    {
     "data": {
      "text/plain": [
       "<seaborn.axisgrid.FacetGrid at 0x7f3aa6b12780>"
      ]
     },
     "execution_count": 148,
     "metadata": {},
     "output_type": "execute_result"
    },
    {
     "data": {
      "image/png": "[encoded data removed]",
      "text/plain": [
       "<Figure size 360x360 with 1 Axes>"
      ]
     },
     "metadata": {
      "needs_background": "light"
     },
     "output_type": "display_data"
    }
   ],
   "source": [
    "use2['y_hat'] = est2.predict(x2)\n",
    "sns.lmplot(x=\"SalePrice\", y=\"y_hat\", data=use2,order=2)"
   ]
  },
  {
   "cell_type": "code",
   "execution_count": 165,
   "metadata": {},
   "outputs": [
    {
     "name": "stdout",
     "output_type": "stream",
     "text": [
      "0.7091966332816892\n"
     ]
    }
   ],
   "source": [
    "print(r2_score(y, use2['y_hat']))"
   ]
  },
  {
   "cell_type": "markdown",
   "metadata": {},
   "source": [
    "Despite excluding columns based on VIF scores, we get an $R^2$ of 0.710, or 0.61 less than our model that did not use VIF to find a suitable model. Let's try to appy a polynomial fit to our VIF columns:\n"
   ]
  },
  {
   "cell_type": "code",
   "execution_count": 166,
   "metadata": {},
   "outputs": [
    {
     "name": "stdout",
     "output_type": "stream",
     "text": [
      "948231932.173526\n"
     ]
    }
   ],
   "source": [
    "from sklearn.linear_model import LinearRegression\n",
    "from sklearn.preprocessing import PolynomialFeatures\n",
    "\n",
    "use3 = hs.copy()\n",
    "# for ft in using_cols:\n",
    "#     use3[ft+'_r'] = use3[ft] ** 2\n",
    "use3 = use3[using_cols]\n",
    "x3 = sm.add_constant(conths)\n",
    "y3 = use.SalePrice\n",
    "\n",
    "x_ = PolynomialFeatures(degree=1, include_bias=False).fit_transform(x3)\n",
    "\n",
    "est3 = LinearRegression().fit(x_, y)\n",
    "pred_3 = est3.predict(x_)"
   ]
  },
  {
   "cell_type": "code",
   "execution_count": null,
   "metadata": {},
   "outputs": [],
   "source": []
  }
 ],
 "metadata": {
  "anaconda-cloud": {},
  "kernelspec": {
   "display_name": "Python 3",
   "language": "python",
   "name": "python3"
  },
  "language_info": {
   "codemirror_mode": {
    "name": "ipython",
    "version": 3
   },
   "file_extension": ".py",
   "mimetype": "text/x-python",
   "name": "python",
   "nbconvert_exporter": "python",
   "pygments_lexer": "ipython3",
   "version": "3.7.0"
  }
 },
 "nbformat": 4,
 "nbformat_minor": 1
}
